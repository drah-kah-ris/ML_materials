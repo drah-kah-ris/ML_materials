{
 "cells": [
  {
   "cell_type": "markdown",
   "metadata": {},
   "source": [
    "# Latent Dirichlet Allocation for Text Data\n",
    "\n",
    "In this assignment you will\n",
    "\n",
    "* apply standard preprocessing techniques on Wikipedia text data\n",
    "* use GraphLab Create to fit a Latent Dirichlet allocation (LDA) model\n",
    "* explore and interpret the results, including topic keywords and topic assignments for documents\n",
    "\n",
    "Recall that a major feature distinguishing the LDA model from our previously explored methods is the notion of *mixed membership*. Throughout the course so far, our models have assumed that each data point belongs to a single cluster. k-means determines membership simply by shortest distance to the cluster center, and Gaussian mixture models suppose that each data point is drawn from one of their component mixture distributions. In many cases, though, it is more realistic to think of data as genuinely belonging to more than one cluster or category - for example, if we have a model for text data that includes both \"Politics\" and \"World News\" categories, then an article about a recent meeting of the United Nations should have membership in both categories rather than being forced into just one.\n",
    "\n",
    "With this in mind, we will use GraphLab Create tools to fit an LDA model to a corpus of Wikipedia articles and examine the results to analyze the impact of a mixed membership approach. In particular, we want to identify the topics discovered by the model in terms of their most important words, and we want to use the model to predict the topic membership distribution for a given document. "
   ]
  },
  {
   "cell_type": "markdown",
   "metadata": {},
   "source": [
    "**Note to Amazon EC2 users**: To conserve memory, make sure to stop all the other notebooks before running this notebook."
   ]
  },
  {
   "cell_type": "markdown",
   "metadata": {},
   "source": [
    "## Text Data Preprocessing\n",
    "We'll start by importing our familiar Wikipedia dataset.\n",
    "\n",
    "The following code block will check if you have the correct version of GraphLab Create. Any version later than 1.8.5 will do. To upgrade, read [this page](https://turi.com/download/upgrade-graphlab-create.html)."
   ]
  },
  {
   "cell_type": "code",
   "execution_count": 1,
   "metadata": {
    "collapsed": false
   },
   "outputs": [
    {
     "name": "stderr",
     "output_type": "stream",
     "text": [
      "A newer version of GraphLab Create (v2.1) is available! Your current version is v2.0.1.\n",
      "You can use pip to upgrade the graphlab-create package. For more information see https://turi.com/products/create/upgrade.\n",
      "[INFO] graphlab.cython.cy_server: GraphLab Create v2.0.1 started. Logging: /tmp/graphlab_server_1470506290.log\n",
      "INFO:graphlab.cython.cy_server:GraphLab Create v2.0.1 started. Logging: /tmp/graphlab_server_1470506290.log\n"
     ]
    },
    {
     "name": "stdout",
     "output_type": "stream",
     "text": [
      "This non-commercial license of GraphLab Create for academic use is assigned to prawin.prof@gmail.com and will expire on October 29, 2016.\n"
     ]
    }
   ],
   "source": [
    "import graphlab as gl\n",
    "import numpy as np\n",
    "import matplotlib.pyplot as plt \n",
    "\n",
    "%matplotlib inline\n",
    "\n",
    "'''Check GraphLab Create version'''\n",
    "from distutils.version import StrictVersion\n",
    "assert (StrictVersion(gl.version) >= StrictVersion('1.8.5')), 'GraphLab Create must be version 1.8.5 or later.'"
   ]
  },
  {
   "cell_type": "code",
   "execution_count": 2,
   "metadata": {
    "collapsed": false
   },
   "outputs": [
    {
     "data": {
      "text/html": [
       "<div style=\"max-height:1000px;max-width:1500px;overflow:auto;\"><table frame=\"box\" rules=\"cols\">\n",
       "    <tr>\n",
       "        <th style=\"padding-left: 1em; padding-right: 1em; text-align: center\">URI</th>\n",
       "        <th style=\"padding-left: 1em; padding-right: 1em; text-align: center\">name</th>\n",
       "        <th style=\"padding-left: 1em; padding-right: 1em; text-align: center\">text</th>\n",
       "    </tr>\n",
       "    <tr>\n",
       "        <td style=\"padding-left: 1em; padding-right: 1em; text-align: center; vertical-align: top\">&lt;http://dbpedia.org/resou<br>rce/Digby_Morrell&gt; ...</td>\n",
       "        <td style=\"padding-left: 1em; padding-right: 1em; text-align: center; vertical-align: top\">Digby Morrell</td>\n",
       "        <td style=\"padding-left: 1em; padding-right: 1em; text-align: center; vertical-align: top\">digby morrell born 10<br>october 1979 is a former ...</td>\n",
       "    </tr>\n",
       "    <tr>\n",
       "        <td style=\"padding-left: 1em; padding-right: 1em; text-align: center; vertical-align: top\">&lt;http://dbpedia.org/resou<br>rce/Alfred_J._Lewy&gt; ...</td>\n",
       "        <td style=\"padding-left: 1em; padding-right: 1em; text-align: center; vertical-align: top\">Alfred J. Lewy</td>\n",
       "        <td style=\"padding-left: 1em; padding-right: 1em; text-align: center; vertical-align: top\">alfred j lewy aka sandy<br>lewy graduated from ...</td>\n",
       "    </tr>\n",
       "    <tr>\n",
       "        <td style=\"padding-left: 1em; padding-right: 1em; text-align: center; vertical-align: top\">&lt;http://dbpedia.org/resou<br>rce/Harpdog_Brown&gt; ...</td>\n",
       "        <td style=\"padding-left: 1em; padding-right: 1em; text-align: center; vertical-align: top\">Harpdog Brown</td>\n",
       "        <td style=\"padding-left: 1em; padding-right: 1em; text-align: center; vertical-align: top\">harpdog brown is a singer<br>and harmonica player who ...</td>\n",
       "    </tr>\n",
       "    <tr>\n",
       "        <td style=\"padding-left: 1em; padding-right: 1em; text-align: center; vertical-align: top\">&lt;http://dbpedia.org/resou<br>rce/Franz_Rottensteiner&gt; ...</td>\n",
       "        <td style=\"padding-left: 1em; padding-right: 1em; text-align: center; vertical-align: top\">Franz Rottensteiner</td>\n",
       "        <td style=\"padding-left: 1em; padding-right: 1em; text-align: center; vertical-align: top\">franz rottensteiner born<br>in waidmannsfeld lower ...</td>\n",
       "    </tr>\n",
       "    <tr>\n",
       "        <td style=\"padding-left: 1em; padding-right: 1em; text-align: center; vertical-align: top\">&lt;http://dbpedia.org/resou<br>rce/G-Enka&gt; ...</td>\n",
       "        <td style=\"padding-left: 1em; padding-right: 1em; text-align: center; vertical-align: top\">G-Enka</td>\n",
       "        <td style=\"padding-left: 1em; padding-right: 1em; text-align: center; vertical-align: top\">henry krvits born 30<br>december 1974 in tallinn ...</td>\n",
       "    </tr>\n",
       "    <tr>\n",
       "        <td style=\"padding-left: 1em; padding-right: 1em; text-align: center; vertical-align: top\">&lt;http://dbpedia.org/resou<br>rce/Sam_Henderson&gt; ...</td>\n",
       "        <td style=\"padding-left: 1em; padding-right: 1em; text-align: center; vertical-align: top\">Sam Henderson</td>\n",
       "        <td style=\"padding-left: 1em; padding-right: 1em; text-align: center; vertical-align: top\">sam henderson born<br>october 18 1969 is an ...</td>\n",
       "    </tr>\n",
       "    <tr>\n",
       "        <td style=\"padding-left: 1em; padding-right: 1em; text-align: center; vertical-align: top\">&lt;http://dbpedia.org/resou<br>rce/Aaron_LaCrate&gt; ...</td>\n",
       "        <td style=\"padding-left: 1em; padding-right: 1em; text-align: center; vertical-align: top\">Aaron LaCrate</td>\n",
       "        <td style=\"padding-left: 1em; padding-right: 1em; text-align: center; vertical-align: top\">aaron lacrate is an<br>american music producer ...</td>\n",
       "    </tr>\n",
       "    <tr>\n",
       "        <td style=\"padding-left: 1em; padding-right: 1em; text-align: center; vertical-align: top\">&lt;http://dbpedia.org/resou<br>rce/Trevor_Ferguson&gt; ...</td>\n",
       "        <td style=\"padding-left: 1em; padding-right: 1em; text-align: center; vertical-align: top\">Trevor Ferguson</td>\n",
       "        <td style=\"padding-left: 1em; padding-right: 1em; text-align: center; vertical-align: top\">trevor ferguson aka john<br>farrow born 11 november ...</td>\n",
       "    </tr>\n",
       "    <tr>\n",
       "        <td style=\"padding-left: 1em; padding-right: 1em; text-align: center; vertical-align: top\">&lt;http://dbpedia.org/resou<br>rce/Grant_Nelson&gt; ...</td>\n",
       "        <td style=\"padding-left: 1em; padding-right: 1em; text-align: center; vertical-align: top\">Grant Nelson</td>\n",
       "        <td style=\"padding-left: 1em; padding-right: 1em; text-align: center; vertical-align: top\">grant nelson born 27<br>april 1971 in london  ...</td>\n",
       "    </tr>\n",
       "    <tr>\n",
       "        <td style=\"padding-left: 1em; padding-right: 1em; text-align: center; vertical-align: top\">&lt;http://dbpedia.org/resou<br>rce/Cathy_Caruth&gt; ...</td>\n",
       "        <td style=\"padding-left: 1em; padding-right: 1em; text-align: center; vertical-align: top\">Cathy Caruth</td>\n",
       "        <td style=\"padding-left: 1em; padding-right: 1em; text-align: center; vertical-align: top\">cathy caruth born 1955 is<br>frank h t rhodes ...</td>\n",
       "    </tr>\n",
       "</table>\n",
       "[59071 rows x 3 columns]<br/>Note: Only the head of the SFrame is printed.<br/>You can use print_rows(num_rows=m, num_columns=n) to print more rows and columns.\n",
       "</div>"
      ],
      "text/plain": [
       "Columns:\n",
       "\tURI\tstr\n",
       "\tname\tstr\n",
       "\ttext\tstr\n",
       "\n",
       "Rows: 59071\n",
       "\n",
       "Data:\n",
       "+-------------------------------+---------------------+\n",
       "|              URI              |         name        |\n",
       "+-------------------------------+---------------------+\n",
       "| <http://dbpedia.org/resour... |    Digby Morrell    |\n",
       "| <http://dbpedia.org/resour... |    Alfred J. Lewy   |\n",
       "| <http://dbpedia.org/resour... |    Harpdog Brown    |\n",
       "| <http://dbpedia.org/resour... | Franz Rottensteiner |\n",
       "| <http://dbpedia.org/resour... |        G-Enka       |\n",
       "| <http://dbpedia.org/resour... |    Sam Henderson    |\n",
       "| <http://dbpedia.org/resour... |    Aaron LaCrate    |\n",
       "| <http://dbpedia.org/resour... |   Trevor Ferguson   |\n",
       "| <http://dbpedia.org/resour... |     Grant Nelson    |\n",
       "| <http://dbpedia.org/resour... |     Cathy Caruth    |\n",
       "+-------------------------------+---------------------+\n",
       "+-------------------------------+\n",
       "|              text             |\n",
       "+-------------------------------+\n",
       "| digby morrell born 10 octo... |\n",
       "| alfred j lewy aka sandy le... |\n",
       "| harpdog brown is a singer ... |\n",
       "| franz rottensteiner born i... |\n",
       "| henry krvits born 30 decem... |\n",
       "| sam henderson born october... |\n",
       "| aaron lacrate is an americ... |\n",
       "| trevor ferguson aka john f... |\n",
       "| grant nelson born 27 april... |\n",
       "| cathy caruth born 1955 is ... |\n",
       "+-------------------------------+\n",
       "[59071 rows x 3 columns]\n",
       "Note: Only the head of the SFrame is printed.\n",
       "You can use print_rows(num_rows=m, num_columns=n) to print more rows and columns."
      ]
     },
     "execution_count": 2,
     "metadata": {},
     "output_type": "execute_result"
    }
   ],
   "source": [
    "# import wiki data\n",
    "wiki = gl.SFrame('people_wiki.gl/')\n",
    "wiki"
   ]
  },
  {
   "cell_type": "markdown",
   "metadata": {},
   "source": [
    "In the original data, each Wikipedia article is represented by a URI, a name, and a string containing the entire text of the article. Recall from the video lectures that LDA requires documents to be represented as a _bag of words_, which ignores word ordering in the document but retains information on how many times each word appears. As we have seen in our previous encounters with text data, words such as 'the', 'a', or 'and' are by far the most frequent, but they appear so commonly in the English language that they tell us almost nothing about how similar or dissimilar two documents might be. \n",
    "\n",
    "Therefore, before we train our LDA model, we will preprocess the Wikipedia data in two steps: first, we will create a bag of words representation for each article, and then we will remove the common words that don't help us to distinguish between documents. For both of these tasks we can use pre-implemented tools from GraphLab Create:"
   ]
  },
  {
   "cell_type": "code",
   "execution_count": 4,
   "metadata": {
    "collapsed": false
   },
   "outputs": [
    {
     "data": {
      "text/plain": [
       "dtype: dict\n",
       "Rows: 59071\n",
       "[{'coach': 2, 'carltons': 1, '2005': 1, 'selection': 1, '21': 1, 'northern': 1, 'bullants': 1, 'perth': 1, 'sydney': 1, '2014': 1, '2011': 1, '2013': 1, 'division': 1, 'brisbaneafter': 1, 'rules': 1, 'assistant': 1, 'spanned': 1, 'early': 1, 'game': 1, 'continued': 1, '44game': 1, 'round': 1, 'parade': 1, 'born': 1, 'clubs': 1, 'college': 1, 'blues': 1, 'falcons': 1, 'hill': 1, 'drawn': 1, 'kangaroos': 3, 'kicked': 1, 'exchange': 1, 'mckernan': 1, '19982000': 1, 'losing': 1, 'essendon': 1, 'teaches': 1, 'box': 1, 'league': 4, 'career': 1, '32': 1, 'david': 1, 'melbourne': 1, 'digby': 1, 'games': 1, 'leading': 2, 'traded': 1, 'goalkicker': 1, 'morrell': 5, 'acted': 1, 'carlton': 2, 'district': 1, 'west': 2, 'hawks': 1, 'draft': 1, 'coburg': 1, 'forward': 1, 'australian': 3, 'recruited': 1, 'shifted': 1, 'club': 5, 'season': 3, 'vflaffiliate': 1, 'goals': 1, '10': 1, 'october': 1, 'footballer': 1, 'victorian': 1, 'played': 3, 'teague': 1, 'strathmore': 1, 'premier': 1, 'delisted': 1, 'australia': 1, 'education': 1, 'physical': 1, 'afl': 1, 'end': 2, 'premiership': 1, 'retiring': 1, 'edflhe': 1, 'corey': 1, 'rookie': 1, 'play': 1, 'coached': 1, 'football': 10, '2008': 1, 'vfl': 1, '1979': 1, 'age': 1, '2002': 1, '2003': 1, '2000': 1, '2001': 1, '2006': 1, '2007': 1, 'time': 1, 'senior': 3, '2009': 1, 'aflfrom': 1, 'playing': 2, 'western': 1}, {'precise': 1, 'thomas': 1, 'disturbances': 1, 'wehr': 1, 'bright': 1, 'sleep': 2, 'nimh': 1, 'monitored': 1, 'disorders': 4, 'chronobiologic': 1, 'treatment': 3, 'rhythm': 1, 'maryland': 1, 'include': 1, 'plasma': 1, 'colleague': 1, 'evening': 2, 'assay': 1, 'pharmacology': 1, 'ophthalmology': 1, 'closely': 1, 'day': 2, 'university': 2, 'morning': 2, 'winter': 1, 'individuals': 1, 'biological': 1, 'mental': 1, 'national': 1, 'circadian': 3, 'laboratory': 1, '24hour': 1, 'sandy': 1, 'mood': 1, 'chicago': 1, 'pattern': 1, 'robert': 1, 'research': 2, 'current': 1, 'health': 2, 'full': 1, 'drifting': 1, 'focused': 1, 'graduated': 1, 'relying': 1, 'lag': 1, 'rhythms': 1, 'jet': 1, 'institute': 1, 'shift': 1, 'prior': 1, 'aka': 1, 'studies': 1, 'blind': 1, 'lewy': 3, 'modalities': 1, 'phasedelay': 1, 'sack': 1, 'precisely': 1, 'working': 1, '1981': 1, 'describes': 1, 'alfred': 1, 'secretion': 1, 'phaseadvance': 1, 'oregon': 3, 'worked': 1, '94': 1, 'md': 1, 'hour': 1, 'developing': 1, 'science': 1, 'work': 1, 'publications': 1, 'scheduled': 1, 'defined': 1, 'december': 1, 'pubmed': 1, 'melatonin': 5, 'vicechair': 1, 'ohsu': 1, 'studying': 1, 'holds': 1, 'administration': 3, 'shifts': 2, 'depression': 1, 'bethesda': 1, 'department': 1, 'maladaptation': 1, 'time': 1, 'phd': 1, 'moving': 1, 'assessed': 1, 'totally': 1, 'types': 1, 'exposure': 3, 'hormone': 1, 'light': 3, 'professor': 1, '25hour': 1, '1973': 1, 'capsule': 1, '2005': 1, 'psychiatry': 2, 'senior': 1}, {'issued': 1, 'nominated': 1, 'years': 1, 'leads': 1, 'tours': 1, 'teamed': 1, 'cds': 1, 'broadcaster': 1, 'harmonica': 2, 'gutsy': 1, 'voted': 1, '2014': 2, 'piano': 1, 'thousands': 1, '2010': 1, 'brown': 2, 'big': 1, 'band': 3, 'hamilton': 1, 'association': 1, 'northwestern': 1, 'performing': 1, 'comprising': 1, 'arthur': 1, 'miles': 1, 'release': 1, 'honored': 1, 'society': 1, 'year': 1, 'home': 2, 'portland': 1, 'harp': 1, 'canada': 2, 'chicago': 2, 'extensively': 1, 'won': 1, 'tens': 1, 'hailing': 1, 'full': 1, 'small': 1, 'active': 1, 'dates': 1, 'canadian': 2, 'influential': 1, 'blind': 1, 'canadas': 1, 'scene': 1, 'venues': 1, 'cd': 1, 'germanyover': 1, 'festivals': 1, 'maple': 1, '1982': 1, 'guest': 1, 'working': 1, 'duo': 1, 'muddy': 1, 'awarded': 1, 'harpdog': 2, 'naturally': 1, 'juggles': 1, 'life': 1, 'club': 1, 'award': 2, 'released': 1, 'toronto': 1, 'combos': 1, '1995': 1, 'holger': 1, 'promoter': 1, 'edmonds': 1, 'recording': 1, 'crossed': 1, 'petersen': 1, 'called': 1, 'classic': 1, 'covers': 1, 'states': 1, 'player': 2, 'graham': 1, 'blues': 9, 'mid1950s': 1, 'united': 1, 'lemon': 1, 'guitarist': 1, '1': 1, 'vancouver': 1, 'browns': 1, 'nw': 1, 'album': 1, 'electric': 1, 'juno': 1, 'albumhe': 1, 'membership': 1, 'oregon': 1, 'singer': 1, 'bluesgospel': 1, 'surveybrown': 1, 'original': 1, 'traditional': 1, 'cascade': 1, 'time': 1, 'playing': 1, 'songs': 1}, {'bauforschung': 1, 'kurdlawitzpreis': 1, 'german': 2, 'ending': 1, 'produced': 2, 'including': 1, 'austrian': 1, 'hundredth': 1, 'merkur': 1, '1942': 1, 'dick': 2, '28': 1, 'lower': 1, 'praised': 1, 'listing': 1, 'stanisaw': 1, 'apek': 1, 'silverberg': 1, 'trnaslations': 1, 'jeanpierre': 1, 'klein': 1, 'translations': 1, 'matters': 1, 'wellss': 1, 'heinlein': 1, 'years': 3, 'association': 1, 'brought': 2, 'olaf': 1, 'fields': 1, 'university': 1, 'journalism': 1, 'herbert': 1, 'january': 1, 'served': 1, 'european': 1, 'zelazny': 1, 'view': 1, 'reference': 1, 'describedroger': 1, 'series': 1, 'rottensteiner': 3, 'born': 1, 'books': 2, 'fifty': 1, 'die': 1, 'phantastische': 1, 'close': 1, 'special': 1, 'phantastischen': 1, 'total': 1, 'abe': 1, 'cordwainer': 1, 'strugatski': 1, 'robert': 1, 'nonwriter': 1, '18': 1, 'critical': 1, 'stapledon': 1, 'receiving': 1, 'numerous': 1, 'public': 1, 'achievements': 1, 'edited': 1, 'comparable': 1, 'romane': 1, 'journal': 2, 'republished': 1, 'lem': 4, 'betterknown': 1, 'york': 1, 'advisor': 1, 'franz': 1, 'philip': 2, 'fifteen': 1, 'publisher': 1, 'works': 3, 'working': 1, 'language': 1, 'asimov': 1, 'sterreichisches': 1, 'controversy': 1, 'american': 1, 'und': 1, 'barry': 1, 'promotion': 1, 'introduced': 1, 'book': 2, 'franke': 1, 'smith': 1, 'number': 3, 'karel': 1, 'fantasy': 1, 'austria': 2, 'kobo': 1, 'bibliothek': 1, 'aldiss': 1, 'awarded': 1, 'institut': 1, 'illustrated': 1, '1980': 1, 'start': 1, 'addition': 1, 'leading': 2, 'negative': 1, 'fiction': 7, 'continental': 1, 'quarber': 1, 'andersonare': 1, 'editor': 2, 'hundred': 1, 'assessment': 1, 'vienna': 2, 'seriesrottensteiner': 1, 'factor': 1, 'andrevonthe': 1, 'authors': 3, 'fantasticrottensteiner': 1, 'highest': 1, 'producing': 1, 'hg': 1, '1998': 1, '1995': 1, 'science': 6, 'work': 1, 'lesser': 1, 'suhrkamp': 1, 'travesties': 1, 'doctorate': 1, 'history': 1, 'nesvadba': 1, 'studied': 1, 'figure': 1, 'stated': 1, 'year': 1, 'brothersin': 1, 'critic': 1, 'eighteen': 1, 'banal': 1, '19791985': 1, 'united': 1, '1969': 1, 'anthology': 1, 'waidmannsfeld': 1, '1963': 1, 'anthologies': 1, 'brian': 1, 'writers': 2, 'recognition': 1, 'provoked': 1, 'stanislaw': 2, 'malzberg': 1, 'statesrottensteiner': 1, 'fr': 1, '2004': 1, 'verlags': 1, 'english': 1, 'josef': 1, 'wells': 1, 'produce': 1, 'librarian': 1, 'englishreading': 1, '1978': 1, '1975': 2, '1973': 1, 'shore': 1, 'greatest': 1, 'volumes': 2, 'gerard': 1, 'occasion': 1, 'sf': 2, 'typical': 1}, {'europe': 1, '1974': 1, '1996': 1, 'gangstergenka': 1, 'armchair': 1, 'oja': 2, 'back': 1, 'joined': 1, 'tugitooli': 1, 'tag': 4, 'palm': 1, 'palmisaar': 1, 'rap': 1, 'year': 2, 'dj': 2, 'paul': 2, 'hit': 1, 'bankruptcy': 1, 'album': 6, 'genkas': 1, 'group': 1, 'estonian': 3, 'revo': 2, 'songs': 5, '23': 1, 'famous': 3, 'vacation': 1, 'cent': 1, '18': 1, 'promo': 1, 'tallinn': 3, 'december': 1, 'born': 1, 'band': 1, 'homophobes': 1, 'toe': 4, 'real': 1, 'solo': 1, 'curtis': 1, 'rapping': 1, 'started': 5, 'big': 1, 'company': 1, 'genka': 5, 'leegion': 1, 'records': 1, 'kuhnja': 1, 'studio': 1, 'legendary': 1, 'pankrot': 1, 'released': 3, '1998': 1, 'schoolmate': 1, 'legendaarne': 3, 'stagename': 1, 'warmup': 1, 'performers': 1, 'gangster': 1, 'island': 1, '30': 1, 'rapper': 1, '50': 1, 'called': 1, 'droopy': 1, 'record': 2, 'tour': 2, '2001': 1, '2006': 1, '2007': 1, '2004': 1, 'henry': 1, 'arhm': 3, 'making': 1, 'rapped': 1, 'consisted': 1, 'krvits': 1, 'producergenka': 1}, {'nominated': 1, 'ended': 1, 'xeroxed': 1, 'niblit': 1, 'alternative': 1, 'captain': 1, 'weekly': 1, 'toilets': 1, 'awardshis': 1, 'earned': 1, 'writer': 1, 'character': 1, 'woodstock': 2, 'writing': 1, 'program': 1, '4': 1, '2010': 1, 'henderson': 3, 'march': 1, 'penises': 1, 'bear': 1, 'scene': 1, 'whistle': 4, 'simmons': 1, 'hendersons': 3, 'bigger': 2, 'school': 2, 'storyboard': 1, 'magic': 4, 'bobby': 1, 'wordless': 1, '2010in': 1, 'nickelodeon': 1, 'red': 1, 'squarepants': 1, 'emmy': 1, 'wrote': 1, 'spongebob': 1, 'series': 2, 'directing': 1, 'born': 2, 'college': 2, 'year': 1, 'special': 1, 'graduating': 1, 'humor': 1, 'expert': 1, 'harvey': 1, 'review': 1, 'historyhenderson': 1, 'contained': 1, 'crude': 1, '5009': 3, 'bestknown': 1, 'attended': 1, 'yorks': 1, '1987': 1, 'journal': 1, 'drew': 2, 'busy': 1, 'awards': 1, 'york': 2, 'starring': 1, 'graduated': 1, 'earliest': 1, 'larger': 1, 'programming': 1, 'blobby': 1, 'american': 2, 'published': 3, 'yorksince': 1, 'hometown': 1, 'number': 1, 'magazines': 1, 'weiss': 1, 'strip': 2, 'comic': 5, 'city': 1, 'arts': 1, '1980': 1, 'expressnews': 1, 'boiceville': 1, 'due': 1, '1988': 1, 'spaz': 1, 'asses': 1, 'longestrunning': 1, 'featuring': 1, 'friend': 1, 'award': 1, 'visual': 1, 'lives': 1, 'midtolate': 1, '1980s': 1, '1993': 2, 'october': 1, 'hour': 1, 'comics': 2, '18': 1, 'work': 1, 'cartoonist': 1, 'onteora': 1, '1991henderson': 1, 'animated': 1, 'called': 1, 'san': 1, 'sam': 1, 'turned': 1, 'high': 1, 'heard': 1, 'minicomics': 2, 'monroe': 1, 'pink': 1, '1969': 1, 'began': 2, 'magazine': 1, 'sic': 1, '55th': 1, '19992004in': 1, 'comedy': 1, 'junk': 1, 'collection': 1, 'scratchings': 1, 'nomination': 1, 'man': 1, 'antonio': 1, '2003': 1, 'funniest': 1, 'title': 1, 'selfpublishing': 2, 'reprinted': 1}, {'exclusive': 2, 'producer': 1, 'show': 2, 'developed': 1, 'rascals': 1, 'major': 2, 'produced': 3, 'including': 1, 'crack': 1, 'classic': 1, 'kanye': 1, 'specialedition': 1, 'york': 1, 'jacobs': 1, 'based': 1, 'jay': 1, 'paris': 1, 'observe': 1, 'credited': 2, 'young': 1, 'created': 1, 'aaron': 5, 'jam': 1, 'black': 1, 'fade': 1, 'prison': 1, 'experimenting': 1, 'maryland': 1, 'east': 1, 'local': 1, 'dj': 3, 'wide': 1, 'nightclubs': 1, 'successful': 1, 'early': 1, 'records': 2, 'verb': 1, 'spank': 1, 'basement': 1, 'report': 1, 'world': 1, 'cool': 1, 'clan': 1, 'knock': 1, 'cable': 1, 'success': 1, 'artist': 1, 'university': 1, 'mndr': 1, 'jayz': 1, '1999': 1, 'diy': 1, 'reasonable': 1, 'rock': 1, 'cashmere': 1, 'soulja': 1, 'athletics': 3, 'amanda': 1, 'em': 1, 'entourage': 1, 'lucien': 1, 'series': 2, 'artists': 1, 'colette': 1, 'born': 1, 'doolittleat': 1, 'productions': 1, 'recently': 1, 'cocacola': 1, 'album': 1, 'wire': 3, 'ricks': 1, 'eliza': 2, 'rascal': 2, 'slick': 1, 'label': 2, 'collaborated': 2, 'performanceslacrate': 1, 'jayzs': 1, 'lacrate': 12, 'milkcrate': 6, 'shows': 1, 'videogame': 1, 'hero': 1, 'outkast': 1, 'syracuse': 1, 'tour': 1, 'sold': 1, 'dazed': 1, 'ferrariwhich': 1, 'highlandtown': 1, 'youngest': 1, 'attending': 1, 'tracks': 1, 'studio': 1, 'vinyl': 1, 'starring': 1, 'tshirtin': 1, 'baltimores': 1, 'rocafella': 1, 'director': 1, 'hbo': 4, 'kids': 1, 'launch': 1, 'rogenrecently': 1, 'lacrates': 1, 'nightclub': 1, 'prior': 1, 'american': 1, 'doolittle': 1, 'soundtrack': 1, 'recordings': 1, 'djing': 1, 'streamz': 1, 'road': 1, 'king': 1, 'tribe': 1, 'vegas': 1, 'features': 1, 'scene': 1, 'pop': 1, 'highly': 1, 'gorillaz': 1, 'featured': 1, 'called': 1, 'delicious': 1, 'blank': 1, 'custom': 1, 'platinum': 1, 'city': 1, 'working': 1, 'marc': 1, 'bmore': 3, 'west': 1, 'create': 1, 'support': 1, 'mark': 1, 'parties': 1, 'live': 1, 'doubt': 1, 'music': 7, 'house': 1, 'ronson': 1, 'featuring': 1, 'vans': 1, 'hard': 1, 'boy': 1, 'club': 2, 'ragehbo': 1, 'released': 3, 'remixed': 1, 'commissioned': 2, 'level': 1, 'mcs': 1, '10': 1, 'television': 1, 'grew': 1, 'mixtapes': 1, 'mc': 1, 'culture': 2, 'collaborations': 1, 'ultramagnetic': 1, 'official': 2, 'recording': 1, 'record': 2, 'historical': 1, 'mr': 1, 'making': 1, 'dizzee': 3, 'def': 1, 'mz': 1, 'showlacrate': 1, 'fashion': 5, 'pellatfinet': 1, 'played': 1, 'confused': 1, 'graffiti': 1, 'allen': 3, 'madonna': 1, 'wutang': 1, 'eminems': 1, 'clothing': 2, 'campus': 1, 'film': 1, 'summers': 1, 'payday': 1, 'began': 2, 'song': 1, 'brandaaron': 1, 'range': 1, 'epmd': 1, 'started': 1, 'vital': 1, 'role': 1, 'popularizing': 1, 'toured': 1, 'nyc': 2, 'lily': 3, 'life': 2, 'designer': 2, 'star': 1, 'tshirts': 2, 'collaboration': 1, 'time': 1, 'helping': 1, 'sponsored': 1, 'interning': 1, 'rakim': 3, 'gutter': 2, 'tramps': 1, 'age': 1, 'seth': 1, 'spent': 1, 'baltimoreaaron': 1, 'quest': 1, 'ferrari': 1, 'baltimore': 8, 'writing': 1, '2005': 1, 'streetwear': 2, '2009': 1, 'original': 1}, {'taxi': 1, 'salon': 1, 'gangs': 1, 'text': 1, 'agreed': 1, 'authors': 1, 'thomas': 1, 'nominated': 1, 'years': 1, 'produced': 3, 'chair': 1, 'enjoyed': 1, '1': 1, 'du': 1, 'chosen': 1, 'regarded': 1, 'april': 2, 'fergusons': 2, 'writing': 2, 'critical': 1, 'kinkajou': 1, 'developed': 1, 'alberta': 1, 'vancouver': 1, '2011': 1, 'lake': 1, '2013': 1, '2012': 1, '11': 1, 'march': 1, 'returned': 1, 'returning': 1, 'pages': 1, 'wood': 1, 'commemorate': 1, 'cultural': 1, 'ferguson': 2, 'fall': 1, 'press': 1, 'penname': 1, 'burns': 1, 'burnt': 1, 'day': 1, 'worlds': 1, 'awaited': 1, 'prize': 1, 'countries': 1, 'die': 1, 'university': 2, 'book': 2, '54': 1, 'served': 1, 'raised': 1, 'river': 3, 'dennis': 1, 'dir': 2, 'county': 1, 'declared': 1, 'work': 1, 'fair': 1, 'people': 1, 'house': 1, '1947': 2, 'library': 1, 'past': 1, 'born': 1, 'books': 1, 'quebec': 2, 'miniseries': 1, 'novelist': 2, 'tenth': 1, 'special': 1, 'canada': 3, 'plays': 1, 'driving': 1, 'livres': 1, 'arguably': 1, 'novels': 3, 'martins': 1, 'anniversary': 1, 'ice': 2, 'creative': 1, 'written': 1, 'won': 1, 'sold': 1, '2015in': 1, 'europe': 1, 'sixteen': 1, 'timekeeper': 1, 'run': 1, 'lee': 1, 'journal': 1, 'night': 2, 'sprung': 2, 'french': 1, 'water': 1, 'york': 3, 'ontario': 1, 'studio': 2, 'twentieth': 1, 'genre': 1, 'major': 1, 'teaches': 1, 'guy': 2, 'starborn': 1, 'stage': 1, 'received': 2, 'dunne': 1, 'language': 1, 'invit': 1, 'midteens': 1, 'invited': 2, 'infinitheatre': 3, 'americas': 1, 'paris': 2, 'farrow': 3, 'place': 1, 'published': 3, 'aka': 1, 'qubcoise': 1, 'settled': 1, 'seaforth': 1, 'montreal': 6, '1000': 1, 'equally': 1, 'hudson': 2, 'bunkhousesin': 1, 'canadas': 2, 'claim': 1, 'paperback': 1, 'leon': 1, 'highly': 2, 'sienna': 1, 'guests': 1, 'village': 1, 'union': 1, 'ninth': 1, 'crime': 2, 'november': 2, 'city': 3, 'arts': 2, '1985': 1, 'publication': 2, 'working': 1, 'hes': 1, 'festival': 1, 'west': 1, 'trilogy': 1, 'long': 3, 'fiction': 3, 'barnacle': 1, 'twenties': 1, 'storm': 1, 'time': 1, 'travelled': 1, 'john': 4, 'opens': 1, 'option': 1, 'successful': 1, 'masque': 1, 'onyx': 1, 'award': 1, '2014city': 1, 'zarathustra': 1, '20000': 1, 'maclennan': 1, 'sun': 1, 'worked': 2, 'highest': 1, 'canadian': 3, 'toronto': 1, 'high': 1, '17': 1, '1999': 1, 'lacadmie': 1, 'des': 2, 'booklist': 1, 'today': 1, 'praise': 1, 'newspaper': 1, 'murders': 1, 'called': 4, 'history': 2, 'bridge': 1, 'acclaim': 1, 'preeminent': 1, 'century': 1, 'cited': 1, 'states': 1, 'concordia': 1, 'caused': 1, 'rooke': 1, 'huron': 1, 'film': 1, 'booksst': 1, 'dhonneur': 1, 'united': 1, 'author': 1, 'things': 1, 'began': 1, 'hugh': 1, 'write': 2, 'chants': 1, 'writers': 3, 'writersextraordinary': 1, 'northwest': 1, 'fourth': 1, 'beach': 1, 'company': 1, 'play': 5, 'literature': 1, 'simon': 1, 'writerinresidence': 1, 'theatre': 3, 'centre': 1, 'series': 3, 'english': 1, 'schuster': 1, 'coproduced': 1, 'france': 2, 'germany': 1, 'faculty': 1, 'frequently': 1, 'railway': 1, 'ziet': 1, 'early': 1, 'short': 1, 'banff': 1, 'gravitated': 1, '1977': 1, 'age': 1, 'trevor': 3, '2002': 4, 'bestseller': 1, '2006': 1, '2004': 1, '2005': 1, 'lives': 1}, {'houston': 1, 'frankie': 1, 'labels': 1, 'hardcores': 1, 'produced': 1, 'roy': 1, 'london': 2, 'teamed': 1, 'asylum': 1, 'godfathers': 1, '27': 1, 'mcneal': 1, 'present': 1, 'heavies': 1, 'include': 1, 'gave': 1, 'brown': 2, 'dj': 2, 'producernelson': 1, 'continues': 1, 'early': 2, 'records': 3, 'birth': 1, 'breakbeat': 1, 'level': 1, 'james': 2, 'roll': 1, 'garage': 1, 'vibes': 2, 'knight': 1, 'including': 2, 'guy': 1, 'dodger': 1, 'tei': 1, 'bump': 2, 'house': 2, '19901993': 1, 'thelma': 1, 'gilberto': 1, 'born': 1, 'juliet': 1, 'delivered': 2, 'jodeci': 1, 'liberty': 1, 'label': 3, 'consistently': 1, 'bass': 1, 'wishdokta': 3, 'champagne': 1, 'numerous': 1, 'red': 1, 'rosie': 1, 'uk': 3, 'kelis': 1, 'aaliyah': 1, 'hits': 1, 'legendary': 1, 'days': 1, 'goldie': 1, 'april': 1, 'negrocan': 1, 'gaines': 1, 'scene': 1, 'lutricia': 1, 'misteeq': 1, 'simply': 1, 'artists': 1, '1990s': 1, 'flex': 2, 'city': 1, 'knuckles': 1, 'alterego': 1, '2step': 1, 'top': 1, 'due': 1, 'ayers': 1, 'music': 1, 'ah': 1, 'biggest': 2, 'heralded': 1, 'happy': 2, 'head': 1, 'remixer': 1, 'club': 1, 'brand': 1, 'remixed': 1, 'worked': 1, 'producing': 1, 'funk': 1, 'sound': 1, 'king': 1, '1993': 1, '1997': 1, 'musicsome': 1, 'scenes': 1, 'towa': 1, 'roberts': 1, 'record': 2, 'evolved': 1, 'artful': 1, 'ripe': 2, 'remained': 1, 'nng': 1, 'evelyn': 1, 'hardcoredrum': 1, 'delivers': 1, 'drawer': 1, '1971': 1, 'beverley': 1, 'bebel': 1, 'grant': 1, 'began': 1, 'traxin': 1, 'started': 1, 'sunday': 1, 'anthems': 1, 'garagehe': 1, 'nice': 2, 'swing': 1, 'produce': 1, 'faithless': 1, 'nelson': 4, 'jamiroquai': 1, 'english': 1, 'kickin': 1, 'agnes': 1}, {'phenomenon': 1, 'deborash': 1, 'innovative': 1, 'jay': 1, 'cornell': 1, 'writing': 1, 'treatment': 1, '2014': 1, '2013': 1, 'explorations': 1, 'good': 1, 'conversations': 1, '1955': 1, 'listening': 1, 'press': 2, 'university': 5, 'truths': 1, 'shoshana': 1, 'ashes': 1, 'roger': 1, 'yale': 2, 'felman': 1, 'leaders': 1, 'reference': 1, 'catastrophic': 1, 'born': 1, 'taught': 1, 'humane': 1, 'forthcoming': 1, 'conceptualizing': 1, 'ways': 1, 'coeditor': 1, 'robert': 1, 'critical': 2, 'trauma': 6, 'encounters': 1, 'theory': 2, 'unconscious': 1, 'frank': 1, 'harvard': 1, 'twentieth': 1, 'received': 1, 'traumas': 1, 'hopkins': 5, 'rhodes': 1, 'experience': 2, 'cathy': 1, '173182': 1, 'fictions': 1, 'letters': 1, 'previously': 1, 'johns': 5, 'lifton': 1, 'pp': 1, 'emory': 1, 'century': 1, 'question': 1, '1988': 1, 'describes': 1, 'call': 1, 'editor': 1, 'memory': 1, 'mysterious': 1, 'caruth': 1, 'appointed': 1, '1991': 1, 'md': 1, '1995': 2, '1996': 1, 'work': 1, 'empirical': 1, 'freud': 1, 'rutgers': 1, 'history': 2, 'locke': 1, 'esch': 1, 'helped': 1, 'comparative': 2, 'deconstructive': 1, 'kant': 1, 'author': 1, 'trials': 1, 'discussion': 1, 'wordsworth': 1, 'caruths': 1, 'build': 1, 'department': 1, 'luckhurst': 1, 'literature': 3, 'narrative': 1, 'phd': 1, 'unclaimed': 1, 'scholars': 1, 'professor': 1, 'departments': 1, '2002': 1, 'perceiving': 1, 'responsibility': 1, 'english': 1, 'juridical': 1, 'n3': 1}, {'zwigoff': 2, 'september': 1, 'years': 1, 'fundamentalists': 1, 'drawings': 1, '27': 1, 'languageshe': 1, 'girlit': 1, 'father': 1, 'kominskycrumbcrumb': 1, 'parents': 2, 'teaching': 1, 'acrobatics': 1, '2010': 1, 'relocated': 1, 'town': 1, 'interview': 1, 'world': 1, 'secondary': 1, 'school': 1, 'artist': 2, 'remove': 1, 'mid2000s': 1, 'earned': 1, 'husband': 1, 'critically': 1, 'village': 1, 'born': 3, 'street': 1, 'violet': 1, 'living': 2, 'robert': 1, 'daniel': 1, 'inquirer': 1, 'americanfrench': 1, 'told': 1, 'christian': 1, 'aline': 1, 'sold': 1, 'french': 1, 'reported': 1, 'eli': 1, 'california': 1, 'conservatives': 1, 'wanted': 1, 'stage': 1, 'daughter': 1, 'completing': 1, 'studied': 1, 'comedydrama': 1, 'foreign': 1, 'nameafter': 1, 'turn': 1, 'documentary': 1, 'nearby': 1, 'sophies': 1, 'comix': 1, 'sauve': 1, 'family': 2, 'inclusion': 1, 'relocation': 1, 'son': 1, 'adaptation': 1, 'artists': 1, 'prepare': 1, '1981': 1, 'political': 1, 'philadelphia': 1, 'france': 3, 'farming': 1, 'lived': 1, 'worker': 1, 'apprenticed': 1, 'released': 1, 'construction': 1, 'lives': 1, 'clowes': 1, '1991': 1, 'valley': 1, 'crumb': 4, '1994': 1, 'comics': 3, 'sophie': 4, 'sophia': 1, 'circus': 1, 'states': 1, 'acclaimed': 1, 'serial': 1, 'education': 1, 'film': 1, 'tattoo': 1, 'afraid': 1, 'woodland': 1, 'underground': 1, 'english': 1, 'southern': 2, 'brooklyn': 1, 'united': 1, 'terry': 1, 'winters': 1, 'ghost': 1, 'clowning': 1, '2001': 1, 'mother': 1, 'commissioned': 1, '2009': 1, 'original': 1}, {'gospels': 1, '2010two': 1, 'twoyear': 1, 'imagines': 1, 'mission': 1, 'lds': 2, 'cambridge': 2, 'manchester': 2, 'cold': 1, 'death': 1, 'winner': 1, 'saints': 1, 'mens': 1, 'won': 1, 'circumstances': 1, '2011': 2, '2010': 1, '2013': 1, 'universityashworths': 1, 'eventually': 1, 'lonely': 1, 'march': 1, 'account': 1, 'dark': 1, 'trask': 1, '12': 1, 'february': 1, 'theft': 1, 'jesus': 1, 'founded': 1, 'runs': 1, 'prize': 1, 'lost': 2, 'january': 2, 'university': 4, 'renamed': 1, 'bbc': 1, 'betty': 1, 'found': 1, 'works': 1, 'set': 1, 'ashworth': 2, 'unpublished': 1, 'jenn': 2, 'quillercouch': 1, 'born': 1, 'elements': 1, 'result': 1, 'home': 1, 'tenth': 1, 'network': 1, 'novels': 1, 'anniversary': 1, 'creative': 4, 'written': 1, 'unable': 1, 'closed': 1, 'hymas': 1, 'teens': 1, 'shows': 1, 'body': 1, 'full': 1, 'smithy': 1, 'friday': 1, 'lancashireshe': 1, 'graduated': 1, 'strong': 1, 'tragedy': 1, 'central': 2, 'violence': 1, 'prisonshe': 1, 'mentor': 1, 'published': 2, 'teenage': 1, 'writer': 1, 'family': 1, 'previously': 1, 'relate': 1, 'son': 1, 'brought': 1, 'featured': 1, 'lancasterin': 1, 'church': 4, 'writing': 8, 'sarah': 1, 'story': 2, '1982': 1, 'girls': 1, 'consultancy': 1, 'editor': 1, 'poet': 1, 'novelistsshe': 1, 'hub': 1, 'award': 1, 'taught': 1, 'worked': 2, 'boyfriend': 1, 'kind': 1, 'latterday': 1, 'welcoming': 1, 'culture': 1, 'aims': 1, 'computer': 1, 'stories': 1, 'called': 1, 'preston': 2, 'suspicious': 1, 'coordinator': 1, 'woman': 1, 'tells': 1, 'funny': 1, 'memorial': 1, 'built': 1, 'extract': 1, 'reality': 1, 'member': 1, 'writers': 1, 'department': 1, 'grips': 1, 'comedy': 1, 'lecturer': 1, 'odd': 1, 'literature': 1, 'centre': 2, 'dies': 1, 'earlier': 1, 'lancastrian': 1, 'selfdeception': 1, 'lancs': 1, 'librarian': 1, 'christ': 1, 'summerhouse': 1, 'short': 1, 'light': 1, 'failing': 1, '2003': 1, '2004': 1, 'english': 2, 'intimacy': 1, '2009': 1, 'lancashire': 1, 'left': 1}, {'wordmark': 1, 'institutional': 1, 'text': 1, 'charles': 1, 'illustrated': 1, 'prix': 1, 'including': 1, 'alternative': 1, 'contributions': 1, '22': 1, 'permanent': 1, 'cooperhewitt': 1, 'giants': 1, 'band': 1, 'designers': 1, 'association': 1, 'founded': 1, 'appearing': 1, 'presented': 1, 'latterday': 1, 'radio': 1, 'work': 2, 'national': 2, 'born': 1, 'computer': 1, 'design': 2, 'operated': 1, 'pronounced': 1, 'forty': 1, 'current': 1, 'typographique': 1, 'public': 2, 'bestknown': 1, 'heffler': 1, 'august': 1, 'tobias': 1, 'splithoefler': 1, 'operating': 1, 'york': 3, 'morninghoeflers': 1, 'bazaar': 1, 'stone': 1, 'influential': 1, 'typeface': 1, 'times': 2, 'museums': 1, 'frerejones': 3, 'magazine': 5, 'harpers': 1, 'macintosh': 1, 'named': 1, 'apple': 1, 'family': 1, 'peignot': 1, 'typefaces': 2, 'church': 1, '1989': 1, 'working': 1, 'museum': 1, 'system': 1, 'sports': 1, 'jonathan': 1, 'type': 4, 'company': 1, 'award': 1, 'part': 2, '1995': 1, 'prestigious': 1, '1999': 1, 'clients': 1, 'hoefler': 8, 'solomon': 1, 'internationale': 1, 'profiled': 1, 'outstanding': 1, 'guggenheim': 1, 'cbs': 1, 'id': 1, 'began': 1, 'american': 1, 'sunday': 1, 'esquire': 2, 'designer': 2, 'appearances': 1, 'collection': 1, 'designed': 3, 'rolling': 1, '20052014': 1, 'america': 1, 'atypi': 1, 'saintsin': 1, 'foundry': 2, '1970': 1, '2002': 1, 'time': 1, 'original': 1}, {'sector': 1, 'september': 1, 'fitzhardinge': 1, 'eton': 1, 'bring': 1, 'including': 1, 'questions': 2, 'seats': 1, 'worked': 2, 'succeeding': 1, 'police': 1, 'baron': 4, 'title': 1, 'removal': 1, 'bicycles': 1, 'labour': 2, 'board': 1, 'tabled': 1, 'inherited': 1, 'lord': 1, 'frsa': 1, '199697': 1, 'sitting': 1, 'foleyberkeley': 1, 'maritime': 1, 'matters': 1, 'ma': 1, 'years': 1, 'association': 2, '17th': 1, 'held': 1, 'spokesperson': 1, 'positions': 1, 'gueterbock': 4, '8595gueterbock': 1, 'london': 1, 'entitled': 1, 'automatic': 1, 'fcit': 1, 'secretary': 1, 'freight': 3, 'ten': 1, 'house': 4, 'eurotunnel': 1, 'group': 2, 'born': 1, 'college': 2, 'laboratory': 1, 'port': 1, 'whip': 1, 'remain': 1, 'hereditary': 2, 'conduct': 1, 'dsc': 1, 'body': 1, 'lordshe': 1, 'baroness': 1, 'peerafter': 1, 'plc': 1, 'opposition': 2, 'berkeley': 9, 'peer': 3, '20': 1, '1939': 1, 'marine': 1, 'polruan': 1, 'restrictions': 1, 'cranford': 1, 'created': 1, 'career': 1, 'industry': 1, 'obe': 1, 'british': 1, 'ancient': 1, 'pilots': 1, 'asked': 1, 'cambridge': 1, 'civil': 2, 'harbour': 1, 'graduated': 1, 'wimpey': 1, 'guests': 1, 'tony': 1, 'george': 1, 'engineer': 2, '1985': 1, 'cycling': 1, 'fimeche': 1, 'entered': 1, 'ceng': 1, 'trinity': 1, 'questioned': 1, 'commissioner': 1, 'educated': 1, 'cornwalllord': 1, 'anthony': 1, 'lives': 1, 'representative': 1, 'mice': 1, '1992': 2, 'politician': 1, 'embarked': 1, 'mary': 1, 'plymouth': 1, 'uk': 1, 'transport': 2, 'lords': 3, 'life': 2, 'engineering': 1, 'borough': 1, 'trustee': 1, 'parliamentary': 1, 'ancestors': 1, 'hon': 2, 'member': 1, 'fowey': 1, 'chairman': 1, 'party': 1, 'european': 1, 'english': 1, 'rail': 3, 'liberties': 1, '199697lord': 1, 'president': 1, 'peers': 2, 'hillingdon': 1, '2000': 1, '18th': 1, 'aunt': 1, 'parliamentsince': 1, 'trains': 1, 'joining': 1}, {'advisory': 1, 'titled': 1, 'agency': 1, 'partial': 1, 'gold': 1, 'devote': 1, 'electionon': 1, 'trade': 1, 'produced': 1, 'facilities': 1, 'including': 1, 'unep': 1, 'threshold': 1, 'earth': 1, 'paul': 1, '1963': 1, 'july': 1, 'votes': 3, 'highest': 1, 'campaign': 1, 'candidate': 4, 'eligible': 1, 'certification': 1, 'responsible': 1, 'councillor': 1, 'champions': 1, 'environment': 4, 'program': 1, 'citizen': 1, 'stephen': 1, 'contestant': 1, 'centurion': 1, 'charity': 1, 'local': 1, '2010': 3, 'awareness': 1, 'advises': 1, 'wont': 1, 'municipal': 2, 'government': 2, 'powerful': 1, 'socially': 1, 'dfait': 1, 'documentaries': 1, '2006': 5, 'partya': 1, 'advised': 1, 'schools': 1, 'air': 2, 'practicesfrom': 1, 'prime': 1, '4730': 1, 'committees': 2, 'elected': 1, 'university': 2, '4134': 1, 'leader': 2, 'excellence': 1, 'consultant': 1, 'sustainable': 4, 'served': 4, 'works': 1, 'endorsed': 1, 'round': 1, 'programme': 1, 'reelection': 2, 'olympic': 1, 'cost': 1, 'cofounded': 1, 'energy': 3, 'society': 1, 'economic': 1, 'design': 1, 'election': 5, 'chernushenko': 7, 'resigned': 1, 'ward': 1, 'bodieschernushenko': 1, 'canada': 4, 'living': 1, 'born': 1, 'campuses': 1, 'federal': 3, 'nonprofit': 1, 'multimedia': 1, 'foreign': 1, 'organizations': 1, 'public': 2, 'written': 1, 'won': 1, 'health': 1, 'capital': 1, 'international': 5, 'receiving': 1, 'integrated': 1, '8': 1, 'business': 1, 'activity': 1, 'leadership': 2, 'pursuit': 1, 'groups': 1, 'dewar': 1, 'ontario': 2, 'november': 1, 'change': 2, 'panel': 1, 'received': 1, 'great': 1, 'benefits': 1, 'boards': 1, 'canadian': 2, 'david': 1, 'nrtee': 2, 'games': 1, 'social': 1, 'ndp': 1, 'adopting': 1, 'documentary': 2, 'south': 1, 'pollution': 1, 'consulting': 2, 'cambridge': 1, 'canadas': 2, 'deputy': 2, 'civil': 1, 'vote': 2, '20082009chernushenko': 1, 'private': 2, '102': 1, 'accredited': 1, 'alumnus': 1, 'alberta': 1, 'owner': 1, 'table': 1, 'electronic': 1, 'city': 4, 'management': 2, 'publication': 1, '6766': 1, 'housing': 1, 'political': 1, 'relations': 1, 'sports': 1, 'commission': 1, 'bike': 1, 'passed': 1, 'films': 1, 'national': 2, 'firm': 1, 'cida': 1, 'iisdacccunep': 1, 'climate': 1, 'filmmaker': 1, 'policy': 1, 'finished': 1, 'minister': 1, '2014': 2, 'worked': 1, 'promote': 1, 'nonpartisan': 1, 'appointed': 1, 'raising': 1, '1998': 2, 'count': 1, '10': 2, 'politician': 1, '1994': 1, '1996': 1, 'science': 1, 'elections': 1, 'nations': 1, 'project': 1, 'books': 1, 'newspaper': 1, 'launched': 1, 'lightly': 1, 'ran': 3, 'losing': 1, 'general': 1, 'sport': 2, 'calgary': 1, 'council': 1, 'vicechair': 1, 'physical': 1, 'affairs': 1, 'expenditures': 1, 'engages': 1, 'harper': 1, 'make': 1, '2013chernushenko': 1, 'graduate': 1, 'member': 1, 'leed': 1, '2001': 2, 'speaker': 1, 'fourth': 2, 'department': 1, 'party': 6, 'events': 1, 'economy': 1, 'development': 1, '2004': 3, 'centre': 2, 'june': 1, 'director': 1, 'sustainability': 1, 'running': 3, 'united': 1, 'cooperativehe': 1, '2008': 1, 'queens': 1, 'building': 1, 'reimbursement': 1, 'democratic': 1, 'sectors': 1, 'environmental': 3, 'communities': 1, 'ottawa': 8, '2003': 1, 'practices': 2, 'green': 8, '2007': 1, 'clean': 1, 'time': 1, 'professional': 2, 'senior': 1, '2009': 1, 'athletes': 1, 'order': 1, 'greening': 2}, {'stoner': 1, 'shot': 1, 'german': 1, 'produced': 1, 'including': 1, 'based': 1, 'lo': 1, 'josh': 1, 'main': 1, 'truckfighters': 3, '2012': 1, 'sound': 1, 'bands': 1, 'documentaries': 1, 'band': 1, '84minute': 1, 'unique': 1, 'atmospheres': 1, 'artist': 1, 'common': 2, 'rock': 2, 'release': 1, 'works': 1, 'set': 1, 'people': 1, 'design': 1, 'thirteen': 1, 'homme': 1, 'fu': 1, 'creative': 2, 'content': 1, 'attracted': 2, 'fans': 1, 'internet': 1, 'contributes': 1, 'seeks': 1, 'berlinduring': 1, 'audiovisual': 1, 'attention': 2, 'combines': 1, 'extraordinary': 1, 'genre': 1, 'generate': 1, 'study': 1, 'musicians': 1, 'documentary': 2, 'childhood': 1, 'subcultures': 1, 'electronic': 1, 'story': 1, 'guest': 1, 'due': 1, 'desert': 2, 'joerg': 1, 'camera': 1, 'music': 3, 'editor': 1, 'films': 2, 'photographing': 1, 'started': 1, 'gap': 1, 'designerartist': 1, 'graphic': 2, 'illustrator': 1, 'fuzzomentary': 1, 'vhs': 1, 'project': 1, 'stories': 1, 'influence': 1, 'topic': 1, 'societyhe': 1, 'exist': 1, 'film': 3, 'swedish': 1, 'genres': 1, 'media': 1, 'feature': 1, 'underground': 1, 'development': 1, 'elements': 1, 'explores': 1, 'unconventional': 1, 'appearances': 1, 'trailers': 1, 'manchu': 1, 'steineck': 4, 'filmmaker': 1, 'friends': 1, 'parallel': 1, 'short': 1, 'age': 1, 'fictional': 1, 'musical': 2, 'edge': 1, '2006': 1, 'time': 2, 'painting': 1, 'drawing': 1}, {'focus': 1, 'manchester': 1, 'research': 4, 'issues': 1, 'previous': 1, 'character': 1, 'young': 1, 'including': 1, 'degrees': 1, '2012': 1, 'kingdom': 1, 'merton': 1, 'pocket': 1, 'oxford': 2, 'ewtn': 1, 'prominent': 1, 'louis': 1, 'university': 3, 'identified': 1, 'herald': 1, 'priest': 1, 'cognition': 1, 'moral': 1, 'apologia': 1, 'england': 1, 'diocese': 1, 'energy': 1, 'birmingham': 1, 'born': 1, 'books': 1, 'college': 2, 'perspective': 1, 'scientific': 1, 'delphi': 1, 'contributed': 1, 'coauthor': 2, 'religion': 1, 'written': 1, 'experiment': 1, 'credo': 1, 'perception': 1, 'august': 1, 'degree': 1, 'virtues': 1, 'ramsey': 1, 'formation': 1, 'gregorian': 1, 'brighton': 1, 'director': 1, 'institute': 2, 'social': 1, 'secondperson': 2, 'accounts': 1, 'ian': 1, 'pinsent': 2, 'bbc': 1, 'tutor': 1, 'lumen': 1, 'saint': 1, 'faith': 1, 'andrew': 1, 'evangelium': 1, 'arundel': 1, 'present': 1, 'insights': 1, 'pontifical': 1, 'collaborationfr': 1, '19': 1, 'science': 2, 'cern': 1, 'publications': 2, 'fellow': 1, 'high': 1, 'autism': 1, 'routledge': 1, 'catholic': 3, 'united': 1, 'interviewed': 1, 'media': 1, '1966': 1, 'maryvale': 1, 'member': 2, 'application': 1, 'book': 1, 'fr': 1, 'centre': 1, 'philosophy': 2, 'aquinass': 1, 'phd': 1, 'gifts': 1, 'harris': 1, 'faculty': 1, 'ethics': 1, 'class': 1, 'recent': 1, 'thirtyone': 1, 'theology': 2, 'academic': 1, 'rome': 1, 'catechetical': 1, 'physics': 3, 'dphil': 1}, {'1953called': 1, 'retired': 1, 'outstanding': 2, '1952': 2, 'centre': 3, 'meath': 1, 'years': 2, 'county': 1, '1950swith': 1, 'selection': 1, 'beaten': 1, 'field': 1, 'managed': 1, 'captain': 1, 'xv': 1, 'fame': 1, 'agonising': 1, 'blue': 1, 'finalhe': 1, '1949': 1, 'famous': 2, 'gaelic': 1, 'regarded': 1, 'selected': 2, 'leinster': 4, 'due': 1, 'winning': 1, 'senior': 2, 'suffered': 1, 'won': 1, 'millennium': 1, 'gaa': 1, 'widely': 1, '6': 1, 'railway': 1, 'tribute': 1, 'recurring': 1, 'final': 2, 'medals': 1, 'paddy': 2, 'province': 1, 'narrowly': 1, 'play': 1, 'championship': 1, 'ireland': 2, 'dunnes': 1, 'club': 2, 'greatness': 1, 'park': 3, 'laois': 8, 'back': 4, 'browne': 1, '1954': 2, 'white': 1, '1951': 1, 'rest': 1, '1953': 2, 'half': 2, 'consecutive': 1, '1959': 1, 'hall': 1, 'problema': 1, 'football': 6, 'dunne': 2, '59': 1, 'inducted': 1, 'player': 2, 'emulate': 1, 'performances': 1, 'cup': 1, 'defeat': 1, 'players': 1, 'laoishe': 1, 'titles': 1, 'backin': 1, 'played': 3, 'team': 4, 'position': 1, '2008': 1, 'colm': 1, 'featdunne': 1, 'jersey': 2, 'lasting': 1}, {'dance': 2, 'commissions': 1, 'ensemblehe': 1, 'sofia': 1, 'manager': 1, 'ergon': 1, 'unionnaxos': 1, 'group': 1, 'ensembles': 1, 'production': 2, 'companyhis': 1, 'include': 2, 'activities': 2, 'founding': 1, 'documentaries': 1, 'cultural': 1, 'mouzas': 1, 'schools': 1, 'channelshe': 1, 'advanced': 1, 'athenssince': 1, 'runs': 1, 'anax': 1, 'haris': 1, 'michos': 1, 'works': 1, 'dimitris': 1, 'programme': 1, 'olympic': 1, 'alexandros': 1, 'titled': 1, 'committee': 1, 'choreographer': 1, 'series': 1, 'born': 1, 'productions': 1, 'papageno': 1, 'home': 1, 'dawn': 1, 'vironas': 1, 'organizing': 1, 'composers': 1, 'imagerelated': 1, 'section': 1, 'orchestra': 1, 'label': 1, 'collaborated': 1, 'written': 1, 'xanthoudakis': 1, 'theory': 1, 'philharmonic': 1, 'kamarotos': 1, 'imaginary': 1, 'teaches': 1, 'received': 1, 'konstantinos': 1, 'days': 1, 'games': 1, 'lathos': 1, 'composed': 2, 'cd': 2, 'composer': 1, 'electronic': 1, 'orchestrashe': 1, 'management': 1, 'top': 1, 'athens': 2, 'commission': 1, 'music': 9, 'films': 1, 'board': 1, 'kinissi': 1, 'releases': 1, 'orchestral': 2, 'company': 1, 'released': 1, 'organizations': 1, 'television': 2, '1998': 1, 'project': 1, 'calamity': 1, 'trisha': 1, 'studied': 1, 'videos': 1, '2003in': 1, 'performed': 1, 'technology': 1, 'film': 2, 'media': 1, 'commercials': 1, '1962': 1, 'member': 2, 'till': 1, 'projects': 1, 'composition': 1, 'european': 1, 'antoniou': 1, 'theodore': 1, 'director': 1, 'important': 1, 'recent': 1, 'short': 1, 'greek': 5, 'directors': 1, 'edge': 1, 'artistic': 1, '2004': 2, 'professional': 2, 'airesis': 1, 'corporate': 1, 'original': 2, 'left': 1}, {'restore': 1, 'quoted': 1, 'schoolboard': 1, '19681995': 1, 'results': 1, 'unofficial': 1, 'held': 1, 'campbell': 3, 'mason': 1, '2996': 1, 'votes': 1, 'retirement': 1, 'thinking': 1, 'board': 1, 'stephen': 1, 'darwin': 1, 'scheduled': 1, 'march': 1, 'incumbent': 1, 'assistant': 1, 'school': 2, 'kitzmiller': 1, 'closely': 1, '1995': 1, 'day': 1, 'articles': 1, 'rhetoric': 2, 'showed': 1, 'skills': 1, 'angus': 1, 'university': 2, 'debating': 1, 'public': 2, 'communications': 2, 'served': 1, 'depositionin': 1, 'people': 2, 'dealing': 1, 'seat': 1, 'culture': 2, 'defense': 1, 'design': 3, 'election': 1, 'portland': 1, 'witness': 1, 'ways': 1, 'conservative': 1, 'critical': 1, 'international': 1, '1406': 1, 'discovery': 1, 'disclose': 1, 'edited': 1, 'christian': 1, 'transparency': 1, 'darwinist': 1, 'associate': 1, 'journal': 1, 'slated': 1, 'demonizing': 1, 'november': 1, 'meyer': 1, 'engage': 1, 'district': 1, 'institute': 1, 'study': 1, 'darwinism': 2, '1942': 1, 'american': 1, 'promotion': 1, 'retired': 1, 'glenn': 1, 'designcampbell': 1, 'county': 1, 'trust': 1, 'establish': 1, 'considers': 1, 'society': 2, 'usa': 1, 'area': 1, '2': 1, 'interest': 1, '6': 1, 'john': 2, 'north': 1, '6806': 1, 'offered': 1, 'oregon': 1, 'memphis': 1, 'serves': 1, '10': 1, 'tank': 1, 'washington': 2, 'born': 1, 'science': 2, 'landram': 1, 'curricula': 1, 'withdrew': 1, 'dedicated': 1, 'links': 1, 'stated': 1, 'ran': 1, 'telephone': 1, 'fellow': 2, 'education': 1, 'id': 1, 'information': 1, 'trial': 1, 'ideas': 1, 'branch': 1, 'interview': 1, 'intelligent': 2, 'improve': 1, 'students': 1, 'june': 1, 'collection': 1, 'affairscampbell': 1, 'services': 1, 'center': 2, 'professor': 3, 'defeating': 1, 'complexity': 1, '3194': 1, '2007': 2, '2005': 2, 'professional': 1, 'dover': 1}, {'origin': 1, 'create': 1, 'childrens': 1, 'increasingly': 1, 'suburban': 4, 'careerhe': 1, 'scene': 1, 'produced': 1, 'edition': 1, 'decided': 1, 'video': 1, 'performed': 1, 'band': 9, 'rejoined': 1, 'songs': 1, 'cowriting': 1, 'singing': 2, 'ep': 2, '2002': 2, 'nights': 1, 'legends': 4, 'lead': 2, 'dallas': 1, 'bears': 1, 'rose': 1, 'hospital': 1, 'recorded': 1, '2000': 1, 'tim': 4, 'aaron': 1, 'ska': 1, 'remixchris': 1, 'rerecorded': 1, 'orange': 1, 'thirdwave': 1, 'tribute': 1, 'vince': 1, 'supporting': 1, 'direction': 1, 'maurer': 2, 'reportedly': 1, 'song': 1, 'desperate': 1, 'compilation': 2, 'selftitled': 1, 'early': 1, 'albumchris': 1, 'tracks': 1, 'tint': 1, 'chris': 3, 'walker': 1, 'cook': 1, 'world': 1, 'directions': 1, 'released': 1, 'care': 1, 'county': 1, 'singer': 2, 'dissatisfied': 1, 'credits': 1, 'bertram': 1, 'compilations': 1, '20002002': 1, 'official': 1, 'cover': 1, 'joined': 1, 'vocal': 1, 'musical': 1, 'recording': 2, 'pursue': 1, 'benefit': 1, '2001': 1, 'replaced': 1, 'ephe': 1, 'acting': 1, 'batstone': 2, 'found': 2, 'replacement': 1, 'gummi': 1, 'taking': 1, 'unreleased': 1, 'left': 2}, {'thomas': 6, 'managed': 1, '200506': 1, 'priestland': 2, 'including': 2, 'converting': 1, 'previous': 1, 'scoring': 1, '25': 2, '23': 1, 'bench': 1, 'penalty': 1, 'stephen': 1, 'wales': 1, 'footballer': 1, 'friendly': 1, '2012': 1, 'cornish': 1, 'return': 1, 'regional': 1, 'game': 2, 'made': 6, 'world': 1, 'bringing': 1, '200809': 1, 'lost': 1, 'positions': 1, 'debut': 1, 'rfc': 1, 'team': 1, 'fullbackthomas': 1, 'side': 2, 'rhys': 1, '200405': 1, 'signing': 1, 'pirates': 1, 'national': 1, 'born': 1, 'clubs': 1, '110': 1, 'ceiron': 1, 'llanellibased': 1, 'favour': 1, 'rival': 1, 'won': 1, 'falling': 1, 'llanelli': 2, 'leeds': 2, 'league': 3, 'rugby': 3, 'career': 1, 'starts': 1, 'region': 1, 'cup': 1, 'april': 2, 'resulting': 1, 'barry': 1, 'duty': 1, 'leaguehowever': 1, 'pointsthomas': 1, 'number': 1, '200708': 1, 'total': 1, 'magners': 3, '1983': 1, 'union': 1, 'transfer': 1, 'france': 1, 'eleven': 1, 'duties': 1, 'sharing': 1, 'season': 4, 'scarlets': 4, 'hold': 1, 'stoddart': 1, '10': 1, 'berth': 1, 'october': 1, '14': 1, '18': 1, 'appearance': 2, 'ives': 1, 'morgan': 1, 'making': 1, '200304': 2, 'months': 1, 'played': 2, 'december': 1, '200607': 1, 'secondfiddle': 1, 'place': 1, '950': 1, 'began': 2, 'fullback': 1, 'majority': 1, '2006': 1, 'wing': 1, 'scored': 2, 'play': 1, 'welsh': 1, 'appearances': 5, '2005': 1, 'june': 2, 'carnegie': 2, 'slovenia': 1, 'regular': 2, 'jones': 3, 'celtic': 1, 'spent': 2, 'st': 1, '2003': 1, 'points': 1, 'davies': 1, '2007': 1, 'time': 2, 'position': 1, '2008': 1, '2009': 2, 'starting': 1, 'playing': 3, 'flyhalf': 4}, {'coach': 2, 'september': 1, 'move': 1, 'mistaken': 1, 'years': 1, 'partnered': 1, 'bright': 1, 'pitch': 1, 'november': 1, 'japan': 1, 'enjoyed': 1, 'scoring': 1, 'baya': 1, 'earned': 4, 'swansong': 1, 'jan': 1, 'countrys': 1, 'finally': 1, 'permanent': 1, 'struck': 1, 'team': 4, 'match': 2, 'real': 1, 'division': 1, 'hit': 1, 'returned': 1, 'mehdi': 1, 'distance': 1, 'matches': 2, 'showing': 1, 'stop': 1, 'account': 1, 'nation': 1, 'jendouba': 1, 'fallout': 1, 'tournamentthis': 1, 'breaka': 1, 'world': 4, '199798': 1, 'impressive': 1, 'success': 1, 'level': 1, 'henri': 1, 'list': 1, 'joined': 1, 'teams': 1, 'singularly': 1, 'bab': 1, 'recall': 1, 'quick': 1, 'found': 1, 'side': 3, 'semifinal': 1, 'jedid': 1, 'olympic': 1, 'england': 1, 'national': 4, 'tunisian': 2, 'back': 1, 'born': 1, 'titles': 1, 'sellimis': 1, 'year': 1, 'callup': 2, 'sport': 1, 'sellimi': 7, 'ligue': 2, 'lead': 1, 'zoubeir': 1, 'clocked': 1, 'kind': 1, 'competitions': 1, 'fans': 1, 'discretion': 1, 'international': 3, 'movement': 1, 'limelight': 1, 'korea': 1, 'recently': 1, 'missing': 1, 'mali': 1, 'drew': 1, 'french': 1, 'put': 1, 'picking': 1, 'firstclass': 1, 'league': 1, 'goalscoring': 1, 'carried': 1, 'wayhis': 1, 'dubbed': 1, 'country': 1, '31': 1, 'cup': 7, 'wrong': 1, 'distinguished': 1, 'players': 2, 'place': 1, 'freiburg': 2, 'promotion': 1, 'replacement': 1, 'settled': 1, 'south': 1, 'retired': 1, 'frenchmans': 1, 'headed': 1, 'tunisia': 3, 'win': 1, 'africa': 1, 'number': 1, 'marked': 1, 'brought': 1, 'barren': 1, 'long': 2, 'yearstunisians': 1, 'spanish': 1, 'proved': 1, 'spark': 1, 'belt': 1, '1996': 2, 'district': 1, 'eleven': 1, 'transfer': 1, 'creativity': 1, 'africain': 2, 'france': 1, 'start': 1, 'time': 2, 'nantes': 3, 'final': 1, 'romaniabundesliga': 1, 'head': 1, 'tournament': 3, 'form': 3, 'club': 4, 'season': 3, 'striker': 1, 'goals': 2, 'lung': 1, 'child': 1, 'atlanta': 1, 'true': 1, 'goal': 1, 'talented': 1, 'football': 3, 'internationals': 1, '1993': 1, 'grew': 1, '14': 1, '16': 1, '1998': 1, 'cap': 1, 'nations': 2, 'pace': 1, 'atlantique': 1, 'determined': 1, 'tunis': 2, 'achieve': 1, 'promising': 1, '19992000': 1, 'history': 1, '30': 1, 'benslimane': 1, 'coupled': 1, 'household': 1, 'premier': 1, 'turned': 1, 'life': 1, 'fellow': 1, 'disappointing': 2, 'player': 2, 'carved': 1, 'home': 1, 'bundesligas': 1, 'arabic': 1, 'surge': 1, 'failed': 1, 'strength': 1, 'winter': 1, 'friendlies': 1, 'skillful': 1, 'ammar': 1, 'stayed': 1, '1': 2, 'squad': 1, 'virtually': 1, 'widely': 1, 'finding': 1, 'performance': 1, 'zambia': 1, 'gamble': 1, '10': 1, 'gaining': 1, 'ball': 1, 'games': 1, 'appearances': 1, 'detractors': 1, 'adel': 2, 'modest': 1, 'fc': 1, 'germany': 1, 'drought': 1, 'finals': 1, 'inspiration': 1, 'period': 1, 'purchase': 1, 'shortly': 2, '1978': 1, 'considered': 2, 'performances': 1, 'age': 2, 'steady': 1, '1972': 1, '2002': 2, '2001': 1, 'souayah': 1, 'african': 3, 'anchorman': 1, 'professional': 1, 'michel': 1, 'left': 1}, {'essay': 1, 'summer': 1, 'show': 2, 'operas': 1, 'charles': 1, 'domestic': 1, 'years': 1, 'produced': 1, 'musicals': 2, 'controversial': 1, 'queer': 1, 'somerville': 1, 'soloways': 3, 'bunch': 1, 'comedic': 1, 'hamletta': 1, 'womans': 1, 'writer': 1, '28': 1, 'rosenthal': 1, 'betsy': 2, 'program': 1, 'parodied': 1, 'dad': 1, 'songwriting': 1, 'march': 1, 'university': 1, 'song': 3, 'couple': 1, 'continues': 1, 'aizley': 2, 'earnest': 1, 'falcon': 1, 'passim': 1, 'curtis': 1, 'minimalist': 1, 'school': 1, 'mothers': 1, 'conceive': 1, 'performing': 1, 'venue': 1, 'benefit': 1, 'rock': 1, 'works': 1, 'expartner': 1, 'wrote': 2, 'respond': 1, 'stereotype': 1, 'solo': 2, 'efforts': 1, 'creation': 1, 'jennifer': 1, 'born': 2, 'decided': 1, 'musicians': 1, 'forthcoming': 1, 'folk': 4, 'album': 1, 'homefront': 1, 'soloway': 9, 'catie': 1, 'miss': 2, 'tales': 1, 'artificial': 1, 'creative': 1, 'written': 1, 'features': 1, 'bobbies': 1, 'principal': 1, 'shows': 1, 'edited': 1, 'led': 1, 'compilation': 1, 'careerafter': 1, 'notable': 1, 'jill': 1, 'active': 1, 'based': 1, 'carol': 1, 'refers': 1, 'lesbo': 1, 'faith': 3, 'sister': 1, 'river': 1, 'daughter': 1, 'norbert': 1, 'country': 1, 'studied': 1, 'harlyn': 1, 'leaving': 1, 'tour': 1, 'journey': 2, 'signature': 1, 'real': 1, 'improv': 1, 'wheels': 1, 'womens': 1, 'book': 2, 'beany': 1, 'revere': 1, 'cambridge': 1, 'childrens': 1, 'evans': 1, 'potter': 1, 'scene': 1, 'jesus': 1, 'crisissoloways': 1, 'featured': 3, 'open': 1, 'city': 2, 'arts': 1, 'ridge': 1, 'area': 1, 'creator': 1, 'lone': 1, 'music': 3, 'debbie': 1, 'statement': 1, 'series': 1, 'indiana': 1, 'hollywood': 2, 'humorless': 1, 'separated': 1, 'life': 1, 'club': 1, 'musician': 2, 'training': 1, 'larger': 1, 'child': 1, 'producing': 1, 'buying': 1, 'boyfriend': 1, '1990': 1, 'television': 2, '1994': 1, 'pursue': 1, 'work': 2, 'sexuality': 1, 'tweaking': 1, 'folkrock': 2, 'loves': 1, 'regularly': 1, 'performer': 1, 'boston': 2, 'moved': 2, 'mike': 1, 'couples': 1, 'tom': 1, 'nonbiological': 1, 'performed': 2, 'violence': 1, 'partner': 1, 'nights': 1, 'heather': 1, 'anthology': 1, '1964': 1, 'departments': 1, 'began': 1, 'american': 1, 'started': 2, 'kimballsoloway': 1, 'interested': 1, 'insemination': 1, 'toured': 1, 'comedy': 1, 'entitled': 1, 'briefly': 1, 'harrie': 1, 'collaboration': 1, 'mommies': 2, 'director': 1, 'action': 1, 'produce': 1, 'massachusetts': 2, 'sisters': 2, 'america': 2, 'lesbian': 1, 'man': 1, 'theater': 3, 'brady': 1, 'band': 1, 'camp': 1, 'spent': 1, 'premiered': 1, 'musical': 1, '2002': 1, 'perform': 1, '2000': 1, 'mother': 1, 'title': 1, 'dover': 1, 'original': 1, 'songs': 1}, {'thomas': 1, 'protocol': 1, 'nihilson': 1, 'steve': 1, 'including': 1, 'gb': 1, 'computation': 1, 'queer': 1, 'cold': 1, 'issues': 1, 'internationally': 1, 'nicoletta': 1, 'josh': 1, 'editors': 1, 'writing': 1, 'deke': 2, 'technologywhile': 1, 'program': 3, 'yoyo': 1, 'activities': 1, 'garden': 1, 'angelesbased': 1, 'beat': 1, 'bands': 1, 'rise': 1, 'coast': 1, 'early': 1, 'band': 1, 'hands': 1, 'stehlik': 1, 'zine': 2, 'artist': 1, 'university': 1, 'irvines': 1, 'donna': 1, 'science': 1, 'found': 1, 'movement': 1, 'wrote': 1, 'gang': 1, 'calarts': 1, 'creator': 1, 'homocore': 3, 'born': 1, 'computer': 1, 'implemented': 2, 'organizing': 1, 'ultimately': 1, 'network': 1, 'coeditor': 1, 'daniel': 2, 'dresch': 1, 'provider': 1, 'issue': 1, 'tlgnet': 1, 'shows': 1, 'abbott': 1, 'led': 1, 'creating': 2, 'maintains': 1, 'jennings': 5, 'regional': 1, 'california': 2, 'earliest': 1, 'publisher': 1, 'comrade': 1, 'kids': 1, 'boards': 1, 'resides': 1, 'influential': 2, 'punk': 1, 'fidonet': 2, 'angeles': 1, 'informal': 1, 'fugazi': 1, 'musicians': 1, 'europejennings': 1, 'incorporated': 1, '512': 1, 'south': 1, 'software': 1, 'named': 1, 'presence': 1, 'appeared': 1, 'platformsaside': 1, 'system': 1, 'featured': 1, 'magazines': 1, 'message': 1, 'rarely': 1, 'portable': 1, 'arts': 1, 'networking': 2, 'service': 1, 'bios': 2, 'west': 1, 'create': 1, 'arms': 1, '1988': 1, 'los': 2, 'tom': 1, 'films': 1, 'war': 1, 'authored': 1, 'lived': 1, 'north': 1, 'zines': 2, 'instrumental': 1, 'larry': 1, 'authors': 1, 'technician': 2, 'technologies': 1, 'protocols': 1, '1991': 1, 'works': 1, 'multiplicity': 1, 'originally': 1, 'apostles': 1, 'bbses': 1, 'publications': 1, 'jds': 2, 'san': 1, 'ran': 1, 'boston': 1, 'engineering': 1, 'performed': 1, 'file': 1, 'partner': 1, 'archive': 1, 'livermore': 1, 'built': 1, 'graduate': 1, 'writers': 1, 'fido': 1, 'popularizing': 1, 'francisco': 1, 'phoenix': 1, 'internet': 2, 'wired': 1, 'massachusetts': 1, 'faculty': 1, 'arttechnology': 1, 'america': 2, 'pages': 1, 'jones': 1, '1955': 1, 'happening': 1, 'queercore': 4, 'bulletin': 1}, {'leagues': 1, 'coach': 1, 'minors': 3, '1960': 1, 'edmonton': 1, 'defensiveoriented': 1, 'seals': 1, 'playoffs': 2, 'hornets': 1, 'line': 2, 'winger': 1, '20': 1, '23': 1, 'point': 1, '3': 1, 'bench': 1, 'coaching': 2, 'black': 2, 'hockey': 4, 'alberta': 1, 'team': 1, '196970': 1, 'early': 1, '1954': 1, '1951': 1, '1953': 1, '1952': 1, 'lethbridge': 1, 'bronco': 1, 'wings': 4, 'capitals': 1, 'detroit': 4, 'flyers': 3, 'found': 1, 'finishing': 1, 'round': 1, 'grouping': 1, 'signing': 1, 'fired': 2, 'back': 1, 'born': 1, 'quebec': 1, 'year': 2, '1929': 1, 'odd': 1, 'victor': 1, 'crown1in': 1, 'chicago': 3, 'sparingly': 1, 'recorded': 1, 'ice': 1, 'participants': 1, 'won': 1, 'captured': 1, 'red': 3, 'bucyk': 1, 'led': 1, 'toiling': 1, 'backtoback': 1, 'job': 2, 'assists': 1, 'california': 1, 'settling': 1, 'league': 2, 'instant': 1, 'canadian': 1, 'career': 4, 'cup': 3, 'players': 1, 'american': 1, 'ancestry': 1, 'games': 2, 'traded': 3, 'golden': 1, 'retired': 1, 'presence': 1, 'nhl': 4, 'philadelphia': 1, 'coaching4': 1, 'formidable': 1, '68': 1, 'bruins': 2, '254': 1, 'postseason': 1, 'horvath': 1, 'games2': 1, 'hawks': 2, 'management': 1, 'due': 1, 'offensiverich': 1, 'mark': 1, '183': 1, 'forward': 1, 'uke': 1, 'john': 1, 'canucks': 1, 'head': 2, 'stylistic': 1, 'pittsburgh': 1, 'season': 4, 'offered': 1, 'earned': 1, 'finished': 1, 'goals': 1, 'calder': 1, 'eliminated': 1, 'junior': 2, 'dubbed': 1, 'twoway': 1, 'history': 1, 'losses': 1, '745': 1, 'johnny': 1, 'played': 4, 'boston': 2, 'moved': 1, 'high': 1, 'single': 1, '197071': 1, 'stanley': 2, 'aces': 1, 'viewed': 1, 'native': 1, 'goal': 1, 'retiring': 1, '42': 1, '1961': 1, '1963': 1, 'club': 1, 'vancouver': 1, 'physical': 1, 'conflict': 1, 'difficult': 1, 'scored': 1, 'indianapolis': 1, 'ukrainian': 1, 'reach': 1, 'stasiuk': 11, 'regular': 1, 'significant': 1, 'position': 1, 'seasons': 1, '195758': 1, 'finals': 1, 'man': 1, '1955': 1, 'scouting': 1, 'spent': 3, 'portion': 1, 'points': 1, 'time': 1, 'professional': 1, 'chemistry': 1, 'playing': 1, 'left': 2}, {'yearshe': 1, 'radio': 1, 'decisions': 1, 'flynnin': 1, 'based': 1, 'writes': 1, 'writing': 1, 'program': 1, 'local': 1, '2012': 3, 'regularly': 2, 'australia': 2, 'founding': 1, 'early': 1, 'made': 1, 'blogging': 1, 'articles': 1, 'january': 2, 'wednesday': 1, 'journalist': 1, 'team': 1, 'wrote': 1, 'geek': 1, 'born': 1, 'titles': 1, 'corporations': 1, 'wire': 1, 'searchcio': 1, 'current': 1, 'commentator': 1, 'shows': 1, 'focuses': 1, 'run': 1, 'business': 2, 'members': 1, 'news': 1, 'caruana': 3, 'david': 1, 'melbourne': 3, 'april': 1, 'magazine': 2, 'freelance': 2, 'executives': 1, 'appeared': 1, 'contributor': 1, 'apc': 1, 'macworld': 1, 'spoke': 1, 'start': 1, 'addition': 1, 'opportunity': 1, 'commission': 1, '2': 1, 'editor': 3, 'convention': 1, 'techtarget': 1, 'australian': 3, 'journo': 1, 'influencershe': 1, 'club': 1, 'broadcast': 1, 'part': 1, 'review': 1, 'october': 1, '2011': 2, 'pc': 1, 'air': 1, 'reviews': 1, 'publications': 1, 'launched': 1, 'raf': 1, 'pocket': 1, 'topic': 1, 'au': 1, 'march': 1, 'technology': 5, 'anz': 1, 'affairs': 1, '1968': 1, 'media': 1, 'epsteins': 1, 'write': 1, 'successful': 1, 'speaks': 1, 'events': 1, '774': 1, 'product': 1, 'advice': 1, 'nationally': 1, 'regular': 2, 'segment': 1, 'thoughts': 1, 'anthony': 1, 'age': 1, 'drive': 1, 'original': 1, 'chief': 1, 'broadcasting': 2, '330pmsince': 1, 'senior': 1, 'section': 1}, {'office': 1, 'issued': 1, 'islay': 1, 'centralized': 1, 'years': 1, 'themes': 1, 'london': 2, 'controversial': 1, 'children': 1, 'aldingtontolstoy': 1, 'staff': 1, 'founder': 1, 'concerned': 3, 'april': 1, 'royal': 1, 'ele': 1, 'heritage': 1, 'lord': 1, 'thousands': 1, 'aspects': 1, 'norse': 1, 'brigadier': 1, 'hebridean': 2, 'exdeputy': 1, 'communities': 1, 'ngos': 1, 'founded': 1, 'russia': 1, 'journalist': 1, 'works': 1, 'refugees': 1, 'apparentlyvirtuous': 1, 'view': 1, 'people': 1, 'back': 1, 'society': 1, 'books': 2, 'operation': 1, 'delivered': 1, 'assisted': 1, 'conservative': 1, 'written': 1, 'tens': 1, 'lecture': 1, 'birds': 1, 'public': 1, 'historical': 1, 'defend': 1, 'dictators': 1, 'protection': 1, 'fifteen': 1, 'forum': 1, 'ministry': 1, 'island': 1, 'british': 1, 'foreign': 1, 'trial': 2, 'place': 1, 'west': 1, 'organisation': 2, 'south': 1, 'libel': 1, 'point': 1, 'africa': 1, 'scottish': 2, '1945': 2, 'cossack': 1, 'isles': 2, 'ian': 1, 'army': 1, 'illegal': 1, '1989': 1, '6': 1, 'defensemitchell': 1, 'lived': 1, 'north': 1, 'moscow': 2, 'aldington': 1, 'broadcast': 1, 'environmental': 1, 'part': 1, 'lives': 1, 'realms': 1, 'yugoslav': 1, 'grew': 1, 'places': 1, 'stalin': 1, 'cost': 1, 'behavior': 1, 'voice': 1, 'mitchell': 3, 'called': 2, 'imposts': 1, 'bureaucracymitchell': 1, 'critic': 1, 'orders': 1, 'compared': 1, 'author': 3, 'nazismitchell': 1, 'scotland': 2, 'damage': 1, 'handed': 1, 'book': 2, 'chairman': 1, 'party': 1, 'illegally': 1, 'voyage': 2, 'director': 1, 'claims': 2, 'natural': 1, 'reputation': 1, '2007': 1, 'perjured': 1, 'rural': 2, 'operate': 1, 'tito': 1, 'bodies': 1}, {'albion': 1, 'coach': 1, 'managed': 1, 'athletic': 1, 'argyle': 1, 'month': 1, 'steve': 1, 'manager': 2, 'nephew': 1, 'scoring': 1, '21': 1, 'threemonth': 1, 'wes': 1, 'september': 1, 'coaching': 1, 'rejoined': 2, 'soccer': 1, 'footballer': 1, '11': 1, 'brighton': 1, 'march': 1, 'returning': 1, 'hodges': 1, 'musker': 1, 'break': 1, 'torquay': 7, 'immediately': 1, 'minute': 1, 'liskeard': 1, 'february': 2, 'clevedon': 1, 'january': 1, 'debut': 1, 'joined': 1, 'serves': 1, 'mccall': 1, 'side': 2, 'plainmoor': 1, '2004on': 1, 'england': 2, 'villa': 1, 'peripheral': 1, 'back': 1, 'born': 2, 'eddie': 1, 'joyces': 1, 'sean': 1, 'tauntons': 1, 'terms': 1, 'substitute': 2, '7': 2, 'noncontract': 1, 'august': 3, 'initially': 1, 'merthyr': 1, 'duane': 1, '1979is': 1, 'november': 1, 'pilgrims': 1, 'bideford': 3, 'resumed': 1, 'league': 1, 'great': 1, 'career': 2, '30': 1, 'contract': 3, 'trial': 1, 'american': 1, 'calgary': 1, '20072008': 1, 'saunders': 1, 'taunton': 2, 'win': 2, 'loan': 2, 'arsenal': 1, 'leon': 1, 'represented': 1, 'hapgood': 2, 'conference': 1, 'russell': 1, 'initial': 1, 'schoolboyshapgood': 1, '6': 1, 'teamin': 1, 'injury': 1, 'hapgoodleon': 1, 'recovered': 1, 'amateur': 1, 'club': 1, 'academy': 1, 'offered': 1, 'released': 2, 'teaming': 1, 'apprentice': 2, 'town': 4, '10': 1, 'october': 1, 'join': 2, '1997': 1, '1999': 2, '1998': 1, 'work': 1, 'yeovil': 1, 'signed': 1, 'final': 1, 'plymouth': 2, 'parkhe': 1, 'uk': 1, 'played': 1, 'december': 1, 'turned': 1, 'states': 1, 'player': 2, 'allowed': 1, 'north': 1, 'tydfil': 1, 'bidefordhe': 1, 'united': 3, 'berkhamsted': 1, 'began': 1, 'foothills': 1, 'role': 1, 'kevin': 1, 'season': 3, 'hove': 1, 'injured': 1, 'play': 1, 'extended': 1, 'onemonth': 1, 'june': 3, 'william': 1, 'fa': 1, 'coming': 1, 'vase': 1, 'expired': 1, 'subsequently': 2, '38th': 1, 'moved': 4, 'failing': 1, '2002': 1, '2003': 1, '2000': 2, '2001': 2, '2007': 2, 'english': 1, 'professional': 1, '2008': 1, 'starting': 1, 'playing': 1, 'left': 2}, {'giggles': 1, 'actress': 1, 'produced': 1, 'dont': 2, 'tv': 1, 'character': 1, 'young': 1, 'lets': 1, '8': 1, 'costarring': 1, 'lilly': 1, '2011': 1, '2010': 3, '2013': 1, 'march': 1, 'songwriter': 1, 'records': 1, 'game': 1, 'october': 2, 'dreams': 1, 'cyberbully': 1, 'lost': 1, 'cleaners': 1, 'dreamosments': 1, 'debut': 1, 'morris': 1, 'channel': 2, 'rock': 1, 'gerti': 1, 'emmy': 1, 'series': 3, 'crackle': 1, 'born': 2, 'recently': 3, 'alternativeindie': 1, 'album': 2, 'abc': 2, 'lead': 1, 'diamondosment': 1, 'movie': 5, 'nightmare': 1, 'recorded': 1, 'stines': 1, 'melissa': 1, 'emily': 1, 'disney': 2, '3d': 1, 'truscott': 1, 'california': 1, 'costar': 2, 'starred': 2, 'gained': 1, 'hits': 1, 'kids': 2, 'service': 1, 'island': 1, 'sitcom': 1, 'angeles': 1, 'american': 1, 'awardnominated': 1, 'childhood': 1, 'features': 1, 'family': 2, 'pop': 2, 'mitchel': 1, 'osment': 1, 'working': 1, 'fight': 1, 'los': 1, '2': 1, 'music': 1, 'stars': 1, 'films': 1, 'lovesick': 1, 'teen': 1, 'flight': 1, 'volume': 1, 'repertoire': 1, 'jordan': 1, '2014': 2, '10': 1, 'television': 2, '1992': 1, 'hour': 1, 'windup': 1, '19': 1, 'expanded': 1, 'didnt': 1, 'musso': 1, 'spy': 2, 'alongside': 1, 'single': 2, 'lifetime': 1, 'fame': 1, 'cassie': 1, 'dadnapped': 1, 'hannah': 3, '5': 1, 'online': 1, 'daughters': 1, 'entitled': 1, 'june': 1, 'montana': 3, 'haunting': 1, 'friends': 1, 'singer': 1, 'released': 3, 'hungry': 1, 'gabi': 1, 'original': 2}, {'selection': 2, 'shot': 3, 'fifthhighest': 1, 'switched': 1, 'accurate': 1, 'years': 1, 'ended': 1, 'aggressive': 1, 'gasping': 1, 'roanoke': 1, '25': 1, 'style': 1, '696': 1, '21': 1, 'earned': 1, 'admission': 1, 'writer': 1, 'dickinson': 1, 'worth': 1, '201112': 1, 'division': 2, 'big': 1, 'schoola': 1, 'virginia': 2, 'game': 1, '12': 1, 'world': 1, 'bit': 1, 'school': 1, 'crisp': 1, 'university': 1, 'lexington': 1, '2310': 1, 'team': 2, 'alltime': 1, 'wrote': 1, 'back': 1, 'brill': 1, 'born': 1, 'wlbill': 1, 'year': 2, 'explosive': 1, 'ability': 1, 'prolific': 1, 'jumped': 1, 'jump': 2, '195455': 1, 'fans': 1, 'score': 1, 'tripleteamed': 1, 'shooters': 1, 'foundation': 1, 'led': 1, 'lee': 1, 'defenses': 1, 'june': 1, 'wl': 2, 'razzledazzle': 1, '109': 1, 'baseball': 1, 'free': 2, '1935': 1, 'news': 1, 'throw': 1, 'dribbled': 1, 'generals': 1, 'standout': 1, 'career': 3, 'ncaa': 2, 'times': 1, 'american': 1, 'games': 1, 'throws': 1, 'jersey': 2, 'named': 1, 'point': 1, 'washington': 1, 'guard': 1, 'total': 1, 'conference': 2, 'city': 1, 'helms': 1, 'basketball': 2, 'top': 1, 'sports': 1, '730': 1, 'season': 1, 'finished': 1, 'opposing': 1, 'allsouthern': 1, '696for954': 1, 'helped': 1, 'made': 2, 'double': 1, 'straight': 1, 'air': 1, 'ballhandling': 1, 'college': 1, 'history': 3, 'played': 4, 'high': 2, 'player': 2, 'native': 1, 'allamerica': 1, 'floraflora': 1, 'flora': 6, 'located': 1, 'conclusion': 1, 'play': 1, 'ball': 1, 'floras': 1, 'price': 1, 'southern': 1, 'hand': 2, 'william': 1, 'dominick': 1, 'scorer': 1, '195758': 2, 'dom': 2, 'average': 1, 'points': 2, 'time': 1, 'senior': 1, 'left': 2}, {'operations': 1, 'serving': 1, 'mexican': 1, 'lester': 1, 'divisionborn': 1, 'postdoctoral': 1, 'captain': 1, 'surviving': 1, 'sciences': 1, '1943': 1, '28': 1, 'aviv': 1, 'natonsf': 1, 'rica': 1, 'division': 1, 'returned': 1, 'polytechnic': 1, 'school': 2, 'scholar': 2, 'mathematician': 1, 'university': 11, 'hawaii': 1, 'secretary': 1, 'mathematical': 2, 'tel': 1, 'fair': 1, 'born': 1, 'computer': 1, 'fulbright': 2, 'obispo': 1, 'research': 4, 'state': 1, 'hill': 1, 'dubins': 1, 'theory': 1, 'free': 1, 'ranger': 1, 'appointments': 1, 'california': 2, 'york': 1, 'advisor': 1, 'luis': 1, 'phd': 1, 'institute': 2, 'residence': 1, 'study': 1, 'benfords': 1, 'american': 1, 'military': 1, 'probability': 1, 'point': 1, 'berkeley': 1, 'washington': 1, 'amsterdam': 1, 'army': 2, 'west': 1, 'mathematics': 3, '25th': 1, 'cimat': 1, 'academy': 2, 'gttingen': 3, 'gauss': 1, 'emeritus': 1, 'georgia': 2, 'ma': 1, 'stanford': 1, 'work': 2, 'theories': 1, 'career': 1, 'ms': 1, 'stopping': 1, 'distinguished': 1, 'engineers': 1, 'studied': 1, 'san': 1, 'mexico': 1, 'december': 1, 'preston': 1, 'infantry': 1, 'fellow': 1, 'states': 1, 'engineering': 1, 'technology': 2, 'united': 1, '1966': 1, 'graduate': 1, 'adjunct': 1, 'universityhe': 1, 'electrical': 1, 'leiden': 1, 'optimal': 1, 'temporary': 1, 'combat': 1, 'centre': 1, 'theodore': 1, 'problems': 1, 'flatbush': 1, 'law': 1, 'class': 1, 'costa': 1, 'professor': 5, 'spent': 1, 'vietnam': 1}, {'unified': 1, 'neopagan': 1, 'antisemitism': 1, 'police': 1, 'personal': 1, 'workers': 1, 'lithuania': 2, 'zionism': 1, 'citizen': 1, 'poles': 1, 'volunteer': 1, '2011': 1, 'pending': 1, '2012': 1, 'eventually': 1, 'seized': 1, 'municipal': 1, 'moribund': 1, 'government': 1, 'nation': 1, 'made': 1, 'gyvenimo': 1, 'paramilitary': 1, 'married': 1, 'leave': 1, 'rituals': 1, 'iauliai': 2, 'gervaldas': 3, 'jews': 1, 'national': 5, 'creation': 1, 'born': 1, 'computer': 1, 'preaching': 1, 'year': 1, 'gervaldass': 1, 'defence': 1, 'partija': 1, 'legal': 1, 'globalism': 1, '3': 1, 'investigation': 1, 'refusedin': 1, 'conditions': 1, 'leader': 1, 'movement': 1, 'lithuanian': 6, 'led': 1, 'carried': 1, 'members': 1, 'november': 1, 'win': 1, 'change': 1, 'prosecutors': 1, 'antisemitic': 2, 'computers': 1, 'demanded': 1, 'minorities': 2, 'april': 2, 'conducted': 1, 'logic': 1, 'hatred': 1, 'alliance': 2, 'reasons': 1, 'radical': 1, 'municipality': 1, 'registration': 1, 'establish': 1, 'city': 2, 'murza': 3, 'basis': 1, 'political': 1, 'revive': 1, 'passed': 1, 'logikos': 1, 'life': 1, 'hard': 1, 'attacked': 1, 'attempted': 1, 'russian': 1, 'population': 1, 'colleagues': 1, '12': 1, 'politician': 1, '16': 1, '19': 1, '1998': 1, 'socialist': 2, 'statementsin': 1, 'elections': 1, 'aims': 1, 'marriage': 1, 'publications': 1, 'voice': 1, 'called': 1, 'nationalist': 1, 'december': 1, 'council': 2, 'encompass': 1, 'unbearable': 1, 'compared': 1, 'court': 1, 'russians': 1, 'zlata': 1, 'member': 3, 'unity': 1, 'rapova': 1, 'forces': 1, 'party': 6, 'nationalistsocialist': 1, 'plans': 1, '2005': 2, 'prosecution': 1, 'drives': 1, 'sponsored': 1, 'lithuanias': 1, 'neonazi': 1, '1973': 1, '2001': 1, 'time': 1, 'mindaugas': 5, 'organization': 1, 'democratic': 1, 'gervaldason': 1}, {'leagues': 1, 'tomlin': 1, 'cincinnati': 1, 'september': 2, 'years': 1, 'held': 1, 'scott': 1, 'member': 2, 'expos': 6, 'denver': 2, 'bases': 1, '11': 1, 'batted': 3, 'hit': 3, 'big': 1, 'end': 1, '672': 1, 'early': 1, 'game': 3, '1951': 1, 'hall': 2, 'association': 1, 'catcher': 3, 'appearing': 1, 'ended': 1, 'pinch': 1, 'university': 1, 'level': 1, 'doubled': 1, '16': 1, 'affiliate': 1, 'january': 1, '296': 1, 'development': 1, 'pirates': 1, 'gamesin': 1, '195': 1, 'righthanded': 1, '190': 1, 'born': 1, 'kgreece': 1, 'blues': 1, '86': 1, 'rarely': 1, 'stood': 1, 'robert': 1, 'nondrafted': 1, '7': 1, 'international': 1, 'run': 2, 'free': 1, 'baseball': 1, 'triplea': 1, 'beginning': 1, 'league': 5, 'hits': 1, 'career': 1, 'days': 1, 'contract': 1, 'times': 1, 'trial': 1, 'american': 2, 'games': 5, 'montreal': 4, 'reds': 1, 'major': 2, 'striking': 1, 'feet': 1, 'bats': 1, 'gary': 1, 'reached': 1, 'total': 1, 'appearancereece': 1, 'carter': 1, '1981': 1, 'bears': 1, 'top': 1, 'system': 2, '6': 1, 'collected': 2, 'final': 2, 'minor': 2, 'threw': 1, 'started': 2, 'season': 3, '185': 1, 'pitcher': 1, 'dave': 1, 'riverfront': 1, 'atlanta': 1, 'memphis': 1, 'mlb': 4, 'balls': 1, 'braves': 1, 'signed': 2, 'future': 2, 'famer': 2, 'played': 3, 'pounds': 1, 'agent': 1, 'weighed': 1, 'player': 2, 'stanford': 1, 'stint': 1, 'robinson': 1, 'stadiumhe': 1, 'bigleague': 1, 'reece': 5, 'april': 1, '47': 1, 'rout': 1, 'atbats': 1, 'graduate': 1, '1': 1, 'pittsburgh': 1, 'parts': 1, '5': 1, 'inch': 1, 'niekro': 1, 'scored': 1, 'farm': 1, 'june': 1, 'regular': 1, 'tall': 1, 'seasons': 1, 'singled': 1, 'bearsin': 1, 'don': 1, '1978': 2, '1975': 1, 'phil': 1, '1973': 1, 'spent': 1, 'playing': 1, 'lateseason': 1, 'doubleheader': 1, 'relief': 1, 'professional': 1, 'careerhigh': 1, 'spend': 1, 'hitless': 1}, {'anglican': 1, 'writings': 1, 'contemporary': 1, 'report': 1, 'including': 1, 'death': 4, 'group': 1, 'title': 1, '1947': 1, 'clergy': 1, 'degrees': 1, 'board': 1, 'cowrote': 1, 'born': 1, 'wales': 1, 'include': 2, 'mortality': 1, 'federation': 1, 'read': 1, 'leadershipborn': 1, 'christianityprofessor': 1, 'symbolism': 1, 'projects': 1, 'articles': 1, 'masters': 1, 'prize': 1, 'nottingham': 1, 'fields': 1, 'university': 6, '20002003': 1, 'large': 1, 'rituals': 1, 'common': 1, 'innerspeech': 1, 'popular': 1, 'achieved': 1, 'globe': 1, 'authority': 1, 'society': 2, 'taught': 1, 'college': 2, 'sociology': 1, 'uppsala': 1, 'douglas': 1, 'research': 1, 'current': 1, 'religion': 5, 'sociological': 2, 'won': 1, 'attitudes': 1, 'international': 1, 'yearhis': 1, 'recently': 1, 'belief': 3, 'degree': 1, 'anthropology': 2, 'bachelor': 1, 'graves': 1, 'teaches': 2, 'boards': 1, 'oxford': 1, 'involved': 1, 'study': 3, 'ritual': 3, 'british': 3, 'published': 1, 'theologyhe': 1, 'letters': 1, 'johns': 1, 'number': 1, 'durham': 4, 'undergraduate': 1, 'purityhe': 1, 'conference': 2, 'arts': 1, 'guest': 1, 'awarded': 1, 'master': 1, 'interests': 1, 'alastair': 1, 'funerary': 1, 'honorary': 1, 'booksellerdiagram': 1, '1995': 1, 'room': 1, 'surrounding': 1, 'scandinavian': 1, 'chads': 1, 'sweden': 1, 'editorial': 2, 'doctorate': 1, 'beliefs': 1, 'reusing': 1, 'history': 2, 'conferences': 1, 'modules': 1, 'expertise': 1, 'prayer': 1, 'st': 2, 'association': 1, 'cremation': 3, 'shaw': 1, 'james': 1, 'studying': 1, 'member': 1, 'book': 1, 'speaker': 1, 'chairman': 1, 'department': 1, 'encyclopedia': 1, 'rites': 1, 'phd': 1, '19402000': 1, 'mormonism': 1, 'identity': 1, 'oddest': 1, 'professor': 1, 'doctor': 1, 'cover': 1, 'barcelona': 1, 'theology': 4, 'davies': 2, '2004': 1, 'senior': 1, '2003within': 1}, {'gdr': 2, 'german': 3, 'asteroids': 3, 'resistance': 1, 'merit': 1, 'discovered': 2, 'sources': 1, 'fighters': 1, 'human': 1, 'managers': 1, 'religious': 1, 'schmidt': 1, '3859': 1, 'lowell': 1, 'continues': 1, 'ahnert': 1, 'choice': 1, 'famous': 1, 'cultural': 1, 'observatory': 3, 'bande': 1, 'thuringia': 1, 'systematically': 1, '3245': 1, 'byproduct': 1, 'small': 1, 'telescope': 1, 'achieved': 1, '3941': 1, 'related': 1, 'born': 1, 'astronomer': 1, 'examples': 1, 'year': 1, 'ribbon': 1, 'chose': 1, 'namings': 1, 'federal': 1, 'restricted': 1, 'research': 2, 'include': 2, 'wellsubstantiated': 1, 'honoured': 2, 'scientists': 1, 'international': 1, 'numerous': 1, 'haydn': 1, 'scientific': 2, 'arizonain': 1, 'asteroid': 1, 'galaxies': 1, '1930': 1, 'spare': 1, 'khler': 1, 'tautenburg': 2, 'search': 1, 'studied': 1, 'times': 1, '519': 1, 'objects': 1, 'jensch': 1, 'retired': 1, 'community': 1, 'references': 1, 'names': 3, 'freimuthhe': 1, 'awarded': 1, 'anderson': 1, 'horst': 1, 'iau': 1, 'amateur': 1, 'schwarzschild': 1, '2424': 1, 'great': 1, 'interestfreimut': 1, 'neutral': 1, 'july': 1, 'reunification': 1, 'october': 1, '1995': 1, '17': 1, 'brngen': 4, 'work': 2, 'historical': 1, 'politically': 1, 'give': 1, 'topics': 1, 'prestigious': 1, 'station': 1, 'nazi': 1, 'karl': 1, 'regime': 1, 'cross': 1, 'astronomers': 1, '3181': 1, 'geographical': 1, 'bundesverdienstkreuz': 1, 'document': 1, 'composers': 1, 'wrongly': 1, 'bowell': 1, 'germany': 1, 'suppression': 1, 'president': 1, 'mesa': 1, 'freelancer': 1, 'considered': 1, 'freimut': 1, 'reputation': 1, '2006': 2, 'qualities': 1, 'time': 1}, {'brahms': 1, 'german': 1, 'berkeleyfrom': 1, 'rector': 1, 'paul': 2, 'conservatoire': 1, 'basel': 4, '1944': 1, 'board': 2, '8': 1, 'piano': 1, 'include': 1, 'heidelberg': 1, 'gave': 1, 'cagehe': 1, 'founding': 1, 'gdanskbrm': 1, '1990': 1, 'de': 3, 'school': 2, 'famous': 1, 'regio': 1, 'du': 1, 'association': 1, 'conservatory': 1, 'sortisatio': 1, 'university': 3, 'argentinahe': 1, 'choir': 1, 'chamber': 2, 'schatt': 1, 'musique': 1, 'works': 1, 'luci': 1, 'groupe': 1, 'czech': 1, '1987': 3, 'national': 1, 'pierre': 1, 'competition': 1, 'born': 1, 'college': 1, 'lucerne': 2, 'fribourg': 1, 'musicales': 1, 'composers': 1, 'anton': 1, 'requiem': 1, 'research': 1, 'international': 1, 'lacroix': 1, 'angelus': 1, 'jury': 1, 'philharmonic': 1, 'klee': 2, 'jeunesses': 1, '1984': 1, 'litteri': 1, 'california': 1, 'graduated': 1, '100': 1, 'rptiteur': 1, 'compositions': 1, 'conducting': 1, 'institute': 1, 'studied': 1, 'april': 1, 'hokuto': 1, 'thring': 1, 'boulez': 1, 'honor': 1, 'composed': 1, 'zentralschweiz': 1, 'cd': 1, 'suissebrm': 1, 'silesius': 1, 'brm': 1, 'composer': 2, 'slovakia': 1, 'cs': 1, 'webern': 1, '2000': 1, 'city': 1, 'arts': 1, 'guest': 2, 'festival': 3, 'variously': 1, 'johannes': 1, 'cantata': 1, 'music': 7, 'master': 2, 'john': 1, 'head': 1, 'musicology': 1, 'conductor': 3, 'academy': 2, 'worked': 2, 'painter': 1, '10': 1, '1999': 2, 'science': 1, 'des': 1, 'classes': 1, 'ombre': 1, 'called': 1, 'composition': 2, 'concours': 1, 'pieces': 1, 'high': 1, 'council': 1, 'curtis': 1, 'influenced': 1, 'holds': 1, 'foundationfrom': 1, 'member': 4, 'republic': 1, 'sacred': 1, 'conductorbrm': 1, 'ensemble': 1, 'junge': 1, 'binningenbasel': 1, 'aspen': 1, 'director': 1, 'regular': 1, 'president': 1, 'philharmonie': 1, 'europenne': 1, 'pardubice': 1, '1973': 1, 'chief': 1, '2001': 1, '2006': 2, 'swiss': 3}, {'aharon': 2, 'corps': 1, 'september': 2, 'settlements': 1, 'years': 3, 'quotes': 1, 'london': 1, 'agricultural': 1, '25': 1, '27': 1, 'rosh': 1, '22': 1, '1965the': 1, 'raffray': 1, '1941': 1, '1946': 1, 'young': 1, 'micronesia': 1, 'harrow': 1, 'finally': 1, 'edward': 1, 'east': 1, '2010': 1, 'kingdom': 1, 'returned': 1, 'cuba': 1, 'sussex': 1, 'early': 1, 'wallis': 1, 'sons': 1, 'traveled': 1, '1958': 1, 'association': 1, 'chapel': 1, 'school': 2, '1997': 1, 'married': 3, 'joined': 1, 'officer': 1, 'team': 2, 'barracks': 1, 'husband': 1, 'england': 2, 'ten': 1, 'intelligence': 1, 'national': 1, 'aida': 1, 'aldrich': 1, 'born': 1, 'defense': 1, 'year': 1, 'israeli': 2, 'jackson': 1, 'turks': 1, 'record': 1, 'trainers': 1, 'freediving': 2, 'disciplines': 1, 'foundation': 1, 'attended': 1, 'joy': 1, 'corisande': 1, 'greatwood': 1, 'le': 1, 'taught': 1, 'members': 1, 'served': 1, 'brokerage': 1, 'teach': 1, 'mariateresa': 1, 'nadav': 1, 'limits': 1, '1932': 1, 'changed': 1, 'shipping': 1, 'ideology': 1, 'april': 1, '1957': 1, 'zeev': 1, 'action': 1, 'settled': 1, 'childhood': 1, 'egypt': 1, 'father': 3, 'son': 2, 'regiment': 1, 'trained': 1, 'huntemuller': 1, '1939': 1, 'institut': 1, 'weight': 1, 'met': 1, 'system': 1, 'heights': 1, 'baptised': 1, 'switzerlandin': 1, 'died': 2, 'house': 1, 'aharons': 2, 'mary': 2, 'separated': 1, 'israel': 2, 'lived': 1, 'pinna': 1, 'moved': 1, 'train': 1, 'westbourne': 1, 'child': 3, 'hc': 1, 'instructor': 1, '1992': 1, '196768': 1, 'inducted': 1, '1998': 1, 'work': 1, 'mexicomarcus': 1, 'sinai': 1, 'guards': 2, 'mt': 2, 'freedivingsolomons': 1, 'viii': 1, 'uk': 3, 'henry': 2, 'ernest': 4, 'freedivers': 1, 'scuba': 1, 'ferreras': 1, 'firm': 1, 'pipin': 1, 'constant': 1, 'mexico': 1, 'caicos': 1, 'greece': 2, 'india': 1, 'spent': 1, 'middle': 1, 'partner': 1, 'communal': 1, 'united': 1, '1964': 1, 'uri': 1, '1960': 1, 'ne': 1, '1962': 1, 'kirk': 1, 'forces': 1, 'rosey': 1, 'holderborn': 1, 'golan': 1, 'francisco': 1, 'time': 1, 'student': 1, 'friends': 1, 'spence': 1, 'freediver': 1, 'eilat': 1, 'solomons': 10, 'fathers': 1, 'wife': 2, 'pennsylvania': 1, '1975': 1, '1973': 1, 'wellington': 1, 'ibiza': 1, '2001': 1, 'mother': 1, 'commissioned': 1, '2008': 1, 'coldstream': 1, 'simpson': 6}, {'rabbi': 4, 'torah': 1, 'committee': 1, 'yael': 1, 'endowment': 1, 'medrash': 1, 'hills': 2, 'internationally': 1, 'earned': 1, 'dick': 1, 'cheney': 1, 'young': 1, 'fund': 1, 'bush': 1, 'stephen': 1, 'mayors': 1, 'ordained': 1, 'increased': 3, 'lakewood': 1, 'michigan': 1, 'masters': 1, 'govoha': 1, 'congregation': 2, 'closely': 1, 'jacob': 2, 'township': 1, 'school': 2, 'scholar': 1, 'university': 2, 'beverly': 2, 'served': 1, 'webb': 1, 'expanded': 1, 'leaders': 1, 'stern': 1, 'invocations': 1, 'cattle': 1, 'substantially': 1, 'businessweil': 1, 'delivered': 1, 'visiting': 1, 'public': 1, 'theological': 1, 'attended': 1, 'business': 1, 'weil': 2, 'california': 1, 'term': 1, 'vice': 1, 'congregations': 2, 'resides': 1, 'country': 1, 'programming': 1, 'american': 2, 'jersey': 1, 'york': 3, 'jimmy': 1, 'synagogues': 1, 'fundraiser': 1, 'steven': 1, '250': 1, 'administration': 1, 'george': 1, 'girls': 1, 'yeshivat': 1, 'israel': 4, '750': 1, 'families': 2, 'jewish': 1, 'park': 1, 'isaac': 1, 'kerem': 1, 'teaneck': 1, 'worked': 2, 'grew': 1, 'advocating': 1, 'wife': 1, 'arnold': 1, 'residence': 1, 'byavneh': 1, 'seminary': 1, 'strongly': 1, 'yeshiva': 1, 'high': 1, 'education': 1, 'ohr': 1, 'schwarzenegger': 1, 'affairs': 1, 'jerseyin': 1, 'oak': 1, 'successful': 1, 'elchanan': 1, 'delshad': 1, 'farm': 1, 'southern': 1, 'californiaweil': 1, 'membership': 2, 'president': 2, 'beth': 3, 'upstate': 1, 'boys': 1, 'considered': 1, 'governor': 1}, {'serving': 1, 'significantly': 1, '2007in': 1, 'statewide': 1, 'wasnt': 1, 'thingit': 1, 'national': 1, 'executive': 1, 'houses': 1, 'heard': 1, 'single': 1, 'including': 1, 'election': 2, 'committee': 2, 'gary': 1, '6925': 1, 'north': 4, 'members': 1, 'increased': 1, '24': 1, 'siren': 1, 'retirement': 1, 'terms': 1, 'figure': 1, 'candidate': 1, 'chosen': 1, '3512': 1, 'description': 1, 'distracted': 1, 'political': 1, 'state': 3, '1': 1, 'senate': 1, 'finally': 1, 'setting': 1, 'candidates': 1, 'board': 1, 'won': 1, 'karls': 1, 'party': 4, 'learned': 1, 'emineth': 1, 'meeting': 1, '2010': 1, 'chairman': 5, 'ken': 1, 'led': 1, 'partys': 1, 'dakota': 4, 'beltway': 1, 'successful': 1, 'office': 1, 'republicans': 2, 'pieces': 1, 'foremost': 1, 'director': 2, 'fargo': 1, 'job': 1, 'majorities': 1, 'representative': 1, 'letter': 1, 'senator': 1, 'rolling': 1, 'july': 2, 'republican': 5, '1958': 1, 'legislature': 1, 'october': 1, '2007s': 1, 'born': 1, 'station': 1, 'inside': 1, 'house': 1, 'finance': 2, 'lead': 1, 'motion': 1, 'train': 1, 'place': 1, 'victory': 1, 'time': 1, 'marginin': 1, 'wheels': 1, 'margin': 1, 'wrote': 1, 'songs': 1}, {'kosovo': 1, 'idealistic': 1, 'unrest': 1, 'including': 1, 'soldiers': 1, 'worked': 2, 'issues': 1, 'based': 1, 'francegrucza': 1, 'la': 1, 'paris': 1, 'young': 1, 'haven': 1, 'veterans': 1, 'australia': 3, 'enclave': 1, 'safe': 1, 'baghdad': 1, 'world': 1, 'documented': 1, 'unique': 1, 'pbs': 1, 'covering': 1, 'refugees': 1, 'cynical': 1, 'pacific': 1, 'zones': 1, 'born': 1, 'individual': 1, 'entering': 1, 'year': 1, 'frontline': 2, 'afghanistan': 2, 'network': 1, 'banff': 1, 'section': 1, 'selected': 1, 'extensively': 1, 'won': 1, 'international': 1, 'cameraman': 1, 'briefinghe': 1, 'men': 1, 'french': 1, 'yuri': 1, 'news': 1, 'iraq': 4, 'working': 1, 'canadian': 1, 'career': 1, 'emmy': 1, 'leaving': 1, 'papua': 1, 'length': 2, 'aka': 1, 'entered': 1, 'documentary': 6, 'maker': 1, 'south': 1, 'pakistan': 1, 'named': 1, 'civil': 1, 'canal': 1, 'timothy': 1, 'platoon': 2, 'palestinian': 1, 'festival': 1, 'west': 1, 'awarded': 1, 'territories': 1, 'films': 1, 'white': 2, 'bitter': 1, 'war': 2, 'grucza': 4, 'festivalin': 1, 'israel': 1, 'north': 1, 'released': 1, 'craft': 1, 'july': 1, 'maldavsky': 1, 'australian': 1, 'television': 1, '1999': 1, 'work': 2, 'country': 1, 'kosovan': 1, 'outstanding': 1, 'pieces': 1, 'escaped': 1, 'film': 5, 'melbourne': 1, 'began': 2, 'feature': 2, '1': 1, 'cinematography': 1, 'hot': 1, 'docs': 1, 'conflict': 1, 'continues': 1, 'frontlinein': 1, 'produce': 1, 'invasion': 1, 'achievement': 1, 'kurdish': 1, 'correspondent': 1, '1976': 1, 'spend': 1, '2002': 1, '2003': 1, '2006': 1, 'repatriated': 1, '2009': 1, 'granted': 1}, {'coach': 3, 'scientologist': 1, 'executive': 1, 'years': 1, 'founded': 1, 'facilities': 1, 'including': 2, 'world': 1, 'captain': 1, 'worked': 1, 'happiness': 1, 'position': 1, 'reverend': 1, '1946': 1, 'methodology': 1, 'association': 2, '2010': 1, 'australia': 1, 'secular': 1, 'utah': 1, 'camino': 1, 'spokespersons': 1, 'supervise': 1, 'applying': 1, '1968': 1, 'continued': 1, 'narconon': 1, 'school': 2, 'adams': 6, 'religions': 1, 'companies': 1, 'chuck': 1, 'teams': 1, 'scholastics': 1, 'trackandfield': 1, 'served': 1, 'el': 1, 'procareer': 1, 'national': 3, '1960s': 1, 'born': 1, 'officials': 1, 'college': 4, 'doug': 1, 'encouraged': 1, 'living': 1, 'falcons': 1, 'robert': 1, 'religion': 1, 'international': 2, 'public': 1, 'steelers': 2, 'newswriters': 1, 'drafted': 1, 'attended': 1, 'august': 1, 'scovil': 1, 'fitness': 1, 'free': 1, 'california': 3, 'members': 1, 'represented': 1, 'received': 1, 'professions': 1, 'scientology': 8, 'melbourne': 1, 'american': 1, 'nonprofit': 1, 'stockton': 1, 'traveled': 1, 'church': 6, 'owning': 1, 'conference': 2, 'city': 1, 'basketball': 1, 'working': 1, '1988': 1, 'sports': 1, 'listed': 1, 'hollywood': 1, 'recruited': 1, 'league': 3, 'pittsburgh': 2, 'season': 1, 'serve': 1, 'participating': 1, 'finished': 1, 'pacific': 1, 'atlanta': 1, '2006': 2, 'applied': 1, 'organizations': 1, '15': 1, 'full': 1, 'consultant': 1, 'official': 1, 'single': 1, 'signed': 1, 'programs': 1, 'san': 2, 'played': 2, 'december': 1, 'agent': 1, 'mateo': 2, 'helped': 1, 'teacherin': 1, 'held': 1, 'criminon': 1, 'offense': 1, 'education': 1, 'affairs': 1, 'end': 1, 'media': 1, '1966': 1, 'member': 2, 'tight': 1, 'high': 2, 'performance': 1, 'play': 2, 'redwood': 1, 'schoolhe': 1, 'bruce': 1, 'football': 7, 'organization': 2, 'president': 4, 'bob': 1, 'noll': 1, 'center': 1, 'vice': 4, '1973': 1, 'senior': 1, 'tech': 1, '2004': 1, 'professional': 1, 'subsequently': 1, '2009': 2, 'playing': 1, 'scholarship': 1}, {'years': 2, 'roy': 5, 'interim': 1, 'including': 1, 'voteon': 1, 'mayor': 1, '26': 1, '27': 1, '22': 1, 'adq': 3, 'merger': 1, '29': 1, 'permanent': 1, '4': 1, 'riding': 1, 'sylvie': 1, '2012': 3, 'partys': 1, 'march': 1, 'easily': 1, 'regional': 1, 'bcancour': 1, 'quebecroy': 1, 'politician': 1, 'du': 1, 'barreau': 1, 'february': 1, '59': 1, 'admitted': 1, 'served': 1, 'universit': 1, 'reelected': 2, 'lotbinire': 1, 'mental': 1, 'house': 1, 'national': 2, 'elected': 1, 'quebec': 2, 'lawyer': 1, 'nowdefunct': 1, 'declined': 1, 'canada': 1, 'tuque': 1, 'electoral': 1, 'won': 1, 'health': 1, 'leader': 3, 'announced': 1, 'assembly': 2, 'degree': 1, 'initially': 1, 'mauricie': 1, 'gilles': 1, 'pq': 1, 'opposition': 1, 'represented': 1, 'dumont': 1, 'arthabaska': 1, 'candidate': 1, 'la': 1, '37': 1, 'named': 1, 'deputy': 1, 'previously': 1, 'municipality': 1, 'county': 1, 'laval': 1, 'vote': 2, 'qubec': 2, 'avenir': 1, 'november': 1, '1987': 1, 'taillon': 1, 'district': 1, '2012she': 1, 'support': 1, '1988': 1, 'awarded': 1, 'qubcois': 1, 'finished': 2, 'sharply': 1, 'jeanguy': 1, 'worked': 1, 'appointed': 1, 'organizations': 1, 'saintsophiedelvrard': 1, '12': 1, '15': 1, 'born': 1, '1998': 1, 'caq': 2, 'official': 1, 'coalition': 1, 'merged': 1, 'election': 4, 'voteparti': 1, 'liberal': 1, 'year': 1, 'votein': 1, 'par': 1, '1964': 1, '44': 1, 'leaderin': 1, 'member': 2, 'incumbent': 1, 'party': 2, 'resignation': 1, 'reelection': 1, 'mario': 1, 'law': 1, 'laurent': 1, 'boissonneault': 1, '2003': 3, '2007': 2, '2008': 1, '2009': 1}, {'gq': 1, 'rob': 1, 'random': 1, 'bright': 1, 'radio': 1, 'crists': 1, 'blender': 1, 'death': 1, 'true': 1, 'childrensheffield': 1, 'folded': 1, 'young': 1, 'writing': 1, 'late': 1, 'tape': 2, 'charlottesville': 1, '2010': 1, '2013': 1, 'woman': 1, 'dj': 1, 'song': 1, 'couple': 1, 'continues': 1, 'virginia': 1, 'quest': 1, 'crist': 1, 'loss': 1, 'february': 1, 'cooler': 1, 'january': 2, 'university': 1, 'married': 1, 'rituals': 1, 'journalist': 1, 'yale': 1, 'starred': 1, 'house': 1, 'excerpt': 1, 'library': 1, 'yorksheffields': 1, 'culture': 1, 'virginiahis': 1, 'contributing': 2, 'version': 1, 'print': 1, 'wtju': 1, 'weekly': 1, 'issue': 1, 'duran': 2, 'publishers': 1, 'attended': 1, 'august': 1, 'sheffield': 3, 'remarried': 1, 'met': 2, 'york': 1, 'received': 1, 'stone': 1, 'mans': 1, 'prior': 1, 'magazine': 1, 'place': 1, 'discusses': 1, 'love': 6, 'pop': 1, 'featured': 1, 'journalmost': 1, 'city': 1, 'takes': 1, 'girls': 1, '2': 1, 'music': 3, 'editor': 2, 'essays': 1, 'eyes': 1, 'released': 3, 'lives': 1, 'july': 1, 'spin': 1, 'karaoke': 1, '1997': 1, 'born': 1, 'reviews': 2, 'ally': 1, 'called': 2, 'rene': 1, 'boston': 1, 'life': 1, 'fellow': 1, 'talking': 1, 'station': 1, 'turn': 1, 'native': 1, 'mutual': 1, 'author': 1, '1966': 1, 'american': 1, 'mix': 2, 'book': 3, 'brooklyn': 1, 'fell': 1, 'rolling': 1, 'wife': 2, '2006': 1, '2007': 2, 'time': 1, '2009': 1, 'haircutsheffields': 1}, {'196971': 1, 'joannides': 1, 'japan': 2, 'coordination': 1, 'devoted': 1, 'based': 1, '1995his': 1, 'paris': 2, 'organisation': 2, 'royal': 1, 'chemistrys': 1, 'gaylussac': 1, 'preparationmichel': 1, '400': 1, '2014': 1, 'include': 1, 'junction': 1, 'federation': 1, '2004his': 1, 'de': 1, 'famous': 1, 'solidstate': 1, 'cracow': 1, 'emergence': 1, 'geo': 1, 'association': 1, 'societies': 2, 'processes': 2, 'electro': 1, 'prize': 1, 'approach': 1, 'assemblies': 1, 'princeton': 1, 'culminating': 1, 'specific': 1, 'leopoldinain': 1, 'activity': 1, 'postdoctoral': 1, 'university': 3, 'bucharest': 1, 'ches': 1, 'supramolecular': 1, 'creation': 1, 'pierre': 1, 'society': 2, 'lisbon': 1, 'techniques': 1, 'universities': 1, 'provided': 1, 'lyon': 2, 'colloidal': 1, 'lectureship': 1, 'contributed': 1, 'research': 1, 'iacs': 1, 'highranking': 1, 'netherlands': 1, 'dioxide': 1, 'causa': 1, 'international': 3, 'gassolid': 1, 'europaea': 1, 'led': 2, 'interfacial': 1, 'opening': 1, 'interfaces': 1, 'understanding': 1, 'pioneered': 1, 'chemistries': 1, 'awards': 1, 'naturforscher': 1, 'active': 1, 'improve': 1, 'isotopes': 1, 'involved': 1, 'study': 1, 'studied': 1, 'biennial': 1, 'promotion': 2, 'studies': 1, 'romania': 1, 'humboldt': 1, 'sklodowskacurie': 1, 'congresses': 1, 'europacat': 1, 'elementary': 1, 'faraday': 1, 'awarded': 1, 'poland': 2, 'institut': 1, 'che': 1, 'france': 3, 'molecular': 1, 'vant': 1, 'liquidsolid': 1, 'completed': 1, 'solidsolid': 1, 'catalyst': 1, 'cycle': 1, 'appointed': 1, 'presidentfounder': 1, '1993': 1, 'born': 1, 'science': 1, 'der': 1, 'work': 2, 'efcats': 1, 'publications': 1, 'heterogeneous': 1, 'doctorate': 1, 'professor': 2, 'transition': 1, 'portugal': 1, 'vi': 1, 'von': 1, 'fellow': 1, '13th': 1, 'titanium': 1, '200004': 1, 'laboratoryindustrial': 1, 'physical': 1, '1968': 1, 'doctor': 1, 'member': 2, 'field': 1, 'honoris': 1, 'catalysis': 7, 'universitaire': 1, 'european': 1, 'elements': 1, 'congress': 1, 'academies': 1, 'hoff': 1, 'sue': 1, 'akademie': 1, 'involving': 1, 'germany': 1, 'president': 1, 'marie': 1, 'journals': 1, 'probes': 1, 'largely': 2, '1975': 1, 'epr': 1, 'deutsche': 1, 'curie': 2, 'academia': 1, 'watermediated': 1, 'position': 1, 'senior': 1, 'chemistry': 1, 'original': 1, 'michel': 1}, {'interpretation': 1, 'including': 2, 'islam': 1, 'industries': 2, 'lateral': 3, 'literary': 1, 'neoliberal': 1, 'cultuur': 1, '2011': 1, '2010': 1, 'founding': 2, 'doukkali': 1, 'arab': 1, 'cultural': 11, 'association': 1, 'societies': 2, 'fields': 1, 'university': 4, 'serves': 3, 'academic': 1, 'azemmour': 1, 'vision': 1, 'en': 1, 'series': 1, 'ofand': 1, 'mediterranean': 1, 'society': 1, 'taught': 1, 'college': 2, 'lateralhis': 1, 'columbia': 2, 'special': 2, 'ba': 1, 'network': 1, 'chicago': 2, 'culture': 1, 'legal': 1, 'mason': 2, 'critical': 3, 'sirah': 1, 'international': 1, 'issue': 2, 'edited': 2, 'modernities2009': 1, 'theory': 1, 'associate': 1, 'journal': 4, 'muslim': 1, 'awards': 1, 'andrews': 1, 'received': 1, 'boards': 1, 'language': 1, 'landscapes': 1, 'industry': 1, 'membership': 1, 'times': 1, 'jaafar': 1, 'american': 2, 'colloquium': 1, 'published': 1, 'studies': 14, 'scholarshe': 1, 'appeared': 1, 'middle': 2, 'george': 2, 'forms': 1, 'law': 1, 'migratie': 1, 'editor': 1, 'cultures': 1, 'antar': 1, 'north': 1, 'eastern': 2, 'award': 2, 'includecultural': 1, 'delta': 1, 'ma': 1, 'marquis': 1, 'born': 1, 'consultant': 1, 'work': 1, 'reviews': 1, 'morocco': 3, 'books': 1, 'publications': 1, 'editorial': 1, '2014arab': 1, 'aksikas': 2, 'history': 1, 'chouaib': 1, '2002his': 1, 'interventions': 1, 'engaged': 1, 'al': 1, 'general': 1, 'states': 1, 'coordinator': 1, 'critic': 1, 'comparative': 1, 'politics': 2, 'united': 1, 'humanities': 1, 'media': 2, 'holds': 2, 'inaugural': 1, 'scholarly': 1, 'illinois': 1, 'member': 1, 'numerous': 1, 'widely': 1, 'akhawayn': 1, 'phi': 1, 'literature': 1, 'lawyers': 1, 'african': 1, 'phd': 1, 'islamic': 2, 'beta': 1, 'president': 1, 'america': 1, 'journals': 2, 'sean': 1, 'purchase': 1, 'communitybased': 1, 'johnson': 1, 'professor': 1, '1974': 1, 'includeculture': 1, 'honor': 1, '2003': 1, 'volumes': 1, 'english': 1, 'mediaculture': 1, 'scholarship': 1}, {'zen': 1, 'steve': 1, 'maine': 1, 'outer': 1, 'zone': 1, 'waterville': 1, 'writer': 1, 'emphasis': 1, 'specializing': 1, 'theme': 1, 'colby': 1, 'speaker': 2, 'circle': 2, 'local': 1, '2010': 1, '2012': 1, 'compassion': 1, 'veganpalooza': 1, 'vegan': 3, 'amazon': 1, '1953': 1, 'world': 2, 'societies': 1, 'carman': 1, 'masters': 1, 'progressive': 1, 'university': 2, 'debut': 1, 'science': 1, 'cofounder': 1, 'spiritual': 1, 'classical': 1, 'born': 1, 'literature': 1, 'college': 1, 'centers': 1, 'state': 1, 'international': 2, 'diethe': 1, 'korea': 1, 'august': 1, 'degree': 2, '1995': 1, 'california': 1, 'berkeley': 1, 'veganism': 1, 'spoke': 1, 'obtained': 1, 'vegetarian': 2, 'studied': 1, 'monk': 1, 'bestseller': 1, 'american': 1, 'context': 1, 'frequent': 1, 'church': 1, 'conference': 2, 'guest': 1, '1980': 1, 'festival': 1, 'music': 2, 'north': 1, 'musician': 1, 'tuttle': 3, '1990': 1, 'made': 1, 'animals': 1, 'rights': 2, 'administrative': 1, 'judy': 1, 'bachelors': 1, 'san': 2, 'conferences': 1, 'organized': 2, 'performed': 1, 'prayer': 1, 'education': 1, 'diego': 1, 'humanities': 1, 'peace': 3, '1': 1, 'unity': 1, '1115': 1, 'harmony': 1, 'animal': 2, 'online': 2, 'events': 1, 'worldwide': 1, 'francisco': 1, 'philosophy': 1, 'june': 1, 'diet': 1, 'phd': 1, 'prussack': 1, 'lectured': 1, 'america': 1, 'calls': 1, '1975': 1, 'author': 1, 'thought': 1, 'inspirational': 1, 'audio': 1, '8th': 1}, {'letterman': 1, 'text': 1, 'actress': 1, 'schools': 1, 'including': 1, 'chair': 1, 'concerned': 1, 'late': 1, 'theme': 1, 'explicitly': 1, 'edmund': 1, '2014': 2, 'lacey': 1, 'songwriting': 1, 'mainstream': 1, 'stokers': 1, 'king': 1, 'vanessa': 1, 'jazz': 1, 'predator': 1, '1955': 1, 'depaul': 1, 'press': 1, 'world': 1, 'dr': 1, 'school': 1, 'success': 2, 'artist': 2, 'january': 1, 'university': 5, 'goofy': 1, 'dallas': 1, 'die': 1, 'glendale': 1, 'virginia': 1, 'gaining': 1, 'art': 1, 'achieved': 1, 'prizzis': 1, 'hard': 1, 'born': 1, 'taught': 1, 'college': 2, 'musician': 1, 'universities': 1, 'chicago': 1, 'movie': 1, 'state': 4, 'won': 1, 'net': 1, 'shows': 1, 'foley': 5, 'dracula': 1, 'night': 2, 'california': 1, 'exhusband': 1, 'television': 2, 'guest': 1, 'stone': 1, 'working': 2, 'ministry': 1, 'career': 1, 'industry': 1, 'cagney': 1, 'experience': 1, 'foreign': 1, 'american': 1, 'grail': 1, 'published': 1, 'studies': 1, 'honor': 1, 'bram': 1, 'knots': 1, 'major': 1, 'image': 1, 'primary': 1, 'cd': 1, 'featured': 1, 'dancer': 1, '1990s': 1, 'telecommunications': 1, 'awardwinning': 1, 'personalities': 1, 'platoon': 1, '1989': 1, 'returns': 1, 'program': 1, 'editor': 1, 'correspondents': 1, 'films': 1, 'started': 1, 'batman': 1, 'starr': 1, 'landing': 1, 'released': 1, '8': 1, 'sound': 2, '1990': 1, '1993': 1, 'georgia': 2, '1999': 1, 'work': 1, 'appearance': 1, 'ament': 4, 'voice': 1, 'invited': 1, 'history': 1, 'endowed': 1, 'updated': 1, '1980s': 1, 'elsevier': 1, 'david': 2, 'film': 2, 'author': 1, 'edwin': 1, 'song': 1, 'book': 1, 'academy': 1, 'entitled': 1, 'development': 1, 'ball': 3, 'columbia': 1, 'beauty': 1, 'phd': 1, 'beast': 1, 'moving': 1, 'lent': 1, 'cuesta': 1, 'focal': 1, 'singer': 1, '1978': 1, 'professor': 1, 'noises': 1, 'academic': 2, 'mdiv': 1, '2001': 1, '2004': 1, '2009': 1, 'postproduction': 1}, {'cincinnati': 1, 'kickoff': 1, 'years': 2, 'logan': 1, 'enjoyed': 1, '25': 1, '1830': 1, 'winning': 1, 'xxix': 1, 'td': 1, 'kick': 1, 'wearing': 1, 'return': 2, 'records': 1, '123': 1, 'longest': 2, 'hall': 1, 'sophomore': 2, 'miami': 1, 'university': 1, 'nfl': 1, 'team': 1, 'round': 1, 'added': 1, 'weighs': 1, 'xxiii': 1, 'back': 1, 'born': 1, '89': 1, 'college': 1, '85': 1, 'plays': 1, 'stands': 1, 'selected': 1, '3': 1, '1391': 1, 'attended': 1, '1135': 1, 'redskins': 1, 'yards': 8, 'tds': 2, 'super': 2, 'mvp': 1, 'league': 1, 'career': 1, 'ncaa': 2, '49ers': 2, 'marc': 7, 'touchdowns': 1, 'washington': 1, 'number': 1, '60': 1, '63': 1, 'carry': 1, '1987': 2, '1985': 1, 'rushed': 1, 'leading': 1, 'eleven': 1, 'returns': 1, 'draft': 1, 'national': 1, 'today': 1, 'successful': 1, 'bengals': 3, 'anthony': 1, 'part': 1, '228': 1, '92': 1, 'junior': 1, '15': 1, '1997': 1, 'scrimmage': 1, 'kentucky': 2, 'record': 1, 'lbs': 1, 'san': 2, 'played': 2, 'averaging': 3, 'fame': 1, '1965': 1, '44': 1, 'bowl': 4, 'carries': 1, '1': 1, 'setting': 1, '325': 1, '9': 1, 'performance': 1, 'scored': 1, 'play': 2, 'francisco': 2, 'receptions': 2, '206': 1, 'football': 2, 'running': 1, 'seasons': 1, 'nflmarc': 1, 'dolphins': 1, 'd1a': 1, 'reception': 1, 'american': 1, 'senior': 1, 'playing': 1}, {'serving': 1, 'rhinos': 1, 'aleague': 1, 'coach': 1, 'scoring': 1, 'jose': 1, '26': 1, 'minnesota': 1, 'mens': 2, 'rico': 1, 'puerto': 1, 'suffered': 1, 'soccer': 3, 'earthquakes': 2, 'preseason': 2, 'assistant': 1, 'michigan': 2, 'school': 2, 'game': 1, 'foot': 1, 'february': 3, 'lost': 1, 'university': 2, 'stanford': 1, 'joined': 1, 'teams': 1, 'donovan': 1, 'planning': 1, 'team': 4, 'round': 1, 'born': 1, 'islanders': 1, 'silverbacks': 1, 'thunder': 1, 'roster': 1, 'forwardwoolfolk': 1, 'pioneer': 1, 'state': 1, 'drafted': 1, 'attended': 2, 'degree': 1, 'woolfolk': 4, 'june': 1, 'free': 1, 'nscaa': 1, 'bachelor': 1, 'graduated': 1, 'league': 1, 'superdraft': 1, '30': 1, 'american': 2, 'games': 2, '1983': 1, 'leading': 1, '5th': 1, 'usl': 1, '6': 1, 'urban': 1, 'pittsburgh': 1, 'season': 1, 'released': 1, 'part': 1, 'goals': 2, 'broke': 1, 'atlanta': 1, '1997': 1, '1996': 1, '18': 1, 'signed': 2, 'mls': 1, 'san': 1, 'played': 5, 'december': 1, 'ann': 1, 'premier': 1, 'moved': 1, 'high': 2, 'gemini': 1, 'arbor': 1, 'rochester': 1, 'landon': 1, '1': 1, 'corey': 1, 'vancouver': 2, 'fracture': 1, 'whitecaps': 1, '49th': 1, 'development': 1, 'riverhounds': 1, 'time': 1, 'spot': 1, 'scorer': 1, 'stress': 1, 'dayton': 1, 'waived': 1, '2002': 1, '2003': 1, '2000': 1, '2001': 4, '2006': 2, '2007': 1, '2004': 1, '2005': 1, 'playing': 1}, {'colleges': 1, 'show': 1, 'years': 1, 'radio': 1, 'committee': 1, 'battle': 1, 'follow': 1, 'doctoral': 1, 'candidate': 1, 'tv': 1, 'segments': 1, 'east': 1, 'regularly': 1, 'lowell': 1, 'zulu': 1, 'nation': 1, 'early': 1, 'lasell': 1, 'schools': 1, 'world': 1, 'areas': 1, 'worlds': 1, 'artist': 1, 'university': 1, 'rapper': 1, 'morning': 1, 'courses': 2, 'math': 2, 'including': 1, 'umasslowell': 1, 'em': 2, 'england': 1, 'albook': 1, 'college': 3, 'year': 1, 'bay': 1, 'album': 4, 'unavailable': 1, 'entertainment': 2, 'state': 1, 'won': 1, 'performs': 1, 'filled': 1, 'shows': 1, 'arts': 1, 'awards': 1, 'bs': 1, 'put': 2, 'news': 1, 'teaches': 1, 'lyrical': 3, 'received': 1, 'created': 1, 'institute': 1, 'industry': 1, 'akrobatik': 2, 'fulltime': 1, 'competed': 1, 'invitation': 1, 'jamn': 1, 'appeared': 1, 'win': 1, 'northeastern': 2, 'venues': 1, 'highly': 1, 'primarily': 2, '82013': 1, '1990s': 1, 'bostonhe': 1, 'rated': 1, 'sports': 1, 'mathematics': 1, 'freestyle': 1, 'curriculum': 1, 'part': 2, 'television': 1, 'movies': 1, 'ms': 1, 'hip': 3, 'boston': 1, 'universal': 1, 'fellow': 1, 'supremacy': 1, 'shame': 2, 'rap': 1, 'perform': 1, 'mic': 1, 'mid': 1, 'battles': 1, 'adjunct': 1, 'book': 2, 'hop': 3, 'nyc': 1, 'speaks': 1, 'entitled': 1, 'lecturer': 1, 'universities': 1, '617live': 1, 'infiniti': 1, 'massachusetts': 2, 'coast': 1, 'finals': 1, 'parttime': 1, 'programs': 1, 'professor': 2, '945': 1, 'daily': 1, 'mass': 1, '2005': 1, 'occasion': 1, 'latest': 1}, {'sector': 1, 'limited': 1, '2006apart': 1, 'chinese': 3, 'xuan': 2, 'actress': 1, 'month': 1, 'july': 2, 'happiness': 1, 'group': 1, 'producer': 1, 'winning': 1, 'production': 1, 'rich': 2, 'skies': 1, 'evening': 1, 'ye': 6, 'school': 1, 'famous': 2, 'pageant': 1, 'cctvshe': 1, 'accepted': 1, 'association': 1, 'mcin': 1, 'february': 1, 'roles': 1, 'lost': 1, 'hengdian': 1, 'dramas': 1, 'pursue': 2, '1998': 1, 'starred': 1, 'triumph': 1, 'olympic': 1, 'titled': 1, 'fair': 1, 'series': 1, 'competition': 1, 'born': 1, 'productions': 1, 'college': 1, 'special': 1, 'tvb': 4, 'graduating': 1, 'tvbs': 1, 'chamber': 1, 'movie': 2, 'acting': 1, 'won': 2, 'lue': 1, 'icableye': 1, 'mandarin': 1, 'international': 3, 'attended': 1, 'ruo': 1, 'reporter': 1, 'loveye': 1, 'eternal': 1, 'host': 1, 'china': 1, 'immigrated': 1, 'shui': 1, 'onsite': 1, 'talent': 1, 'restaurant': 1, 'career': 2, 'industry': 1, 'contract': 2, 'atv': 1, 'place': 1, 'published': 1, 'botany': 1, 'student': 1, 'number': 1, 'owner': 2, 'miss': 2, 'management': 1, '1980': 1, 'leading': 1, 'athens': 1, 'careerye': 1, 'exposure': 1, 'offered': 1, 'shang': 1, 'broadcast': 1, 'worked': 1, '10': 1, 'television': 1, 'john': 1, '14': 1, 'mc': 1, '1999': 3, 'science': 1, 'signed': 2, 'midautumn': 1, 'gong': 1, 'bohai': 1, 'sushi': 1, 'moved': 1, 'states': 1, 'engineering': 1, 'cantonese': 1, 'film': 1, 'autobiography': 1, 'united': 1, 'high': 1, 'chairman': 1, 'games': 1, 'wellesley': 1, 'shan': 1, 'company': 1, 'industryin': 1, 'english': 1, 'june': 1, 'additionally': 1, 'president': 1, 'dewey': 1, 'michelle': 2, 'vice': 1, 'age': 1, 'entertainment': 1, 'studioszhejiang': 1, 'fluent': 1, '2004': 1, '2005': 2, 'scholarship': 1, 'left': 3}, {'issued': 1, 'woody': 1, 'young': 1, 'circumstances': 2, 'brown': 1, 'childpornography': 1, 'minded': 1, 'advised': 1, 'school': 1, 'compassionate': 1, 'michael': 2, 'yale': 3, 'prevent': 1, 'rate': 1, 'lawyer': 1, 'section': 1, 'version': 1, 'himchatigny': 1, 'appeal': 3, 'full': 1, 'clerk': 1, 'cocounsel': 1, 'understanding': 1, 'minor': 1, 'strong': 2, 'prosecutors': 2, 'study': 1, 'conti': 1, 'action': 1, 'opinion': 1, 'dutyrequired': 1, 'makes': 1, 'punishment': 1, 'appropriately': 1, 'taunton': 1, 'sadism': 1, 'standing': 1, 'proceed': 1, 'chatigny': 16, 'examination': 1, 'defendant': 1, 'abusing': 1, 'award': 1, 'connecticut': 7, 'cases': 1, 'behalf': 1, 'women': 1, 'ma': 1, '1994': 5, 'rights': 2, '1998': 1, 'ohara': 1, 'advocacy': 1, 'stated': 1, 'december': 1, 'states': 5, 'unbiased': 1, 'minimum': 1, 'council': 2, 'allens': 1, 'united': 3, 'court': 12, 'dismissed': 3, 'sic': 1, 'fourth': 1, 'de': 3, 'plans': 1, 'impartial': 1, '2008he': 1, 'sentencing': 2, 'president': 2, 'appealed': 1, 'law': 6, 'nomination': 5, 'eighth': 1, 'light': 1, 'departure': 2, 'chief': 1, 'agenda': 1, 'subsequently': 1, 'order': 1, 'executed': 1, 'september': 3, 'years': 2, 'attitude': 1, 'committee': 7, '20052006': 1, 'cold': 1, 'warren': 1, '1': 1, '26': 2, '28': 1, '29': 1, 'criminal': 2, '2010': 4, 'motivated': 1, 'practice': 1, 'newman': 1, 'qualified': 2, 'half': 1, 'inception': 1, 'republican': 1, 'association': 1, 'attorneys': 1, 'james': 1, 'university': 3, 'reasonable': 2, 'fitness': 2, 'found': 3, 'upward': 1, 'neil': 1, 'mental': 1, 'house': 1, 'crimes': 1, 'challenges': 1, 'suzanne': 1, 'sexual': 2, '20059': 1, 'dismissal': 1, 'waive': 2, 'investigation': 1, 'shows': 1, 'perception': 1, 'dealt': 1, 'threatened': 1, 'delegates': 1, 'california': 1, 'thrust': 1, 'longrange': 1, 'language': 1, 'times': 1, 'american': 1, '19801981judge': 1, 'place': 1, 'circuit': 5, 'ruination': 1, 'appeals': 3, 'velde': 2, 'date': 1, 'stonewalledof': 1, 'vote': 1, 'city': 1, 'district': 8, 'girls': 1, '2': 1, 'georgetown': 2, '2006judge': 1, 'appointees': 1, 'centered': 1, 'reversed': 2, 'serve': 1, 'vacated': 1, 'jovin': 1, 'july': 1, 'haven': 1, 'obama': 1, '10': 1, '12': 1, '15': 1, '16': 1, '1978': 1, 'veldes': 1, 'outstanding': 1, 'chatignys': 6, 'sentences': 2, 'allen': 1, 'megans': 1, 'note': 1, 'recommended': 1, 'appellate': 1, 'bruce': 1, 'involving': 1, 'letter': 2, 'prisoner': 1, 'approved': 1, 'professor': 1, 'rating': 1, 'violation': 1, 'nominated': 2, 'considerationopposition': 1, 'judges': 3, 'northern': 1, 'justice': 1, '3': 1, 'penalty': 1, 'failed': 1, 'sued': 1, 'assistant': 1, 'samuel': 1, 'prohibition': 1, 'killers': 1, 'bar': 2, 'wrote': 3, 'view': 1, 'seventeen': 1, 'set': 1, 'aspect': 1, 'fair': 2, 'national': 1, 'committed': 1, 'seat': 2, 'elected': 1, 'close': 1, 'probable': 1, 'federal': 9, 'favor': 1, 'state': 2, 'enumerated': 1, 'august': 1, 'attention': 1, 'competent': 2, 'cabranes': 1, 'jon': 1, 'received': 3, 'license': 1, 'career': 1, 'april': 1, 'grounds': 1, 'duty': 1, 'partyline': 1, '2nd': 1, 'jd': 1, 'unusual': 2, 'commission': 2, 'temperatein': 1, 'temperament': 1, 'worked': 1, 'present': 1, 'case': 7, 'publicly': 1, 'developing': 1, 'judicial': 5, 'bill': 1, 'editorial': 1, 'elaborate': 1, 'sentencings': 1, 'bias': 1, '440some': 1, 'claimed': 1, 'march': 2, 'confirmed': 1, 'sensitive': 1, 'potentially': 1, 'lenient': 1, 'restraint': 1, 'director': 1, 'average': 1, 'misconductin': 1, 'student': 1, 'complained': 1, 'center': 2, 'eighttime': 1, 'charges': 1, 'forceful': 1, '1973': 1, 'analysis': 1, 'person': 1, 'solve': 1, 'claims': 3, 'stating': 1, 'left': 1, 'opinions': 1, 'sentence': 2, '24page': 1, 'executive': 1, 'actions': 2, 'victimsupport': 1, 'judge': 24, 'questions': 1, 'facts': 1, 'jose': 1, 'death': 4, 'candidate': 1, 'bench': 2, 'barack': 1, '4': 1, 'ross': 6, 'associations': 1, 'complaint': 2, 'victims': 1, 'government': 1, 'judiciary': 6, 'matters': 1, 'supervisory': 1, 'execution': 1, 'imposed': 1, 'steps': 1, 'offenders': 1, 'served': 5, 'downward': 1, 'disorder': 1, 'amendment': 1, 'shed': 1, 'senate': 4, 'tempered': 1, 'born': 1, '117': 1, 'provided': 1, 'proceeding': 1, 'decision': 1, '12page': 1, 'unsuccessfully': 1, 'murderer': 2, 'prosecution': 1, 'journal': 1, 'pressure': 1, 'departures': 1, 'relating': 1, 'gained': 1, 'ensure': 1, 'efforts': 1, 'allowing': 2, 'clinton': 1, 'childrens': 2, 'rosss': 1, 'civil': 1, 'washington': 1, 'attorney': 2, 'determine': 1, 'discharge': 2, 'defendants': 1, 'van': 3, '1980': 1, 'support': 1, 'long': 1, 'awarded': 1, 'editor': 1, 'call': 1, 'delayed': 1, 'tasked': 1, 'courts': 1, 'filed': 3, 'line': 1, 'made': 1, 'record': 2, 'cruel': 1, 'unanimous': 1, 'prosecutor': 1, 'called': 1, 'supreme': 1, 'ab': 1, 'leaked': 1, '1952': 1, 'proven': 1, '19791980': 1, 'amendments': 1, 'stepchild': 1, '5': 2, 'reportedly': 1, 'june': 1, 'includes': 1, 'important': 1, 'registry': 1, 'authorities': 1, 'reservation': 1, 'eginton': 1, 'fiscal': 1, 'sexoffender': 1, 'rule': 2, '2003': 2, '2001': 2, '2006': 1, '2004': 1, '2005': 1, '2009': 1, 'resolution': 1, 'robert': 1}, {'chinese': 6, 'contemporary': 1, 'nominated': 1, 'kong': 1, 'produced': 1, 'taiwan': 1, 'fusing': 1, 'find': 1, 'issues': 1, 'runin': 1, 'limelight': 1, '26': 1, 'rapidly': 1, 'lyrics': 3, 'jay': 4, 'writing': 2, 'samples': 1, 'songwriting': 1, 'rhyme': 1, 'fusion': 1, 'grew': 1, 'covering': 1, 'january': 1, 'companies': 1, 'entrepreneurvincent': 1, 'popular': 1, '2000s': 1, 'vincent': 1, 'noted': 1, 'titled': 1, 'taiwanese': 1, 'born': 1, 'melody': 2, 'album': 1, 'fang': 6, 'esp': 1, 'asia': 1, 'sung': 1, '19th': 1, 'won': 1, 'passion': 1, 'decade': 1, 'rb': 1, 'contributes': 1, 'refer': 1, 'porcelain': 1, 'rock': 1, 'style': 3, 'wu': 1, 'awards': 1, 'genre': 1, 'lyrical': 1, 'career': 2, 'discussed': 1, 'fng': 1, 'chou': 5, 'frequent': 1, 'golden': 1, 'love': 1, 'family': 1, 'lyricist': 2, 'entrepreneur': 1, 'references': 1, 'owner': 1, 'impressed': 1, 'yan': 1, 'music': 2, 'white': 1, 'war': 1, 'form': 1, 'started': 1, 'pinyin': 1, 'company': 1, 'award': 1, 'jacky': 1, 'released': 1, 'folklore': 1, 'albums': 1, 'wide': 1, 'made': 1, 'chous': 1, '1997': 1, 'work': 2, 'wnshn': 1, 'record': 2, 'making': 1, 'similar': 1, 'history': 1, 'hoping': 1, 'modern': 2, 'pulling': 1, 'fame': 1, 'hong': 1, '1969': 1, 'poetry': 4, 'majority': 1, 'blue': 1, 'literature': 1, 'singersongwriter': 1, 'complemented': 1, 'collaboration': 1, 'hired': 1, 'wellfangs': 1, 'ballads': 1, 'calls': 1, 'multigolden': 1, 'su': 1, 'musical': 1, 'traditional': 2, '2000': 1, 'hualien': 1}, {'exclusive': 1, 'holds': 1, 'labourhe': 1, 'money': 1, 'years': 1, 'held': 1, 'lemalu': 1, 'human': 1, 'paul': 1, '21': 1, '22': 1, 'auckland': 3, 'marrying': 1, 'young': 2, 'winning': 1, 'german': 2, 'inherited': 1, 'hermann': 2, 'telefoni': 5, '2011': 4, 'boarding': 1, 'march': 1, 'government': 1, 'alesana': 1, 'practice': 1, 'february': 1, 'introduce': 1, 'early': 1, 'misa': 3, '1952': 1, 'electionretzlaff': 1, 'postal': 1, 'tribute': 2, 'prime': 2, 'articles': 1, 'school': 1, 'falelatai': 1, 'servant': 1, 'university': 1, '1996': 1, 'joined': 1, 'public': 1, 'samoa': 3, 'observer': 1, 'seat': 2, 'born': 1, 'books': 1, 'college': 1, 'election': 2, 'grandfather': 2, 'agriculture': 1, 'paternal': 1, 'health': 1, 'falling': 1, 'leader': 1, 'run': 1, 'initially': 1, 'richest': 1, 'bachelor': 1, 'ancestry': 1, 'twentieth': 1, 'opposition': 1, 'kitchen': 1, 'speeches': 1, 'country': 1, 'industry': 1, 'studied': 1, 'shipping': 1, 'thine': 1, 'published': 2, 'retain': 1, 'eti': 1, 'partyretzlaff': 1, 'love': 3, 'deputy': 3, 'colony': 1, 'community': 1, 'son': 1, 'kings': 1, 'germanswedishsamoan': 1, 'standing': 1, 'story': 1, '1986in': 1, 'addition': 1, 'century': 1, '1988': 1, 'educated': 1, 'fisheries': 1, 'part': 1, 'minister': 4, 'true': 1, 'appointed': 1, 'poemsin': 1, '1991': 1, 'commerce': 1, 'samatau': 1, 'rights': 1, 'tofilau': 1, 'stated': 1, 'httpwwwsamoaobserverwsindexphpoptioncomcontentviewarticleid31878tributetocatid1latestnewsitemid50': 1, 'telephone': 1, 'general': 1, 'politics': 1, 'confirmed': 1, 'resigned': 1, 'descent': 1, 'retiring': 1, 'samoan': 3, 'forests': 1, 'role': 1, 'portfolios': 1, '9': 1, 'protection': 1, 'retzlaff': 3, 'attorneygeneral': 2, 'collection': 1, 'arrived': 1, 'services': 1, 'law': 2, 'zealand': 2, 'short': 1, 'theodor': 1, '2001': 1, 'position': 1}, {'developed': 1, 'paper': 1, 'radio': 1, 'aviation': 1, 'economist': 2, 'staff': 1, 'solitary': 1, 'anglofrench': 1, 'smith': 1, 'late': 2, '4': 1, 'main': 1, 'dispute': 1, 'views': 1, 'trenchant': 1, 'television': 1, 'documentaries': 2, 'oxford': 1, 'lady': 1, 'hall': 1, 'university': 1, 'journalism': 1, 'journalist': 1, 'meantime': 1, 'analytical': 1, '1940s': 1, 'noted': 1, 'wrote': 1, 'programme': 2, 'spring': 1, '1960s': 1, 'critique': 1, 'expressgoldring': 1, 'wellfounded': 1, 'burnet': 1, 'surprise': 1, 'weekly': 1, 'goldring': 4, 'predicted': 1, 'edited': 1, 'noise': 1, 'business': 2, '4s': 1, 'commercial': 1, 'mcrae': 1, 'aircraft': 1, 'disastrous': 1, 'graduated': 1, 'column': 1, 'obe': 1, 'british': 1, 'editorship': 1, 'pollution': 1, 'economists': 1, 'deputy': 1, 'suddenly': 1, 'rank': 1, 'presenters': 1, 'rising': 1, '1987': 1, '1998in': 1, 'andreas': 1, 'basis': 1, 'bbc': 2, 'long': 1, 'screened': 1, 'currentaffairs': 1, 'editor': 3, 'series': 2, 'broadcasteran': 1, 'mary': 2, 'authored': 1, 'alastair': 1, 'turned': 2, 'wake': 1, 'sustained': 1, '1993': 1, 'made': 1, 'whittam': 1, 'flagship': 1, 'voice': 1, 'economics': 1, 'investors': 1, 'dissent': 1, 'alongside': 1, 'moved': 1, 'concorde': 1, 'analysis': 1, 'member': 1, 'channel': 1, 'development': 1, 'staying': 1, 'norman': 1, 'margaret': 1, 'regular': 1, 'audit': 1, 'supersonic': 1, 'correspondent': 1, 'chronicle': 1, '1976': 1, '1974': 1, 'departure': 1, 'daily': 1, 'time': 3, 'left': 2}, {'thomas': 1, 'september': 1, 'executive': 1, 'years': 1, 'alphin': 1, 'southwestern': 1, '1942': 1, 'including': 1, 'dartmouth': 1, '2013': 1, 'carolina': 1, 'woman': 1, 'legislators': 1, 'returning': 1, 'ceo': 1, 'reviewshe': 1, 'masters': 1, 'historic': 1, 'community': 1, 'schools': 1, 'association': 2, 'school': 3, 'scholar': 1, 'university': 2, 'stanford': 3, 'small': 1, 'served': 1, 'dean': 4, 'senate': 1, 'house': 1, 'born': 1, 'college': 2, 'sloughhouse': 1, 'senator': 1, 'giving': 1, 'representatives': 1, 'legal': 1, 'state': 1, 'porter': 1, 'assembly': 1, 'degree': 3, 'sixth': 1, 'california': 4, 'term': 1, '1982': 1, 'november': 1, 'received': 3, 'schoolsprager': 1, 'american': 3, 'focused': 1, 'editorinchief': 1, 'family': 1, 'number': 1, 'preservation': 1, 'durham': 1, 'female': 1, 'undergraduate': 1, 'kuchel': 1, 'ucla': 7, 'westerberg': 1, 'north': 1, 'serve': 1, 'worked': 1, 'town': 1, 'grew': 1, '14': 1, '1996': 1, 'prager': 2, 'property': 1, 'history': 3, 'alumnusalumna': 1, 'states': 1, 'provost': 1, 'trustee': 1, 'united': 1, '1964': 1, 'schoolpreviously': 1, '1': 1, 'administrator': 1, 'sacramento': 2, 'director': 1, 'faculty': 1, 'president': 2, 'law': 15, 'practiced': 1, 'susan': 1, 'occidental': 1, 'deans': 1, 'tenure': 1, '2008': 1, 'powe': 1, 'starting': 1, 'longest': 1}, {'mayom': 1, 'garang': 1, 'kong': 1, 'ended': 1, 'janaigatliek': 1, 'including': 1, 'joining': 1, 'soldiers': 1, 'group': 1, 'yoal': 3, 'liberation': 1, 'splmanasir': 1, '8': 1, 'east': 1, 'gave': 1, 'division': 1, 'made': 1, 'yohannes': 3, 'accepted': 1, 'killed': 1, 'bank': 1, 'militiathe': 1, 'january': 2, 'sobat': 1, 'river': 1, 'upper': 1, 'declared': 1, 'matip': 1, 'people': 1, 'paulino': 2, 'retaliation': 1, 'defense': 1, 'soldiersthe': 1, 'riek': 1, 'sudan': 3, 'section': 1, 'george': 1, 'state': 1, 'hill': 1, 'waat': 1, 'leader': 1, 'announced': 1, 'breakaway': 1, 'august': 1, 'matiep': 1, 'men': 1, '1993the': 1, 'revenge': 1, 'akol': 1, 'difficulty': 1, 'civilians': 1, 'based': 1, 'spla': 2, 'machar': 1, 'involved': 1, '30': 1, 'splm': 1, 'nile': 1, 'called': 2, 'april': 1, 'militia': 2, 'gordon': 1, 'south': 2, 'major': 1, 'alliance': 1, 'deputy': 1, 'civil': 2, 'bath': 3, 'primarily': 1, 'jonglei': 1, 'army': 2, 'alleged': 1, 'johannes': 2, 'attack': 3, '2': 2, 'combined': 1, 'raids': 1, 'lou': 3, 'john': 1, 'war': 2, 'doleib': 1, 'ejected': 1, 'anyanya': 2, 'athor': 1, 'part': 1, 'bul': 1, 'declaration': 1, 'commander': 2, 'considerable': 1, '1991': 2, 'divisions': 1, '12': 1, '1995': 1, '1994': 1, 'jikany': 1, '19832005in': 1, 'launched': 1, 'statea': 1, 'duar': 1, 'juba': 1, 'cattle': 1, 'general': 1, 'sudanese': 1, 'united': 1, 'rieklater': 1, 'dengjohannes': 1, 'forces': 5, 'peoples': 1, '2006': 2, 'nuer': 5, 'lam': 1, 'ayod': 1, 'faction': 2, 'nasir': 2, 'governmentsponsored': 1, '4th': 1, 'yual': 3, 'nyayin': 1, 'mobile': 1, 'ssdf': 1, 'ulang': 1, 'command': 2, '2005': 1, 'democratic': 1, '8th': 1}, {'subtly': 1, 'reviewers': 1, 'moments': 1, 'timesin': 1, 'entries': 1, 'focus': 1, 'poetry': 1, 'playful': 1, 'ended': 1, 'session': 1, 'carefully': 1, 'children': 1, 'simon': 1, '20': 1, 'booksin': 1, 'writer': 3, 'father': 1, 'international': 1, 'literary': 1, 'saga': 1, 'praised': 1, 'sorrentino': 5, 'dickinson': 1, 'bookworld': 1, 'puerto': 1, '2010': 1, 'eugene': 1, 'impac': 1, 'proctor': 1, 'format': 1, 'fugitives': 1, 'fairleigh': 1, 'minna': 1, 'lethem': 1, 'christopher': 1, 'hyperliterary': 1, 'fall': 2, 'press': 2, 'mcsweeneys': 1, 'innovations': 1, 'secondary': 1, 'school': 2, 'scamssorrentinos': 1, 'artist': 1, 'university': 2, 'longlisted': 1, 'ivan': 1, 'bookforum': 1, 'soft': 1, 'essential': 1, 'wrote': 1, 'mets': 2, 'conklin': 1, 'house': 1, 'national': 1, 'conjunctions': 1, 'born': 1, 'street': 1, 'college': 1, 'descriptions': 1, 'year': 1, 'novelist': 2, 'techniques': 1, 'poke': 1, 'draws': 1, 'visiting': 1, 'riveting': 1, 'section': 1, 'publish': 1, 'otherssorrentino': 1, '20102011': 1, 'epic': 1, 'announced': 1, 'season': 1, 'tempura': 2, 'attention': 1, 'commercial': 1, 'story': 1, 'york': 3, 'death': 1, 'unterberg': 1, 'moviemaking': 1, 'victoria': 1, 'dublin': 1, 'times': 1, 'angeles': 2, 'monograph': 1, 'magazine': 1, 'incorporated': 1, 'published': 3, 'writers': 2, 'experimental': 1, 'patty': 1, 'granta': 1, 'named': 2, 'appeared': 1, 'period': 1, 'son': 1, '61': 1, 'rican': 1, 'open': 1, 'city': 2, 'arts': 2, 'los': 2, 'ortiz': 1, 'structured': 1, 'satire': 1, 'fiction': 1, 'percussion': 1, 'editor': 1, 'modernist': 1, 'series': 1, 'gilbert': 1, 'jonathan': 1, 'treatment': 1, 'dialogue': 1, 'playboy': 1, 'detail': 1, 'award': 2, 'echoes': 1, 'taught': 1, 'authors': 1, 'postmodernist': 1, 'postmodern': 1, 'sound': 4, 'account': 1, 'hearst': 1, '1995': 1, 'skull': 1, 'characterizations': 1, 'work': 2, 'recording': 1, 'titles': 1, 'vocals': 1, 'publications': 1, 'pioneered': 1, 'boshier': 1, 'novella': 1, 'imaginative': 1, 'liberal': 1, '2014': 1, 'lives': 1, 'pseudonymous': 1, 'lush': 1, 'believeniks': 1, 'deep': 1, 'reads': 1, 'partner': 1, 'forthhis': 1, 'schustersorrentinos': 1, 'film': 2, 'descent': 1, 'april': 1, 'trance': 3, 'finalist': 1, 'inaugural': 1, '1963': 1, 'member': 1, 'tin': 1, 'book': 5, 'derek': 1, 'widely': 1, 'esquire': 1, '2006': 1, '2007': 2, 'departures': 1, 'playback': 1, 'columbia': 1, 'intended': 1, 'collaboration': 1, 'felt': 1, '92nd': 1, 'harris': 1, 'lists': 1, 'faculty': 1, 'revealed': 1, 'lang': 1, 'short': 1, 'center': 1, '1974': 1, 'fictional': 1, 'text': 1, 'harpers': 1, '2005': 4, 'american': 3, '2009': 1, 'multitrack': 1}, {'summer': 1, 'emerging': 1, 'words': 1, 'produced': 1, 'industrial': 1, 'radio': 2, 'world': 1, 'collegehe': 1, 'multichannel': 1, '1': 1, 'tapecollages': 1, 'death': 1, 'writer': 1, '20012004': 1, 'broadcasts': 1, 'tape': 1, 'east': 1, 'match': 1, 'material': 1, 'early': 1, 'listening': 1, 'word': 1, 'bullshit': 1, 'bank': 1, '1994': 1, 'stereo': 1, 'whitman': 1, 'artist': 1, 'transmission': 1, 'curator': 1, 'alexis': 1, 'repaired': 1, 'side': 1, 'lobbies': 1, 'art': 1, 'generation': 1, 'unpublished': 1, 'authority': 1, 'born': 1, 'catalyze': 1, 'college': 1, 'mirror': 1, 'discussions': 2, 'organizing': 1, 'goddard': 2, 'chinas': 1, 'sun': 1, 'recorded': 1, 'version': 2, 'lecture': 4, 'installations': 2, 'possibility': 1, 'notably': 1, 'york': 2, 'lounges': 1, 'active': 1, 'panel': 1, '19992009': 1, 'studied': 1, 'concerts': 1, 'threechannel': 1, 'raised': 1, 'lands': 1, 'spoken': 1, 'scene': 1, 'utilized': 1, 'collages': 1, 'artists': 2, '1990s': 1, 'speak': 1, 'city': 1, 'arts': 1, 'publication': 1, 'working': 1, '2': 1, 'opens': 1, 'life': 1, 'airwaves': 1, 'ages': 1, 'interviewed': 1, 'neutral': 1, 'train': 1, 'crosssection': 1, 'producing': 1, 'sound': 6, 'practicing': 1, 'abandoned': 1, 'convocations': 1, 'project': 2, 'design': 1, 'voice': 1, 'sculpture': 1, 'radioplays': 1, 'atm': 1, 'organized': 1, 'deep': 1, 'strength': 1, 'democracy': 2, 'began': 1, 'poetry': 2, 'member': 1, 'book': 1, 'paj': 1, 'lectures': 1, 'free103point9': 1, 'ecological': 1, 'moving': 1, 'blood': 1, 'included': 1, 'manifested': 1, 'ghost': 1, 'lower': 1, 'bandshell': 1, 'performances': 1, 'bhagat': 1, '2003': 1, 'senior': 1, 'songs': 1}, {'anglican': 2, 'responsible': 1, 'chapters': 1, 'issues': 2, 'occupation': 1, 'forestry': 3, 'doctoral': 1, 'auckland': 1, 'deputy': 1, 'professorhe': 1, 'book': 1, 'degrees': 1, 'voted': 1, 'aucklands': 1, 'employed': 1, 'include': 1, 'adviser': 1, 'campaigned': 1, 'contracts': 1, 'capacities': 1, 'indigenous': 1, '1992': 1, 'schoolhis': 1, 'dar': 1, 'oxford': 2, 'rental': 2, 'formal': 1, 'articles': 1, 'scholar': 1, 'university': 6, 'whanui': 1, 'bay': 1, 'balliol': 1, 'wrote': 1, 'whenua': 1, 'england': 2, 'manual': 1, 'national': 1, 'crown': 2, 'related': 1, 'college': 1, '18641909': 1, 'es': 1, 'universities': 1, 'colonial': 2, 'contracted': 1, 'legal': 4, 'research': 2, 'numerous': 1, 'publishers': 1, 'full': 1, 'phopatanga': 1, 'degree': 1, 'associate': 1, 'vernon': 1, 'victoria': 1, 'wanganui': 1, '1999he': 1, 'rhodes': 1, 'region': 1, 'puni': 1, 'david': 1, 'waitangirelated': 1, 'qualification': 1, 'published': 3, 'churchs': 1, 'acted': 2, 'primary': 1, 'huia': 1, 'church': 1, 'respect': 1, 'trust': 2, 'undergraduate': 1, 'tertiary': 1, 'moriowned': 1, 'certificate': 1, 'legislation': 1, 'diptheolhe': 1, 'tango': 1, 'commission': 1, 'arbitrator': 1, 'mori': 1, 'time': 1, 'synodte': 1, 'williams': 1, 'zealand': 5, 'educated': 1, 'honorary': 1, 'solicitor': 1, 'appointed': 1, '1991': 1, 'te': 3, '1995': 1, '1994': 1, 'consultant': 1, 'kooti': 1, 'ballb': 1, 'waitangifrom': 1, 'barrister': 2, 'promoted': 1, 'practising': 1, 'tanzania': 2, 'history': 3, 'kkiri': 1, 'general': 1, 'high': 1, 'analysis': 1, 'treaty': 2, 'native': 1, 'education': 1, 'court': 2, 'variety': 1, '1966': 1, 'holds': 1, 'graduate': 1, 'member': 1, 'dean': 1, 'hinota': 1, 'theology': 1, 'party': 1, 'act': 1, 'qualifications': 1, 'diploma': 1, 'phd': 1, 'faculty': 1, 'included': 1, 'salaam': 1, 'law': 8, 'hawkes': 1, 'bcl': 1, 'land': 3, 'database': 1, 'professor': 3, 'author': 1, 'aotearoa': 1, 'wellington': 1, '1971': 1, 'collegiate': 1, 'academic': 1, '2000': 1, '2001': 1, 'volumes': 1, '2005': 1}, {'bottega': 1, 'themes': 1, 'london': 1, 'fine': 1, '1948': 1, 'konex': 1, 'earned': 1, 'paris': 1, 'father': 1, 'citizen': 1, 'teaching': 1, 'argentina': 2, 'include': 1, 'wellknown': 1, 'argentine': 2, 'returned': 2, 'cupola': 1, 'assistant': 1, 'reopened': 1, 'dc': 1, 'munich': 1, 'cultural': 1, '1956': 1, 'continued': 1, 'projects': 1, 'school': 1, 'exhibiting': 1, 'prize': 2, 'galeras': 1, 'shapes': 1, 'italian': 1, 'uruguayan': 1, 'born': 2, 'taught': 1, 'guillermo': 1, 'honors': 1, 'contributed': 1, 'extensively': 1, 'international': 1, 'geometric': 1, '1991roux': 1, 'york': 1, 'surrealistic': 1, 'created': 1, 'studied': 1, 'biennial': 1, 'jujuy': 1, 'named': 1, 'sicily': 1, 'washington': 1, 'traveled': 1, 'rouxs': 1, 'collages': 1, 'art': 2, 'city': 1, 'arts': 1, '1982': 1, 'arcade': 1, 'illustrious': 1, '1988': 1, 'workshop': 1, 'harlequins': 1, 'travelled': 1, 'ral': 1, 'nonnis': 1, 'life': 1, 'lived': 1, 'shopping': 1, 'award': 1, 'berlin': 1, 'worked': 2, 'highest': 1, 'painter': 3, 'illustrator': 1, '1997': 1, 'work': 1, 'relocated': 1, 'frescoes': 1, 'decoration': 1, 'prestigious': 1, 'xiii': 1, 'umberto': 1, '1929': 1, 'realm': 1, 'roux': 3, '1966': 1, '1967': 1, '1960': 1, 'paulo': 1, 'phillips': 1, 'actors': 1, 'buenos': 4, 'painthe': 1, 'province': 1, 'added': 2, 'collection': 1, 'restoration': 1, 'aires': 4, '1975': 1, 'pacfico': 1, 'frescoesroux': 1, 'rome': 1, '2007': 1, 'watercolors': 1}, {'golf': 2, 'corps': 1, 'merit': 1, 'japan': 1, 'oldest': 1, 'children': 1, '25': 1, 'avid': 1, 'retirement': 1, '20': 1, 'wed': 1, '1940': 1, 'deputy': 2, '29': 1, 'ely': 4, '2015': 1, '2014': 1, 'include': 1, '2011': 1, 'gave': 1, 'eventually': 1, 'australia': 1, 'march': 1, 'mountford': 1, 'world': 1, 'silver': 1, 'february': 1, 'married': 2, 'logistic': 1, 'served': 2, 'legions': 1, 'born': 2, 'delray': 1, 'operated': 1, 'home': 1, 'living': 1, 'golfer': 1, 'guinea': 1, '3': 1, 'turned': 1, 'jr': 1, '1933': 1, 'lieutenant': 2, '1937': 1, '100': 2, 'bronze': 1, 'meyers': 1, 'resides': 1, 'florida': 1, 'islands': 2, 'midway': 1, 'retired': 2, 'point': 2, 'rank': 1, 'son': 1, 'service': 1, 'army': 6, 'west': 2, '1930s': 1, 'jane': 1, 'military': 1, 'war': 1, 'awards': 1, 'stationed': 1, 'materiel': 1, 'pittsburgh': 1, 'academy': 1, 'helen': 1, '1911': 1, 'commander': 1, '10': 1, 'jonas': 1, 'sycamore': 1, 'states': 4, 'ross': 1, 'distinguished': 1, 'engineers': 1, 'nursing': 1, 'december': 1, 'philippine': 1, 'general': 3, 'ii': 1, 'united': 4, 'graduate': 2, 'beach': 1, 'development': 1, 'star': 3, 'frances': 1, 'william': 1, 'designed': 1, 'commanding': 1, 'medal': 1, 'died': 1, 'pennsylvania': 2, 'age': 1, 'command': 2}, {'played': 1, 'september': 1, 'years': 1, 'alzheimers': 1, 'children': 1, 'seasonafter': 1, '27': 1, 'cup': 1, '400': 1, '2014': 1, 'division': 1, 'march': 1, 'express': 1, 'break': 1, 'tipton': 2, 'girlshe': 1, 'debut': 1, 'landlord': 1, 'team': 2, 'married': 1, 'england': 2, 'walsall': 2, 'house': 1, 'related': 1, 'born': 3, 'year': 1, 'dudley': 1, 'fellows': 1, 'unable': 1, 'public': 1, 'scoring': 1, '1939': 1, 'beginning': 1, 'league': 2, 'career': 2, '32': 1, 'staffordshire': 1, 'diseasehe': 1, 'wanderers': 1, 'games': 1, 'fullback': 1, 'teenage': 1, 'wolverhampton': 1, 'retired': 1, 'win': 1, '60': 1, 'middlesbrough': 1, 'steven': 1, 'ian': 1, '1982': 2, '196465': 1, 'union': 1, 'top': 1, 'roper': 3, 'remained': 1, 'footballerhe': 1, 'today': 1, '1950s': 1, 'club': 2, 'park': 1, 'alan': 1, 'lives': 2, '10': 1, '2008references': 1, 'made': 1, '1995': 1, '16': 1, 'car': 1, 'signed': 1, 'youth': 1, 'making': 1, 'tiptonhe': 1, 'claimed': 1, 'crash': 1, 'end': 1, 'retiring': 1, '1966': 1, 'lesley': 2, 'mid': 1, '1962': 1, '1': 1, 'injured': 1, 'star': 1, 'appearances': 1, 'football': 2, 'hometown': 1, 'midlands': 1, 'sides': 1, 'suffers': 1, 'valerie': 1, 'age': 1, 'spent': 1, '1970': 1, '1964': 1, 'professional': 1, 'wolves': 1, 'began': 1}, {'serving': 1, 'show': 3, 'dance': 2, 'orchestra': 4, 'move': 1, 'years': 2, 'pops': 1, 'held': 2, 'campbell': 1, 'chair': 2, '1982following': 1, 'line': 1, 'weekly': 1, 'orleans': 3, 'group': 1, '23': 1, 'tv': 1, 'continued': 1, 'freelance': 1, 'instrument': 1, 'vocalspiano': 1, 'southland': 1, 'peanuts': 1, 'featured': 1, 'local': 1, 'carolina': 1, 'good': 1, 'victims': 1, 'big': 1, 'michigan': 1, 'jazz': 4, 'coast': 1, '1955': 1, 'band': 7, '1957': 1, '1956': 1, 'jack': 1, 'consisted': 1, 'front': 1, 'world': 1, 'pier': 1, 'illinoisafter': 1, 'school': 1, 'ended': 1, 'schools': 1, 'university': 1, 'joined': 2, 'soloist': 1, 'benefit': 1, 'saxophone': 1, 'clarinetist': 1, 'popular': 1, 'havens': 4, 'girard': 1, 'concert': 2, 'series': 1, 'national': 1, 'pacific': 1, 'join': 1, 'born': 1, 'street': 1, 'trombone': 3, '250': 1, 'interlochen': 1, 'pete': 1, 'quincy': 4, 'lead': 1, 'labels': 1, 'hurricane': 1, 'label': 1, '3': 1, 'fountain': 1, 'girards': 1, 'led': 1, 'lawrence': 2, 'bandsman': 1, 'tromboneborn': 1, 'met': 1, 'job': 1, 'dixieland': 1, 'groups': 1, 'great': 1, 'talent': 1, 'recognized': 1, 'concerts': 1, 'tour': 1, '1930': 1, 'katrinabob': 1, 'bob': 6, 'teagardenin': 1, 'persuaded': 1, 'zeke': 1, 'vic': 1, 'family': 1, 'appeared': 1, 'instruments': 1, 'guard': 1, 'ralph': 1, 'crosby': 1, 'festivals': 1, 'benny': 1, 'george': 1, 'fidelity': 1, '1985': 1, '1982': 1, 'working': 1, 'west': 1, 'symphony': 1, 'music': 1, 'ringwald': 1, 'time': 1, 'formed': 1, 'war': 1, 'idol': 1, 'door': 1, 'zarchy': 1, 'musician': 1, 'landed': 1, 'lives': 1, 'albums': 2, 'trumpetin': 1, 'bourbon': 1, 'raising': 1, '12': 1, '1995': 1, '16': 1, 'dans': 1, 'record': 1, 'hirt': 4, 'cats': 1, 'piece': 1, 'welk': 3, 'money': 1, '600': 1, 'played': 2, 'al': 1, 'fellow': 1, 'performed': 1, 'violin': 1, 'times': 1, 'ava': 1, 'dozen': 1, 'recorded': 2, 'studying': 1, 'began': 1, '1960': 2, 'american': 1, 'stayed': 1, 'illinois': 3, 'goodman': 1, '2005': 1, 'korean': 1, 'continues': 1, 'star': 1, 'trombonist': 1, 'musiciansbob': 1, 'barber': 1, 'hucko': 1, 'audio': 1, 'don': 1, 'famous': 1, 'verve': 1, 'age': 3, 'camp': 1, 'lasted': 1, 'flanagan': 1, 'playing': 1, 'nelson': 1, 'tenure': 1, 'north': 1, 'professional': 2, 'left': 1, 'musical': 1, 'scholarship': 1}, {'weavers': 1, 'singersongwriter': 1, 'novelty': 1, 'queen': 1, 'london': 1, 'renewed': 1, 'backup': 1, 'tv': 1, 'breathy': 1, 'christie': 5, 'late': 1, '1930s': 1, 'votel': 2, 'sound': 1, 'dj': 1, 'song': 1, 'food': 1, 'watch': 1, 'languished': 1, 'dark': 1, 'records': 1, 'cd': 1, 'lady': 1, 'hall': 1, 'appearing': 1, 'lost': 1, 'artist': 2, 'performing': 1, 'cochrane': 1, 'chorus': 1, 'release': 1, 'weaver': 1, 'fared': 1, 'concert': 1, 'national': 1, 'donald': 1, 'billboard': 1, 'folk': 3, 'album': 7, 'project': 1, 'recorded': 1, 'label': 1, 'reminiscent': 1, 'singles': 1, 'written': 1, 'songbirdchristie': 1, 'hill': 1, 'bird': 1, 'filled': 1, 'august': 1, 'reaching': 1, 'compilation': 1, 'attention': 1, 'commercial': 2, 'free': 1, 'funyuns': 1, 'snack': 1, 'vinyl': 1, 'backed': 1, '100': 2, 'received': 1, 'canadian': 1, 'players': 1, 'funky': 1, 'adapted': 2, 'unreleased': 1, 'ladies': 2, 'love': 3, 'obscurity': 1, 'appeared': 1, 'kazoo': 1, 'philadelphia': 1, 'brought': 1, 'onionflavored': 1, '63': 1, 'rpm': 1, 'brilliantly': 1, 'guest': 1, '1980signed': 1, 'copies': 1, 'paint': 1, 'andy': 1, 'tune': 2, 'jane': 1, 'music': 1, 'john': 1, 'manchesterbased': 1, 'minor': 1, 'spearheaded': 1, 'copy': 1, 'spin': 1, 'peaked': 1, 'television': 1, 'turtles': 1, '19': 1, 'participated': 1, 'vocal': 1, '2010': 1, 'recording': 1, 'pennsylvania': 1, 'pressed': 1, 'male': 1, 'single': 1, 'dropped': 1, 'hit': 1, 'onions': 1, '1966': 2, 'magazine': 1, '1': 1, 'hot': 1, 'strange': 1, 'canada': 1, 'bearded': 1, 'columbia': 2, 'elizabeth': 1, '60s': 1, 'track': 1, 'chart': 2, 'christies': 1, 'noncommercial': 1, 'spouse': 1, 'psychedelic': 1, 'susan': 1, 'considered': 1, 'fallen': 1, '1970': 1, '2006': 1, 'american': 1, '2008': 1, 'singersin': 1, 'original': 1, 'songs': 1}, {'precisiontooled': 1, 'developed': 1, 'results': 1, 'quarters': 1, 'helena': 1, 'including': 1, 'apartment': 1, 'police': 1, 'deserts': 1, 'earned': 1, 'writer': 3, 'sky': 1, 'minnesota': 2, 'include': 1, 'desire': 1, 'jake': 1, 'regional': 1, 'dell': 1, 'made': 1, 'private': 1, 'stasio': 1, 'years': 1, 'mystery': 1, 'articles': 1, 'small': 1, 'husband': 1, 'set': 2, 'series': 2, 'result': 1, 'diver': 1, 'techniques': 1, 'gunn': 5, 'living': 1, 'motel': 2, 'extensively': 1, 'research': 1, 'burke': 1, 'europe': 1, 'publishers': 1, 'arizona': 1, 'southeast': 1, 'york': 1, 'path': 1, 'beginning': 1, 'marilyn': 1, 'license': 1, 'career': 2, 'times': 1, 'american': 1, 'fulltime': 1, 'published': 1, 'pilots': 1, 'raised': 1, 'family': 1, 'owned': 1, 'sailor': 1, 'directly': 1, 'sarah': 1, 'city': 1, 'harlequin': 1, 'liveaboard': 1, 'travelled': 1, 'mountains': 1, 'lived': 1, 'novelsgunn': 1, 'innkeeper': 1, 'lives': 1, 'careful': 1, 'hines': 1, 'grew': 1, 'sailing': 1, '1999': 1, 'phillip': 1, 'rutherford': 1, 'tucson': 3, 'scuba': 1, 'mexico': 1, 'moved': 2, 'author': 1, 'retiring': 1, 'travel': 2, 'write': 1, 'setting': 1, 'papers': 1, 'forge': 1, 'daughters': 1, 'canada': 1, 'elizabeth': 1, 'novels': 1, 'houseprior': 1, 'montana': 1, 'lobby': 1, 'hiked': 1, 'procedurals': 1, 'fictional': 1, 'cramped': 1, 'walker': 1, 'severn': 1, 'began': 1}, {'hampton': 2, 'savannah': 1, 'sleepy': 1, 'years': 1, 'including': 1, 'fletcher': 1, 'atlanta': 1, 'tv': 2, 'highlights': 1, 'program': 1, 'include': 2, 'viking': 1, 'means': 1, 'horror': 1, 'dc': 2, '1954': 1, 'pearson': 1, 'ghostbusters': 1, 'sony': 1, 'smash': 1, 'school': 1, 'motorola': 1, 'popular': 1, 'noted': 1, 'realism': 1, 'warner': 1, 'clients': 1, 'england': 1, 'born': 1, 'video': 1, 'nbm': 1, 'year': 1, 'mashhe': 1, 'cocacola': 1, 'page': 1, 'bellsouth': 1, 'network': 1, 'mcmahon': 1, 'sequential': 1, 'fricksfirestone': 1, 'shows': 1, 'full': 1, 'spot': 1, 'bo': 1, 'commercial': 1, 'arts': 2, 'drew': 1, 'agencies': 1, 'york': 1, 'graduated': 1, 'legend': 1, 'extreme': 1, 'design': 1, 'times': 1, 'length': 1, 'wrote': 1, 'incarnation': 1, 'book': 1, 'johns': 1, 'washington': 1, 'period': 1, 'hollow': 1, 'art': 2, 'comic': 1, 'ad': 1, 'city': 1, 'story': 1, 'publishing': 2, 'live': 1, 'medium': 1, 'painted': 2, 'batman': 1, 'tundra': 1, 'visual': 1, 'realms': 1, 'worked': 1, '96': 1, 'graphic': 2, '15': 1, 'glory': 1, 'comics': 2, 'work': 2, 'storyboard': 1, 'uk': 1, 'college': 1, 'animated': 1, 'regularly': 1, 'bent': 1, 'artisthe': 1, 'bros': 1, 'states': 1, 'superman': 1, 'united': 1, 'develop': 1, 'commercials': 1, 'feature': 1, '40': 1, 'animation': 1, 'pizza': 1, 'fairly': 1, 'indianapolis': 1, 'advets': 1, 'novels': 1, 'papa': 1, 'helping': 1, 'mccannerickson': 1, 'moving': 1, 'uncommon': 1, 'cowritten': 1, 'cartoon': 2, 'storyboarding': 1, 'professor': 1, 'spent': 1, 'verdilak': 1, 'original': 1}, {'german': 1, 'ordre': 1, 'contemporary': 1, 'actress': 1, 'nicknamed': 1, 'honours': 1, 'japan': 1, 'albums': 1, 'lettres': 1, 'la': 1, 'paris': 2, 'recognised': 1, 'september': 1, 'personality': 1, 'republics': 1, 'merit': 2, 'birth': 1, 'press': 1, 'world': 1, 'day': 1, 'places': 1, 'success': 1, 'artist': 1, 'officially': 1, 'officer': 1, 'fields': 1, 'popular': 4, 'officier': 1, 'rossa': 1, 'americahaving': 1, 'triumphed': 1, 'animals': 1, 'national': 1, '1960s': 1, 'hair': 1, 'born': 1, 'greece': 1, 'omri': 1, 'theatrical': 1, 'televised': 1, 'federal': 1, 'numerous': 1, 'red': 1, 'korea': 1, 'simultaneously': 1, 'honour': 1, 'french': 2, 'singers': 2, '1939': 1, 'abroad': 1, 'stage': 1, 'received': 2, 'enormous': 1, 'internationally': 1, 'panther': 1, 'times': 1, 'legion': 1, 'italian': 9, 'south': 1, 'names': 1, 'female': 1, 'arts': 1, 'biolcati': 1, 'personalities': 1, 'remains': 1, 'chevalier': 1, 'due': 1, 'france': 1, 'pronunciation': 1, '2': 1, 'music': 1, 'participated': 1, 'successful': 1, 'released': 1, 'berlin': 1, 'stems': 1, 'july': 1, 'highest': 1, 'spain': 1, 'goro': 1, '11': 1, 'television': 1, '1995': 1, '17': 1, 'milva': 1, 'des': 2, 'stature': 1, 'stages': 1, 'acclaim': 1, 'combining': 1, 'commander': 2, 'film': 1, 'native': 1, 'programmes': 1, 'italy': 3, 'republic': 3, 'events': 1, '2007': 1, 'theatre': 1, 'june': 1, 'bjolkati': 1, 'germany': 2, 'additionally': 1, 'maria': 2, 'singer': 1, 'bestowed': 1, 'colour': 1, 'order': 3, 'rome': 1, '2006': 1, 'artistic': 1, '2009': 1, 'ilva': 2, 'musical': 3, 'fact': 1}, {'untold': 1, 'producer': 3, 'fox': 2, 'raised': 1, 'produced': 1, 'asian': 1, 'extremities': 1, 'economist': 1, 'based': 1, 'tv': 2, 'winner': 1, 'bush': 1, 'association': 1, 'cum': 1, 'include': 2, 'formosa': 1, 'michigan': 1, 'dark': 1, 'starbucks': 1, 'presidential': 1, 'university': 3, 'manhattan': 1, 'leave': 1, 'starred': 1, 'series': 1, 'activists': 1, 'taiwanese': 2, 'surrounding': 1, 'decided': 1, 'entering': 1, 'dear': 1, 'er': 1, 'fulbright': 1, 'research': 1, 'waiting': 1, 'internet': 1, 'international': 4, 'independence': 1, 'ba': 1, 'writertranslator': 1, 'lefty': 1, 'philippinestiao': 1, 'credits': 2, 'magna': 1, 'betrayed': 1, 'stage': 1, 'marty': 1, 'received': 2, 'central': 1, 'southeast': 1, 'career': 1, 'tlc': 1, 'american': 1, 'major': 1, 'writer': 1, 'clinton': 1, 'scene': 1, 'george': 1, 'awardwinning': 1, 'story': 1, 'management': 1, 'relations': 1, 'mencia': 1, 'entertainmenttiao': 1, 'hollywood': 1, 'madtv': 1, 'transferring': 1, 'worked': 3, 'true': 1, 'ma': 1, 'room': 1, 'born': 1, 'pursue': 1, 'nations': 1, 'stories': 1, 'cello': 1, 'proof': 1, 'mind': 1, 'fellow': 1, '1980s': 1, 'cbs': 1, 'politics': 2, 'tiao': 2, 'film': 3, 'affairs': 1, 'democracy': 1, 'administration': 2, 'feature': 1, 'actor': 3, 'field': 1, 'boom': 2, 'manila': 1, 'performance': 1, 'comedy': 2, 'events': 1, 'independent': 1, 'columbia': 1, 'theatre': 1, 'kansas': 1, 'stan': 1, 'laude': 1, 'tufts': 1, 'quarterlife': 1, 'short': 1, '2002': 1, 'scholarship': 1}, {'limited': 4, 'yearprimos': 1, 'founder': 1, 'institutional': 1, 'money': 2, 'move': 1, 'domestic': 1, 'llc': 2, 'oldest': 1, 'baldwin': 1, 'children': 1, 'partners': 2, 'hills': 1, 'acumen': 1, 'industrys': 1, 'september': 1, 'forbes': 1, 'black': 1, 'board': 2, 'developed': 1, '2013': 1, '2012': 1, 'advises': 1, 'global': 3, 'march': 1, 'africanamerican': 1, 'moms': 1, 'capital': 7, '1955': 1, 'matters': 2, 'world': 1, 'investor': 1, 'newly': 1, 'listprimo': 1, 'primo': 7, 'cofounder': 1, 'side': 1, 'quintin': 1, 'signing': 1, 'financial': 3, 'ceo': 1, 'minorityowned': 3, 'born': 1, 'investment': 1, '1947in': 1, 'opened': 1, 'chicago': 1, 'innovation': 1, 'international': 1, 'firms': 2, 'fundsas': 1, 'visionary': 1, 'business': 1, 'commercial': 1, 'richest': 1, 'invest': 1, 'early': 1, 'kids': 1, 'industry': 1, 'transition': 1, 'americas': 3, 'angeles': 1, 'magazine': 1, 'ranked': 1, 'west': 1, 'south': 1, 'alliance': 1, 'companyin': 1, 'strategic': 1, 'included': 1, 'americans': 1, 'homeless': 1, 'contributor': 1, 'management': 2, 'estate': 4, 'addition': 1, 'twenty': 1, 'top': 1, 'philanthropy': 1, 'los': 1, 'capri': 8, '404': 1, 'listed': 1, 'leadership': 1, 'markets': 1, 'firm': 3, 'urban': 2, 'african': 1, 'funds': 1, 'company': 1, 'formed': 1, 'serve': 1, 'iii': 1, 'appointed': 1, 'women': 1, 'crenshaw': 1, '14': 1, 'publicly': 1, 'mr': 2, 'primos': 1, 'renaming': 1, 'launched': 2, 'real': 4, 'saluted': 1, 'plaza': 1, 'investors': 1, 'india': 2, 'states': 1, 'malls': 1, 'purchased': 1, 'united': 1, 'nonexecutive': 1, 'located': 1, 'chairman': 3, 'largest': 1, 'cnbc': 1, 'regional': 1, 'shelter': 1, 'center': 1, 'director': 1, 'regular': 1, 'services': 3, 'billion': 1, 'directors': 1, 'assets': 1, 'limiteds': 1, 'mezzanine': 1, 'indianregistered': 1, '2000': 1, '2006': 1, 'pension': 1, 'underserved': 1, 'enterprise': 1, 'position': 1, 'overseas': 1, 'latest': 1}, {'portraying': 1, 'catweazle': 1, 'show': 1, 'sheltering': 1, 'displayed': 1, 'pops': 1, 'episodes': 1, 'including': 2, 'bayldon': 2, 'paul': 1, 'envy': 1, 'based': 1, 'title': 1, 'wizard': 1, 'yorkshire': 1, 'theme': 1, 'dramatisation': 1, 'riding': 1, 'include': 2, 'mortality': 1, 'blott': 1, 'university': 1, 'big': 1, 'watch': 1, 'television': 6, 'game': 1, 'schools': 1, 'magic': 1, 'bayldons': 1, 'january': 1, 'auld': 1, 'newtons': 1, 'organon': 1, 'dramas': 1, 'unexpected': 1, 'series': 6, 'magnificent': 1, 'tvs': 1, 'born': 2, 'productions': 1, 'video': 1, 'turning': 1, 'programmes': 1, 'alternative': 1, 'provided': 1, 'rex': 1, 'plays': 1, 'grandad': 1, 'hardcastles': 1, 'tales': 1, 'boogie': 1, 'version': 1, 'shakespeare': 1, '7': 1, 'simplicio': 1, 'porridge': 2, 'recently': 1, 'sins': 1, 'longrunning': 2, 'royale': 1, 'guest': 2, 'casino': 1, 'british': 1, '1995bayldon': 1, 'worzel': 1, 'leeds': 1, 'love': 1, 'childrens': 1, 'appeared': 1, 'number': 2, 'revolution': 1, 'singing': 1, 'boyard': 1, 'open': 1, 'landscape': 1, '1986': 1, '1987': 1, '1985': 1, '1983': 1, 'marc': 1, 'west': 1, 'top': 1, 'bbc': 4, 'fiction': 1, 'geoffrey': 1, 'storm': 1, 'angelsother': 1, 'leonard': 1, 'cops': 1, 'talents': 1, 'crowman': 1, '1960s': 1, 'doctors': 1, 'fort': 1, 'king': 1, '1993': 1, 'made': 2, 'roles': 2, 'science': 1, 'appearance': 2, 'vocal': 1, 'governoramong': 1, 'vocals': 1, '1924': 1, 'played': 2, 'rat': 1, 'bolant': 1, '1998he': 1, '197072': 1, 'pit': 1, 'film': 3, 'sir': 1, 'doctor': 5, 'deadly': 1, '1967': 3, '1961': 1, 'actor': 1, 'unexploited': 1, 'parts': 2, 'role': 1, 'creature': 1, 'play': 1, 'finish': 1, 'star': 1, 'palms': 1, 'gummidge': 1, 'appearances': 2, '1970s': 1, 'unbound': 1, 'segment': 1, 'avengers': 1, 'recent': 1, 'episode': 1, '1979': 2, 'tricks': 1, 'caseyin': 1, '197981': 1, '1971': 1, '2007': 1, '1965': 1, 'audio': 1, 'opportunity': 1, 'playing': 1}, {'serving': 1, 'german': 2, 'years': 1, 'founded': 1, 'scientist': 1, 'computers': 1, 'chair': 1, 'ikerbasque': 3, 'sonoma': 1, 'web': 2, 'based': 1, 'iscience': 2, 'sciences': 1, 'privatdozent': 1, 'young': 1, 'leibniz': 1, 'habilitation': 1, 'prof': 1, 'founders': 1, '2013': 1, '2012': 1, 'boulder': 1, 'tests': 1, 'founding': 1, 'big': 1, 'de': 1, 'honorable': 1, 'world': 1, 'dr': 1, 'uwe': 1, 'articles': 1, 'rhetoric': 1, 'cognition': 1, 'university': 7, 'standards': 1, 'tenured': 1, 'experiments': 2, 'switzerland': 1, 'wrote': 1, 'methods': 2, 'zurich': 1, 'dgof': 1, 'elected': 1, 'konstanz': 1, 'attended': 1, 'measurement': 1, '7th': 1, 'laboratory': 1, 'universities': 1, 'psychology': 10, 'kolleg': 1, 'research': 4, 'state': 1, 'won': 1, 'scientists': 1, 'international': 1, 'method': 1, 'full': 1, 'superior': 1, 'ma': 1, 'journal': 2, 'jointly': 1, 'experimenting': 2, 'ranked': 1, 'california': 1, 'cientificas': 1, 'affiliated': 2, 'article': 1, 'chapter': 1, 'received': 3, 'conducting': 2, 'title': 1, 'bilbao': 1, 'american': 1, 'fulltime': 1, 'assistant': 1, 'social': 1, 'internetbased': 4, 'experimental': 3, 'colorado': 1, 'consejo': 1, 'venia': 1, 'jens': 1, 'scipulfdietrich': 1, 'private': 1, 'ulfdietrich': 2, 'spanish': 1, 'undergraduate': 1, 'nonnorth': 1, 'tbingen': 2, 'working': 2, 'basis': 1, 'remains': 1, 'journals': 1, 'top': 1, 'political': 1, 'causality': 1, 'editor': 1, 'assessment': 1, 'minor': 1, 'legendi': 1, 'award': 2, 'reips': 6, 'spain': 2, 'wide': 1, '1992': 1, '1995': 1, '1994': 1, '1997': 2, 'affiliation': 1, 'science': 3, 'deusto': 1, 'matzat': 1, 'walter': 1, 'real': 1, '2014ulfdietrich': 1, 'defined': 1, 'cited': 1, 'general': 1, 'investigaciones': 1, 'majored': 1, 'media': 1, 'holds': 1, 'graduate': 1, 'field': 1, 'neuroscience': 1, 'book': 1, 'online': 2, 'department': 2, 'lecturer': 1, 'methodology': 1, 'internet': 4, 'lab': 1, 'phd': 1, 'germany': 1, 'student': 1, 'faculty': 1, 'society': 3, 'president': 1, 'data': 1, 'oberassistent': 1, 'methodologies': 1, 'professor': 3, 'spent': 1, 'psychological': 2, '2002': 1, '2004': 1, '2005': 1, '2009': 2}, {'pense': 1, 'scientist': 1, 'committee': 1, 'biologist': 1, 'issues': 1, 'ncehr': 1, 'group': 1, 'la': 1, 'codirector': 2, 'program': 1, 'screening': 1, 'division': 1, 'founding': 1, 'lambertprofessor': 1, 'interdisciplinary': 1, 'camus': 3, 'de': 6, 'chercheurs': 1, 'masters': 1, 'du': 2, 'articles': 1, 'sant': 1, 'committees': 1, 'served': 1, 'universit': 3, 'works': 1, 'programme': 1, 'ethical': 1, 'en': 1, 'reference': 1, 'testing': 1, 'society': 1, 'books': 1, 'quebec': 1, 'canada': 1, 'sociology': 1, 'genetics': 3, 'network': 1, 'richard': 1, 'philosopher': 2, 'religion': 1, 'sshrc': 1, 'medicine': 1, 'evaluation': 1, 'fribourg': 1, 'degree': 1, 'associate': 1, 'french': 1, 'teaches': 1, 'received': 1, 'recherche': 1, 'canadian': 1, 'vicepresident': 1, 'interinstitutional': 1, 'experimental': 1, 'collge': 2, 'researcher': 1, 'laval': 1, 'qubec': 1, '1986': 1, 'mlanon': 4, '1988': 1, 'genetic': 1, 'clinical': 1, 'authored': 1, 'gnthiq': 1, 'bioethicshe': 1, 'analyse': 1, 'specialty': 1, 'frsqprofessor': 1, 'worked': 1, 'representing': 1, 'des': 1, 'switzerlandprofessor': 1, 'doctorate': 1, 'soutien': 1, 'funded': 2, 'marcel': 1, 'fonds': 1, 'qubecfrsq': 1, 'bioethics': 3, 'graduate': 1, 'member': 3, 'book': 1, 'department': 2, 'albert': 3, 'philosophy': 2, 'director': 1, 'ethics': 4, 'law': 1, 'chicoutimi': 2, 'professor': 1, 'analysis': 1, 'thought': 1, 'researchers': 1, 'sa': 1, 'pscche': 1}, {'operations': 1, 'surrey': 1, 'tomorrows': 1, 'gold': 2, 'companieswhile': 1, 'radio': 15, 'departed': 1, '24': 1, 'based': 1, 'platform': 1, 'program': 1, 'listing': 1, 'computerised': 2, 'merged': 1, 'division': 1, 'format': 1, 'ceo': 4, 'joint': 2, 'kiss': 1, 'world': 2, 'day': 1, 'joined': 2, 'pirate': 3, 'journalist': 2, 'served': 1, 'programme': 1, 'set': 1, 'group': 3, 'hosted': 2, 'star': 1, 'londonafter': 1, 'investment': 1, 'network': 1, 'radioin': 1, 'fox': 1, 'research': 1, 'current': 1, 'berkshires': 1, 'eventually': 1, 'capital': 1, 'international': 2, 'consisting': 1, 'shows': 1, 'pioneering': 1, 'eagle': 1, 'venture': 1, 'jointly': 1, '20': 1, 'hours': 1, 'growing': 1, 'concentrate': 1, 'studio': 1, 'york': 1, 'key': 1, '102': 1, 'news': 2, 'technologiesin': 1, 'working': 1, 'launch': 6, 'newspapers': 1, 'compliance': 1, 'programming': 1, 'british': 1, 'officer': 1, 'exeter': 1, 'promoted': 2, 'uks': 1, 'innovations': 1, 'county': 6, 'services': 1, 'featured': 1, 'market': 1, '1986': 2, 'awardwinning': 1, '1984': 1, 'management': 2, '1983': 1, '1980': 1, 'computing': 1, 'bbc': 1, 'system': 1, 'rcs': 3, 'plains': 1, 'station': 4, 'master': 1, 'editor': 1, 'music': 2, 'white': 1, 'launching': 1, 'separated': 1, 'introducing': 1, 'head': 1, 'form': 1, 'company': 1, 'cornwall': 1, 'selector': 1, 'delta': 1, 'transitioning': 1, 'customer': 1, 'october': 2, '1995': 1, 'ukrd': 3, 'stations': 3, 'uk': 4, 'newspaper': 1, 'fm': 5, 'taking': 1, 'launched': 1, 'control': 1, '2014': 1, 'played': 1, 'moved': 1, 'mike': 1, 'breakfast': 1, 'technology': 1, '1991': 1, 'musicscheduling': 1, 'provincial': 1, 'manchesters': 1, 'westcountry': 1, 'torbay': 1, 'media': 1, 'sound': 6, 'role': 1, 'chairman': 1, 'digital': 1, 'powell': 7, 'stock': 1, 'infinity': 3, 'affairs': 1, 'automation': 1, 'director': 1, 'running': 1, 'playoutshortly': 1, 'designed': 1, 'showpowell': 1, 'included': 1, 'president': 2, 'guildford': 1, 'devonair': 1, 'building': 1, 'vice': 2, 'headquarters': 1, '2002': 1, '964': 1, 'chief': 1, '2001': 1, 'senior': 2, 'software': 1}, {'september': 1, 'belarusian': 2, 'including': 1, 'footballers': 1, 'scoring': 1, '26': 1, 'cut': 1, 'group': 1, '21': 1, 'championshipon': 1, 'earned': 1, 'toulon': 1, '4': 1, 'footballer': 1, '2010': 2, 'match': 2, '2012': 2, 'belarus': 2, 'qualifier': 1, 'matches': 2, '12': 2, 'under21': 4, 'january': 1, 'debut': 1, 'latvia': 1, 'denmark': 1, 'london': 1, 'side': 1, 'national': 1, 'competition': 1, 'born': 1, 'home': 1, 'plays': 1, 'missed': 1, 'selected': 2, '18': 1, 'senior': 1, 'olympics': 1, 'nominees': 1, 'august': 1, 'opening': 1, 'team': 4, 'yurchenko': 4, 'uladzimir': 1, 'november': 1, 'stage': 1, '22': 1, 'country': 1, '30': 1, 'friendly': 2, 'players': 1, 'games': 1, 'u21': 6, 'qualification': 1, 'win': 2, 'netted': 2, 'austria': 1, 'yurchanka': 1, 'withdrawn': 1, '1989': 1, '2': 1, 'injury': 1, 'participated': 2, 'salihorskyurchenko': 1, 'aliaksandr': 1, 'secured': 1, 'omanon': 1, 'part': 3, 'perepechka': 1, 'russian': 1, 'october': 1, '2011': 4, 'vasilyevich': 1, 'final': 1, 'replaced': 1, 'pretournament': 1, 'shakhtyor': 1, 'tournament': 1, 'reserves': 1, 'callup': 1, 'made': 3, 'italy': 1, 'recovery': 1, 'make': 1, '43': 1, 'mogilev': 1, '1': 1, 'belarussian': 1, 'squad': 3, '9': 1, 'european': 4, 'injured': 2, 'championship': 3, 'appearances': 1, 'football': 4, 'june': 1, 'preliminary': 1, 'subsequently': 1, 'goal': 1, '2008': 1, '2009': 2, 'uefa': 4}, {'fukui': 1, 'developed': 1, 'years': 1, 'including': 1, 'albums': 1, 'scoring': 1, '21': 1, 'earthbound': 1, 'black': 1, 'smile': 1, 'piano': 1, '2010': 1, 'march': 1, 'band': 3, 'game': 5, 'influenceuematsu': 1, '1959': 1, 'organ': 1, 'keyboards': 1, 'joined': 1, 'roth': 1, 'rock': 2, 'found': 1, 'works': 1, 'concerts': 2, 'twelve': 1, 'square': 4, 'creator': 1, 'series': 2, 'japanese': 1, 'born': 1, 'titles': 2, 'video': 5, 'composers': 1, 'elton': 1, 'electronic': 1, 'label': 1, 'notably': 1, 'met': 1, 'studio': 1, 'compositions': 1, 'selftaught': 1, 'games': 2, 'tsuyoshi': 1, 'composed': 1, 'enix': 2, 'grammy': 1, 'sakaguchi': 1, 'community': 1, 'fantasy': 5, 'composer': 1, 'nobuo': 2, '1986': 1, 'awardwinning': 1, 'famous': 1, 'mistwalkersoundtracks': 1, 'papas': 1, 'eleven': 1, 'music': 2, 'biggest': 1, 'john': 1, 'final': 5, 'conductor': 1, 'company': 1, 'musician': 1, 'freelancer': 1, 'worked': 2, 'ear': 1, 'colleagues': 1, 'kenichiro': 1, 'arranged': 2, 'versions': 1, '18': 1, 'uematsus': 2, 'mages': 1, 'called': 2, 'played': 2, 'hironobu': 1, 'pieces': 1, 'respected': 1, 'sekito': 1, 'performed': 2, 'arnie': 1, 'began': 1, 'majority': 1, 'uematsu': 3, 'development': 1, 'records': 1, 'scores': 1, 'released': 1, 'considered': 1, 'age': 1, 'dog': 1, '2002': 1, '2004': 1, 'sakaguchis': 1, 'playing': 1, 'left': 1}, {'focus': 1, 'yellow': 1, 'reviewed': 1, 'imprint': 1, 'lsu': 1, 'shoe': 1, 'griffith': 1, 'tendency': 1, 'weekly': 1, 'writer': 3, 'distributed': 1, 'writing': 2, 'press': 1, 'mcsweeneys': 1, 'day': 1, 'university': 1, 'debut': 1, 'michael': 1, 'morning': 1, 'man': 1, 'warner': 2, 'edited': 1, 'seagerhe': 1, 'series': 2, 'kirkus': 1, 'allan': 1, 'born': 2, 'taught': 1, 'college': 1, 'humor': 2, 'collaborates': 1, 'creative': 4, 'future': 1, 'internet': 1, 'czar': 1, 'publishers': 1, 'dictionary': 1, 'warners': 1, 'news': 1, 'teach': 1, 'teaches': 1, 'publishing': 1, 'great': 1, 'inspired': 1, 'american': 2, 'published': 1, 'charleston': 2, 'frequent': 1, 'tough': 1, 'previously': 1, 'northbrook': 1, '2008currently': 1, 'contributor': 1, 'story': 1, 'publication': 1, 'working': 1, 'army': 1, 'create': 1, 'tow': 1, 'fiction': 1, 'humorous': 1, 'editor': 2, 'resulted': 1, 'guilfoile': 1, 'uncle': 1, 'fictionhe': 1, 'john': 1, 'stumbling': 1, 'work': 1, 'reviews': 1, 'books': 3, 'publications': 1, 'clemson': 2, 'politically': 1, 'dedicated': 1, 'raging': 1, 'kevin': 1, 'funny': 1, 'author': 1, 'nuts': 1, 'illinois': 1, 'book': 1, 'inquiry': 2, 'incwarner': 1, 'fw': 1, 'students': 1, 'collection': 1, 'director': 1, 'anthologized': 1, 'student': 1, 'frequently': 1, 'america': 1, 'recent': 1, 'short': 1, '1970': 1, 'chief': 1, 'sc': 2}, {'coach': 1, 'years': 1, 'illustrated': 1, 'title': 1, 'champions': 1, '543': 1, 'coaching': 1, 'surprised': 1, 'game': 2, 'lilburn': 1, 'rebounds': 2, 'hall': 1, 'school': 1, 'sophomore': 1, 'wooden': 3, 'university': 1, 'cofounded': 1, 'mcinstosh': 1, 'theological': 1, 'bruin': 1, 'national': 2, 'hard': 1, 'college': 2, 'gameyears': 1, 'doug': 3, 'nba': 1, '1965mcintosh': 1, 'won': 2, 'woodens': 1, 'drafted': 1, 'attended': 1, 'mcintosh': 5, 'california': 1, 'key': 1, 'anchoring': 1, 'cornerstone': 1, 'bible': 1, 'career': 2, 'didnt': 1, '30': 1, 'angeles': 1, 'players': 1, 'magazine': 1, 'workfollowing': 1, 'duke': 1, 'retired': 1, 'appeared': 1, 'seasons': 1, '64': 1, 'church': 1, 'contributor': 1, 'pivot': 1, 'bruins': 1, 'basketball': 2, 'west': 1, 'ucla': 1, 'sports': 1, 'los': 1, 'draft': 1, 'john': 2, 'grabbing': 1, 'pastor': 1, 'championships': 1, 'junior': 2, 'starter': 2, '11': 1, 'georgia': 1, 'fulfilling': 1, 'kentucky': 1, 'future': 1, 'seminary': 2, 'minutes': 1, 'stated': 1, 'high': 1, 'player': 1, 'fame': 1, '57': 1, 'dallas': 1, '1964': 1, '1965': 1, '1966': 1, 'american': 1, 'potential': 1, 'lily': 2, 'scored': 1, 'play': 2, 'championship': 1, 'closest': 1, 'significant': 1, '486': 1, 'center': 1, 'cover': 1, 'points': 1, 'tenure': 1, 'senior': 1, 'playing': 1, 'reserve': 1}, {'ito': 1, 'powering': 1, 'founder': 2, 'september': 3, 'executive': 1, 'named': 1, 'entrepreneurin': 1, 'partners': 1, '22': 1, 'jeff': 1, 'exclusively': 1, 'derdik': 1, 'citing': 1, '2014': 1, 'worth1000': 1, '2011': 1, '2010': 1, 'smart': 1, '2012': 2, 'march': 1, 'ceo': 2, 'focus': 1, 'amazon': 1, 'school': 1, 'galpert': 1, 'artist': 1, 'michael': 1, 'mit': 1, 'reid': 1, 'officer': 1, 'popular': 1, 'served': 1, 'stalling': 1, 'adobe': 1, 'acquired': 1, 'cofounded': 2, 'born': 1, 'growth': 2, 'year': 1, 'programmer': 1, 'network': 1, 'review': 1, 'multimedia': 3, 'aviary': 3, 'creative': 2, '3': 1, 'closed': 1, 'capital': 3, 'announced': 1, 'benjamin': 1, 'edited': 1, 'chose': 1, 'business': 1, 'web': 2, 'million': 2, 'notable': 1, 'mits': 1, 'tobias': 1, 'attending': 1, 'active': 1, 'joi': 1, 'spark': 1, 'peggs': 1, 'enormous': 1, 'cardozo': 1, '3500': 1, '35': 3, 'magazine': 1, 'passing': 1, 'raised': 1, 'point': 1, 'brought': 1, 'awardwinning': 1, 'monthly': 1, 'top': 1, 'apps': 2, 'strategy': 1, 'photoediting': 1, 'phones': 1, 'innovators': 1, 'shifted': 1, 'direction': 1, 'hoffman': 1, 'site': 1, 'photos': 1, 'suite': 3, '15': 1, '17': 1, '2013': 1, 'venture': 2, 'firm': 1, 'investors': 1, 'december': 1, 'aviarys': 2, 'israel': 2, 'linkedin': 1, 'bezos': 1, 'avi': 1, 'partner': 1, 'technology': 1, 'built': 1, 'author': 1, 'media': 1, 'application': 3, 'systemsmuchnick': 1, 'role': 1, 'stepped': 1, 'company': 2, 'product': 1, 'thirdparty': 1, 'users': 1, 'lab': 1, 'director': 1, 'muchnick': 3, 'walmart': 1, 'law': 1, 'consumerfacing': 1, 'billion': 1, '1979': 1, 'mobile': 1, 'contest': 1, '2002': 1, 'chief': 1, '2007': 1, 'derdikin': 1}, {'producer': 1, 'executive': 1, 'nominated': 1, 'years': 1, 'including': 1, 'asylum': 1, 'industries': 2, 'production': 1, 'board': 2, 'include': 1, '2011': 1, '2010': 1, 'government': 1, 'napiereducated': 1, '1959': 1, 'secondary': 1, 'school': 1, 'finnish': 1, 'university': 4, 'stirling': 1, 'joined': 2, 'development': 1, 'art': 1, 'edinburgh': 7, 'national': 1, 'born': 2, 'college': 1, 'year': 1, 'eu': 1, 'halfhour': 1, 'established': 1, 'estonian': 1, 'pictures': 1, 'creative': 5, 'current': 1, 'glasgow': 2, 'led': 1, 'screen': 4, 'engage': 1, 'institute': 2, 'industry': 1, 'drama': 2, 'april': 1, 'documentary': 2, 'scottishbafta': 1, 'garthamlock': 1, 'scottish': 2, 'trust': 1, 'awardwinning': 1, '1989': 1, 'workshop': 1, 'films': 1, 'entered': 1, 'academy': 3, 'company': 1, 'fellini': 1, 'appointed': 2, 'television': 1, 'made': 1, '1997': 1, 'tree': 1, 'mediafunded': 1, 'schoolsin': 1, 'robin': 1, 'irish': 1, 'partnership': 1, 'im': 1, 'film': 4, 'affairs': 1, 'media': 1, 'liarafter': 1, 'scotland': 4, 'skillset': 1, 'butterfly': 1, 'independent': 1, 'fellers': 1, 'coproducer': 1, 'collaboration': 1, 'director': 3, 'napier': 3, 'baftanominated': 1, 'man': 1, 'macpherson': 1, 'professor': 1, '2002': 1, '2005': 1, '2008': 1}, {'krog': 1, 'indigo': 1, 'lyrics': 1, 'similarity': 1, 'dance': 2, 'style': 1, 'writes': 1, 'lori': 1, 'piano': 2, '2011': 1, 'jazz': 3, 'watercolor': 1, 'records': 1, '1951': 1, 'moods': 1, 'silverman': 1, 'jeanne': 1, 'school': 1, 'scholar': 1, 'university': 2, 'performing': 1, 'temple': 1, 'chamber': 1, 'vibes': 1, 'river': 1, 'wrote': 2, 'sketches': 1, 'bill': 1, 'art': 2, 'born': 1, 'taught': 1, 'college': 1, 'waldron': 1, 'standards': 1, 'composers': 1, 'pastel': 1, 'paintings': 1, 'stages': 1, 'collaborated': 1, '3': 1, 'performs': 1, 'silvano': 5, 'leader': 1, 'shows': 1, 'europe': 2, 'solo': 1, 'recently': 1, 'lee': 1, 'degree': 1, 'attending': 1, 'joe': 2, 'underrepresented': 1, 'beginning': 1, 'compositions': 1, 'great': 1, 'voice': 2, 'changed': 1, 'american': 1, 'husband': 1, 'karin': 1, 'frisell': 1, 'womens': 1, 'york': 1, 'sheila': 1, 'wallkill': 1, 'researches': 1, 'cd': 2, 'featured': 1, 'werner': 2, 'composer': 3, 'singing': 1, 'empathetic': 1, 'city': 1, 'bears': 1, 'philadelphia': 2, 'percussion': 2, 'music': 3, 'narrator': 1, 'bachelors': 1, 'part': 1, 'jordan': 1, 'jazzed': 1, 'women': 1, 'judi': 1, 'collegesshe': 1, 'work': 1, 'vocal': 1, 'recording': 1, 'rutgers': 1, 'marriage': 1, '10th': 1, 'trio': 1, 'studied': 1, 'kenny': 2, 'played': 2, 'pieces': 1, 'states': 1, 'tenor': 1, 'trumpet': 1, 'native': 1, 'united': 1, 'end': 1, 'studying': 1, 'montgomery': 1, 'ny': 1, 'toured': 1, 'pianist': 1, 'ensemble': 1, 'dobbins': 1, 'scored': 1, 'jsl': 1, 'flute': 1, 'songbook': 1, 'collection': 1, 'lovano': 2, 'norwegian': 1, 'mal': 1, 'saxophonist': 1, 'singer': 2, 'silvanobefore': 1, 'media': 1, 'painting': 1, 'original': 1, 'wind': 1, 'songs': 1}, {'peace': 2, 'traditions': 1, 'chinese': 1, 'german': 1, 'global': 3, 'chapters': 1, 'years': 3, 'stability': 1, 'likeverd': 1, 'philosopher': 1, 'human': 3, 'japan': 1, 'hamburg': 4, 'impact': 1, 'doctoral': 1, 'candidate': 1, 'title': 1, 'chosen': 1, 'dr': 2, 'concerned': 1, 'ngo': 1, '1946': 1, 'ideal': 1, 'black': 1, 'languages': 1, 'rwanda': 1, 'parents': 1, '4': 1, 'marriage': 1, 'east': 1, 'norway': 7, '2010': 1, '1991': 1, 'indonesian': 1, 'australia': 1, 'founding': 1, 'greater': 1, 'humandhs': 1, 'means': 1, 'familiar': 1, 'practice': 1, '1993': 1, 'choice': 2, 'academics': 1, 'cultural': 1, 'grew': 1, 'background': 1, 'belgium': 1, 'world': 2, 'unique': 1, 'tutu': 1, 'advanced': 1, 'articles': 1, 'displaced': 1, 'equality': 5, 'scholar': 1, 'founded': 1, 'level': 1, 'gender': 1, 'university': 7, 'rights': 1, 'book': 5, 'inequality': 1, 'switzerland': 1, 'evelin': 1, 'security': 1, 'wrote': 1, 'programme': 1, 'accessible': 1, 'outstanding': 1, 'honored': 1, 'humiliation': 4, 'med': 1, 'councils': 1, 'cairo': 2, 'japanese': 1, 'culture': 1, 'strongest': 1, 'hameln': 1, 'election': 1, 'enemies': 1, 'dissertation': 1, 'psychology': 3, 'deeply': 1, 'asia': 1, 'research': 4, '2009lindner': 1, 'fellowship': 1, 'written': 1, 'health': 1, 'somalia': 1, 'cooperation': 1, 'ac4': 1, 'medicine': 3, 'international': 1, 'enjoys': 1, 'numerous': 1, 'decent': 1, 'europe': 1, 'core': 1, 'focuses': 1, 'foreword': 1, 'importance': 1, 'journal': 1, 'points': 1, 'french': 1, 'understanding': 1, 'sustainable': 1, 'base': 1, 'awards': 1, 'york': 1, '1954': 1, 'graduated': 1, 'affiliated': 3, 'fluently': 1, 'kenya': 1, 'obtained': 1, 'received': 1, 'china': 1, 'usa': 2, 'studied': 2, 'lhomme': 1, 'paris': 1, 'american': 1, 'stand': 1, 'published': 2, 'testament': 1, 'experiences': 1, 'studies': 1, 'honor': 1, 'emotion': 1, 'rooted': 1, 'portuguese': 1, 'egypt': 1, 'prisoners': 1, 'africa': 2, 'number': 1, 'community': 2, 'highly': 1, 'psychological': 1, 'thailand': 1, 'message': 2, 'ethics': 1, '1984': 2, 'practitioners': 1, 'festival': 1, 'west': 2, 'locally': 2, 'france': 1, 'clinical': 1, 'heritage': 2, 'desmond': 1, 'participated': 1, 'psychol': 1, 'danish': 1, 'parliament': 1, 'transdisciplinary': 2, 'formed': 1, 'award': 1, 'part': 1, 'dagfinn': 1, 'cultures': 1, 'universitys': 1, 'worked': 1, 'promote': 1, 'silesia': 1, 'egyptian': 1, 'doctorates': 1, 'high': 1, '13': 1, 'main': 2, 'humiliationher': 1, '1994': 2, '1997': 2, 'born': 1, '1994she': 1, 'des': 1, 'believes': 3, 'hagtvets': 1, 'future': 1, 'familys': 1, 'time': 2, 'historical': 1, 'making': 1, 'doctorate': 2, 'counselor': 1, 'russian': 1, 'social': 2, 'transcend': 1, 'gerda': 1, 'obstacles': 1, 'lindner': 3, 'modern': 1, 'organized': 1, 'genocides': 1, 'globally': 3, 'middle': 1, 'lived': 2, 'dignity': 8, 'burundi': 1, 'workin': 1, 'arabic': 1, 'spends': 1, 'sinology': 1, 'reputation': 1, 'swedish': 1, 'confirmed': 1, '1977': 1, 'anthology': 1, '2003': 1, 'oslo': 2, 'make': 1, 'holds': 1, 'bernt': 1, 'consortium': 1, 'fllesdalsince': 1, 'sciences': 2, 'recommended': 1, 'maison': 1, 'hebrewsince': 1, 'speaks': 1, 'conflict': 3, 'european': 1, 'de': 1, 'columbia': 1, 'traumatic': 1, 'philosophy': 1, 'dutch': 1, '3': 2, 'norwegian': 7, 'important': 3, 'germany': 3, 'president': 1, 'advocates': 1, 'law': 1, 'heidelberg': 1, 'zealand': 1, 'individual': 1, '1978': 1, 'hierarchical': 1, 'humanities': 1, 'psychologist': 1, 'goetheuniversitt': 1, 'academic': 1, 'complexity': 1, '2001': 3, 'responsibility': 1, '2007': 1, 'english': 1, 'position': 1, '2008': 1, '2009': 1, 'frankfurt': 1}, {'houston': 1, 'suny': 2, 'gold': 8, 'heavily': 1, 'years': 3, 'partnered': 1, 'including': 1, 'human': 2, 'chair': 1, 'july': 1, 'knowledge': 1, 'dividing': 1, 'duncan': 3, 'personal': 1, 'absence': 1, 'systems': 1, 'orange': 1, 'maryland': 5, 'include': 1, 'texas': 2, 'division': 1, 'returned': 2, 'klein': 1, '1990': 1, 'siuc': 3, 'assistant': 1, 'practice': 1, 'emphasizes': 1, 'carbondale': 1, 'world': 1, 'advanced': 1, 'articles': 1, 'school': 5, 'multimediabased': 1, 'textbooks': 1, 'university': 11, 'joined': 3, 'leave': 1, 'brockports': 1, 'served': 1, 'works': 1, 'wrote': 1, 'dean': 2, 'mental': 2, 'cologne': 1, 'society': 1, 'taught': 1, 'college': 5, '19701974': 1, 'expert': 1, 'robert': 1, 'research': 3, 'collaborated': 1, 'umd': 1, 'state': 1, 'educationhealth': 1, 'health': 28, 'international': 1, 'evaluation': 2, 'public': 6, 'biology': 1, 'degree': 1, 'associate': 2, 'journal': 1, 'prior': 1, 'commercially': 1, 'york': 1, 'bs': 1, 'informatics': 1, 'beginning': 1, 'seventy': 1, 'received': 1, 'training': 1, 'defense': 1, 'working': 1, 'column': 1, 'completing': 1, 'earned': 3, 'david': 1, 'abledata': 1, 'american': 1, 'regular': 1, 'fulltime': 1, 'published': 2, 'promotion': 2, 'software': 3, 'cancer': 1, 'researcher': 1, 'community': 3, 'county': 1, 'initiative': 1, 'whos': 1, 'earning': 1, '1986': 1, '1984': 1, 'management': 1, 'computer': 2, '1983': 1, '1980': 3, 'support': 1, 'healthquest': 1, '1988': 1, '1989': 1, 'time': 1, 'dozens': 1, 'ranging': 1, 'offering': 1, 'umds': 1, 'serve': 1, 'oregon': 1, 'brockport': 2, 'drph': 1, 'technologies': 1, 'instructor': 1, 'organizations': 1, 'klaus': 1, '1994': 1, 'developing': 1, '1999': 1, 'science': 2, 'vice': 1, 'parkhe': 1, 'publications': 1, 'ms': 1, 'macro': 1, 'video': 1, 'doctorate': 1, 'invited': 1, 'interactive': 1, 'computers': 4, 'computing': 1, 'pieces': 1, 'education': 12, 'technology': 2, 'summers': 1, 'educational': 1, 'specialization': 1, 'pcbased': 1, 'began': 1, '1967': 1, 'illinois': 2, 'application': 2, 'potential': 1, 'papers': 1, 'department': 5, 'performance': 1, 'reestablish': 1, 'entitled': 1, 'park': 2, 'tenure': 1, 'southern': 2, 'lab': 2, 'phd': 2, 'director': 3, 'applications': 2, 'explored': 1, 'faculty': 3, 'services': 1, 'president': 1, 'evaluator': 1, '1969': 1, 'organization': 1, '1978': 1, '1976': 2, 'professor': 4, 'spent': 1, '2002': 1, '2005': 1, 'retardation': 1, 'position': 1, 'decision': 1}, {'cenerentola': 1, 'austrian': 1, 'rusticana': 1, 'la': 2, 'guidance': 1, '1944': 1, 'campanello': 1, 'piano': 1, 'donizetti': 1, 'di': 1, 'munich': 1, 'trovatore': 1, '1992': 1, 'fan': 1, 'performance': 1, '1958': 1, 'georges': 1, 'litaliana': 1, 'callas': 1, 'algeri': 1, 'opera': 5, 'lefkada': 1, 'salzburg': 1, 'continue': 1, 'starred': 1, 'works': 1, 'carlos': 1, 'national': 1, 'aida': 1, '1980her': 1, 'born': 2, 'herbert': 1, 'rossini': 1, 'mascagni': 1, 'sung': 2, 'state': 2, 'destino': 1, 'del': 1, 'jos': 1, 'capuleti': 1, 'stuardashe': 1, 'notably': 1, 'concentrate': 1, 'figaro': 1, 'november': 1, 'conservatoire': 1, 'mezzosopranobaltsa': 1, 'cos': 1, 'saintsans': 1, 'kammersngerin': 1, 'times': 1, 'dalila': 1, 'number': 1, 'graduated': 1, 'singing': 1, 'festival': 1, 'leading': 1, 'tutte': 1, 'athens': 1, 'cherubino': 1, 'semiramide': 1, 'vienna': 2, 'bellini': 1, 'forza': 1, 'travelled': 1, 'barbiere': 1, 'verdi': 1, 'rosenkavalier': 1, 'bizet': 1, '19': 1, 'der': 1, 'appearance': 1, 'baltsa': 2, 'marriage': 1, 'octavian': 1, 'carmen': 1, 'von': 1, 'duett': 1, 'prestigious': 1, 'il': 3, 'made': 1, 'film': 1, '1968': 1, '1965': 1, 'began': 1, 'karajan': 1, 'cavalleria': 1, 'samson': 1, 'regular': 1, 'moving': 1, 'maria': 2, 'siviglia': 1, 'montecchi': 1, 'singer': 1, 'don': 1, 'mozart': 1, 'age': 1, 'carreras': 1, '1970': 1, 'greek': 3, 'studying': 1, 'scholarship': 1, 'frankfurt': 1, 'playing': 2, 'agnes': 1}, {'produced': 1, '10part': 1, 'tv': 2, 'failed': 1, '4': 1, 'hometown': 1, 'returned': 1, 'zagreb': 2, 'zvonimir': 1, '199192': 1, 'screenwriterborn': 1, 'school': 1, 'primary': 1, 'secondary': 1, 'croatias': 1, 'submission': 1, 'university': 1, 'debut': 1, 'deals': 1, 'croatia': 1, 'popular': 1, 'grad': 1, 'croatian': 4, 'titled': 1, 'smogovci': 1, 'national': 1, 'directing': 2, 'born': 1, 'graduating': 1, 'blacks': 1, 'partisan': 1, 'selected': 1, 'codirected': 1, 'won': 1, 'independence': 1, 'loyola': 1, 'awards': 2, 'arena': 1, 'language': 1, '1982after': 1, 'ceasefire': 1, 'foreign': 1, 'angeles': 1, 'juri': 5, 'golden': 1, 'childrens': 1, 'appeared': 1, '83rd': 1, 'number': 1, 'psychological': 1, 'semester': 1, 'art': 1, 'unit': 1, '1982': 1, 'army': 1, 'festival': 1, 'arms': 1, 'los': 1, 'series': 4, 'films': 1, 'osijek': 1, 'war': 2, 'minor': 1, 'teenager': 1, 'shortlist': 1, 'academy': 4, 'award': 1, 'finished': 1, 'dramatic': 1, 'goran': 1, 'directorial': 1, 'directed': 1, '1980s': 1, '1992': 1, 'critically': 1, 'roles': 1, 'pula': 1, 'final': 1, 'documentarieshis': 1, 'marymount': 1, 'tesla': 1, 'high': 1, 'fictional': 1, 'acclaimed': 1, 'education': 1, 'film': 9, 'drama': 1, 'nikola': 1, 'studying': 1, 'make': 1, 'feature': 1, 'department': 1, 'nepokoreni': 1, 'june': 1, 'director': 2, 'lay': 1, 'student': 1, 'cowritten': 1, 'refuse': 1, 'short': 1, '1977': 1, 'biographical': 1, 'devi': 2, 'spent': 1, '1971': 1, 'enrolled': 1, '2009': 2}, {'interpretation': 1, 'edmonton': 1, 'holodomor': 1, '1970s80s': 1, 'polish': 1, '1949': 1, 'title': 1, 'late': 1, '2014in': 1, 'alberta': 2, '2012': 1, 'contention': 1, 'views': 1, 'michigan': 2, 'nationalists': 1, 'background': 1, 'mothers': 1, 'university': 4, 'detroit': 1, 'influenced': 1, 'priest': 1, 'byzantineslavonic': 1, 'side': 1, 'view': 1, 'challenged': 1, 'fathers': 1, 'heated': 1, '1960s': 1, 'culture': 1, 'bandera': 1, 'taught': 1, 'stamford': 1, 'subject': 1, 'dissertation': 1, 'increasing': 1, 'full': 1, 'ba': 1, 'habsburg': 1, 'initially': 1, 'focused': 1, 'yushchenko': 1, 'glorification': 1, 'ukraine': 4, 'received': 1, 'canadian': 1, 'studied': 1, 'diaspora': 1, 'roman': 1, 'genocide': 1, 'mixed': 1, 'italian': 1, 'studies': 1, 'retired': 2, 'shukhevych': 1, 'political': 1, 'johnpaul': 1, 'austria': 1, 'church': 1, '1990s': 2, 'wanted': 1, 'vocationhimka': 1, 'historian': 2, 'due': 1, 'myths': 1, 'opposed': 1, 'basil': 1, 'interests': 1, 'north': 1, 'postmodernism': 1, 'eastern': 1, 'connecticut': 1, 'galicia': 1, '1992': 1, 'debates': 1, 'presidency': 1, 'born': 1, 'pursue': 1, '18': 1, 'official': 1, 'holocaust': 2, 'socialism': 2, 'historical': 1, 'himka': 4, 'seminary': 1, 'history': 5, 'iconography': 1, 'stepan': 1, 'nationalist': 1, 'played': 1, 'defined': 1, 'nationalism': 1, 'catholic': 2, 'marxist': 1, 'end': 1, 'academic': 1, 'radicalization': 1, 'viktor': 1, 'methodology': 1, 'role': 1, 'sacred': 1, 'department': 1, '18671890': 1, 'ukrainian': 5, 'phd': 2, 'slavs': 1, 'eclecticsince': 1, 'ethnic': 1, 'heroes': 1, 'america': 1, 'classics': 1, 'calls': 1, 'nationalistic': 1, '1977': 2, 'professor': 2, '1971': 1, 'st': 1, 'greek': 2, 'left': 1}, {'aharon': 1, 'text': 1, 'years': 1, 'verdict': 1, 'front': 1, 'attitude': 1, 'breaching': 1, 'copyright': 1, 'writing': 1, 'late': 1, 'longoverdue': 1, '4': 1, 'decades': 1, 'photographs': 1, 'eventually': 1, 'permission': 1, 'material': 1, 'colleagues': 1, 'early': 1, '1992': 1, 'reconstructions': 2, 'judge': 2, 'unique': 1, '1959': 1, 'scholar': 1, 'bas': 1, 'qimrons': 1, 'university': 2, 'aggravation': 1, 'facsimile': 1, 'team': 3, 'translated': 1, 'found': 1, 'teamduring': 1, 'dead': 5, 'edition': 1, 'decided': 2, 'sea': 5, 'dissertation': 1, 'sue': 1, 'qumranin': 1, 'twovolume': 1, 'research': 1, 'access': 1, 'favor': 1, 'reconstruction': 1, 'international': 1, 'fragments': 1, 'appeal': 1, 'frustrated': 1, 'felt': 1, 'scrolls': 7, 'barak': 1, 'dorner': 1, 'publication': 1, 'hebrew': 4, 'language': 1, 'study': 1, 'strugnell': 2, '1970s': 1, 'shanks': 2, 'grounds': 1, 'editorinchief': 1, 'intellectual': 1, 'texts': 2, 'bengurion': 1, 'strugnells': 1, 'impossible': 1, 'jerusalem': 1, 'ancient': 1, 'publishing': 1, 'working': 4, 'awarded': 1, 'eleven': 1, 'upheld': 1, 'titleqimron': 1, 'hundred': 2, 'dalia': 1, 'israel': 1, 'biblical': 2, '4qmmt': 2, 'completed': 1, 'highest': 1, '1980s': 1, '1993': 1, 'made': 3, '1994': 1, 'society': 2, 'work': 2, 'negev': 1, 'coopted': 1, 'compensation': 2, 'property': 1, 'completing': 1, 'published': 4, 'supreme': 1, 'proprietary': 1, 'sense': 1, 'reconstructed': 1, 'elisha': 1, 'allowed': 1, 'hershel': 1, 'court': 1, 'cave': 1, 'generally': 1, '40': 1, 'delay': 1, 'qimron': 6, 'caseshershel': 1, 'department': 1, 'document': 1, 'difficult': 1, 'john': 1, 'halakhic': 2, 'assist': 1, 'israeli': 2, 'phd': 1, 'letter': 2, 'included': 1, 'law': 1, 'scholars': 3, 'complained': 1, '1979': 1, '1976': 1, 'professor': 1, 'original': 1, 'academic': 1, '2000': 1, 'archaeology': 2, 'researchers': 2}, {'summer': 2, 'creation': 1, 'discovered': 2, 'oxford': 2, 'including': 1, 'endowment': 1, 'principal': 1, 'simon': 1, 'acres': 1, 'late': 1, 'indian': 3, 'degrees': 1, '196869': 1, 'return': 2, 'photography': 1, 'delhi': 3, 'virginia': 1, 'historic': 1, 'humanities': 2, 'press': 3, 'world': 1, 'dr': 2, 'day': 1, 'societies': 1, 'entire': 1, 'prize': 1, 'lost': 1, 'kennedy': 1, 'undertaking': 1, 'university': 4, 'alice': 1, 'oppenheimer': 1, 'weather': 1, 'architecture': 2, 'yale': 6, 'recoup': 1, 'balliol': 1, 'trunks': 1, 'art': 2, 'woodrow': 1, 'fellowships': 1, 'national': 2, '15000': 1, 'born': 1, 'taught': 1, 'college': 4, 'empire': 2, 'herbert': 1, 'universities': 1, 'dissertation': 2, 'material': 1, 'robert': 1, 'fulbright': 1, 'research': 5, 'fellowship': 1, 'won': 1, 'surfaced': 1, 'learned': 1, 'order': 1, 'locate': 1, 'foundation': 1, 'airways': 1, '1931': 1, 'irvings': 1, 'architectural': 2, 'berkeley': 1, 'activist': 1, 'article': 2, 'lawsuit': 1, 'permitted': 1, 'scottishcanadian': 1, 'conducting': 1, 'luggage': 1, 'institute': 1, 'airport': 2, '1981': 1, 'british': 3, 'museums': 1, 'shipped': 1, 'airline': 1, 'davis': 1, 'studies': 2, 'honor': 1, 'cambridge': 1, 'historians': 1, 'search': 1, 'wesleyan': 1, 'trunk': 2, 'africa': 1, '60': 1, 'grants': 1, 'news': 1, 'kings': 1, 'trust': 1, 'redo': 1, 'specializing': 1, 'awardwinning': 1, 'story': 1, '1982': 1, 'practitioners': 1, 'basis': 1, 'leading': 1, 'visit': 1, 'memorial': 2, 'parents': 1, 'john': 2, 'trinity': 1, 'grandest': 1, 'educated': 1, 'continents': 1, 'successful': 1, 'completed': 1, 'irving': 8, 'connecticut': 1, 'hartford': 3, 'filed': 1, '1911': 1, 'highest': 1, 'hitchcock': 1, '16': 1, 'preparation': 1, 'foundationdr': 1, 'mr': 4, 'accrued': 1, 'ernest': 1, 'history': 4, 'imperial': 1, 'stated': 2, 'boston': 1, 'guggenheim': 1, 'india': 3, 'fellow': 1, 'states': 1, 'britain': 2, 'held': 1, 'council': 2, 'lifetime': 1, 'contents': 1, 'sir': 2, 'damaged': 1, 'united': 1, '1969': 1, 'grant': 1, 'edwin': 1, 'holds': 1, 'american': 3, 'book': 4, 'useless': 1, 'warehouse': 1, 'pan': 1, 'lecturer': 1, 'advocate': 1, 'wilson': 1, 'architects': 1, 'phd': 1, 'unclaimed': 1, 'lectured': 1, 'preservationduring': 1, 'society': 1, 'exposure': 1, 'baker': 2, 'author': 1, 'yearsthe': 1, '35000': 1, 'expenses': 1, 'awarddr': 1, 'lutyens': 2, 'scholarship': 1}, {'emerging': 1, 'office': 1, 'noteworthy': 1, 'contemporary': 1, 'years': 1, 'hawkesbury': 1, 'including': 1, 'macquarie': 1, 'fine': 2, 'completion': 1, 'gold': 1, 'similarities': 1, 'held': 1, 'whiteley': 1, 'collections': 2, '2010': 2, 'australia': 1, 'horror': 1, 'regional': 2, 'seventeenthcentury': 1, 'newcastle': 1, 'wynne': 2, 'prize': 4, 'artist': 3, 'university': 4, 'landscaped': 1, 'art': 8, 'museum': 3, 'born': 2, 'year': 2, 'portrait': 2, 'minchin': 1, 'neo': 1, 'darkness': 1, 'won': 2, 'dutch': 1, 'public': 1, 'shows': 1, 'goth': 1, 'degree': 3, 'bachelor': 1, 'pynacker': 1, 'resides': 1, 'economics': 1, 'controversy': 1, 'melbourne': 1, 'archibald': 2, 'exhibited': 1, 'south': 1, 'win': 1, 'potter': 1, 'harbour': 1, 'queensland': 3, 'landscape': 2, 'ian': 1, 'geelong': 1, 'australias': 1, 'dobell': 1, 'due': 1, 'gippsland': 1, 'master': 1, 'proposal': 1, 'leach': 4, 'completed': 1, 'award': 1, 'prizes': 1, 'worked': 1, 'australian': 2, 'work': 3, 'shilo': 1, 'optimism': 1, 'project': 1, 'comedian': 1, 'cosmos': 1, 'sam': 1, '1973': 1, 'galleries': 1, 'tax': 1, 'melbourneleachs': 1, 'adelaide': 1, 'tim': 1, 'rmit': 1, 'brett': 1, 'diploma': 1, 'victoria': 1, 'william': 1, 'generated': 1, 'coffs': 1, 'coast': 1, 'gallery': 3, 'acknowledged': 1, 'latrobe': 1, 'adam': 1, '2008': 1, '2009': 1, 'musical': 1}, {'passages': 1, 'wiccanpatricia': 1, 'september': 1, 'laura': 1, 'programmercrowther': 1, 'underlying': 1, 'earned': 1, '1943': 1, 'patricia': 3, 'critical': 1, 'surveyed': 1, 'wellknown': 1, 'junction': 1, 'couple': 1, 'early': 1, '9': 1, 'historic': 1, 'flint': 3, 'expeditionscrowther': 1, 'wiccan': 1, 'pounds': 1, 'married': 2, 'frame': 1, '1960s': 1, '115': 1, 'traits': 1, 'computer': 1, 'connect': 2, 'sandy': 1, 'unable': 1, 'connecting': 1, 'thenhusband': 1, 'caves': 1, 'led': 2, 'degree': 1, 'slight': 1, 'met': 1, 'bs': 1, 'active': 1, 'article': 1, 'extreme': 1, 'american': 1, '1970s': 1, 'connectioncrowther': 1, 'narrow': 1, 'juncture': 1, 'dedication': 1, 'canyon': 1, 'ridge': 3, 'leads': 1, 'leading': 1, 'system': 2, 'valley': 1, 'participated': 1, 'final': 1, 'authored': 1, 'systems': 1, 'discovered': 1, 'attempted': 1, 'traversal': 1, 'part': 1, 'wilcox': 2, 'worked': 1, 'account': 1, 'john': 1, 'divorced': 1, 'born': 1, 'pursue': 1, 'kentucky': 2, 'promising': 1, 'houchins': 1, 'proved': 1, 'expedition': 1, 'cavers': 2, 'weighed': 1, 'surveyor': 1, 'expeditions': 2, 'pat': 1, 'cave': 8, 'connection': 1, 'note': 1, 'tight': 2, 'grand': 1, 'crowther': 5, 'unwilling': 1, 'mit': 1, 'daughters': 1, 'explorer': 2, 'spot': 2, 'william': 1, 'attempt': 1, '1977': 1, '1976': 1, '1972': 1, 'portion': 1, 'mammoth': 2, 'undertaken': 1, 'physics': 1}, {'ignatius': 1, 'german': 2, 'actress': 1, 'alamos': 1, 'young': 1, 'moor': 1, '2014': 1, 'local': 1, '2013': 1, 'fate': 1, 'de': 3, 'school': 1, 'munich': 3, 'vera': 1, 'learned': 1, 'february': 1, 'netherlands': 1, 'herbers': 3, '20002001': 1, 'university': 1, 'manhattan': 1, 'oboist': 1, 'hague': 1, 'stopped': 1, 'trap': 1, 'nationale': 1, 'composer': 1, 'series': 1, 'gymnasium': 1, 'born': 2, 'year': 1, 'peter': 1, 'kammerspiele': 1, 'psychology': 1, '19': 2, 'wgn': 1, 'violinist': 1, 'wunderschnen': 1, 'won': 1, 'dutch': 4, 'theaterschool': 1, 'announced': 1, 'attended': 1, 'leeuw': 1, 'physicist': 1, 'studio': 1, 'york': 1, '20012005during': 1, 'daughter': 1, 'canadian': 1, '19992000': 1, 'studied': 2, 'graduation': 1, 'americas': 1, 'drama': 1, 'studies': 2, 'toneel': 1, 'bell': 1, 'mai': 1, 'werner': 1, 'brush': 1, 'female': 1, 'ghent': 1, 'monat': 1, 'amsterdam': 5, 'speak': 1, 'het': 1, 'city': 1, '1980': 2, 'beths': 1, 'los': 1, 'pronunciation': 1, 'films': 1, 'televisionherbers': 1, 'mira': 2, 'award': 1, 'lives': 1, 'hb': 1, 'upherbers': 1, '1993': 1, 'october': 2, '1999': 1, 'guido': 1, 'growing': 1, 'au': 1, 'piece': 1, 'played': 1, 'im': 1, 'performed': 1, 'ntgent': 1, 'film': 1, 'reinbert': 1, 'conductor': 2, 'katja': 1, 'talentshe': 1, 'member': 2, 'role': 1, 'pianist': 1, 'rbrs': 1, 'play': 1, 'theatre': 3, 'pair': 1, '2002': 1, '2003': 1, 'english': 1, 'ktja': 1, '2013in': 1}, {'coach': 1, 'mexican': 1, 'years': 1, 'shaka': 1, 'playoffs': 1, 'slot': 1, 'ham': 1, '22': 1, 'eligible': 1, 'bench': 1, 'countrys': 1, 'dispute': 1, 'regularly': 1, 'division': 3, 'contention': 1, 'matches': 1, 'term': 1, 'newcastle': 1, 'world': 1, 'ruled': 1, 'february': 1, 'receiving': 1, 'occasions': 1, 'university': 1, 'team': 4, 'finishing': 1, 'automatic': 1, 'side': 1, 'neil': 1, 'liga': 1, 'espn': 1, 'keegans': 1, 'national': 1, 'play': 3, 'born': 1, 'eredivisie': 1, 'goalkeeper': 1, 'runnerup': 1, 'tobago': 2, 'won': 1, 'international': 1, 'reading': 1, 'full': 1, 'initially': 1, '200203he': 1, 'losing': 1, 'news': 1, 'starred': 1, 'league': 1, 'working': 1, 'career': 1, 'cup': 2, 'goalkeeping': 1, 'u21': 1, 'promotion': 1, 'cm': 1, '1st': 2, 'england': 3, 'trinidad': 2, 'service': 1, 'west': 1, 'top': 1, 'sports': 1, 'season': 1, '2006he': 1, 'serie': 1, 'finished': 1, 'part': 1, 'chile': 1, 'worked': 1, 'quinnipiac': 1, 'appearance': 1, 'hislop': 1, 'mx': 1, 'portsmouth': 1, 'played': 3, 'premier': 1, 'kevin': 1, 'returned': 1, 'united': 2, 'end': 1, '1969': 1, 'majority': 1, 'commentary': 1, 'briefly': 1, 'separate': 1, 'football': 2, 'fa': 1, 'successive': 1, 'seasons': 1, 'medal': 1, 'opted': 1, 'spent': 1, 'broadcasting': 1, '2006': 1, 'tenure': 1}, {'miso': 1, 'zed': 1, 'jazzanova': 1, 'sinclar': 1, 'charles': 1, 'named': 1, 'years': 1, 'imprint': 1, 'including': 3, 'teamed': 1, 'pitch': 1, 'japan': 2, 'contributions': 1, 'shostakovich': 1, 'scoring': 1, 'video': 2, 'producer': 2, 'panther': 1, 'writes': 1, 'heavily': 2, 'environment': 1, 'production': 2, 'helps': 1, 'continuation': 1, 'circle': 1, 'dj': 1, 'mainstream': 1, 'synonymous': 1, 'practice': 1, 'early': 2, 'famous': 1, 'artwork': 1, 'aspirations': 1, 'world': 2, 'influencers': 1, 'projects': 1, 'worlds': 1, 'runs': 1, 'success': 1, 'artist': 1, 'occasions': 1, 'debut': 2, 'emi': 1, 'worldclass': 1, 'ashes': 1, 'filling': 1, 'cartoons': 1, 'martin': 8, 'perfect': 1, 'works': 2, 'labresults': 1, 'development': 1, 'akatsuka': 1, 'england': 1, 'nineties': 1, 'house': 2, 'licensed': 1, 'illustrations': 1, 'companyfrom': 1, 'productions': 1, 'design': 1, 'skateboarding': 1, 'close': 1, 'soulhe': 1, 'ep': 1, 'techniques': 1, 'album': 4, 'established': 1, 'scenemartin': 1, 'croft': 1, '3rd': 1, 'frontier': 1, 'diluted': 1, 'label': 2, 'content': 1, 'lara': 1, 'version': 1, 'hill': 1, 'print': 1, 'deborah': 1, 'core': 1, 'records2009': 1, 'full': 1, 'replife': 1, 'vocalists': 1, 'atjazz': 7, 'misspent': 1, 'ranges': 1, 'job': 1, 'concentrate': 1, 'studio': 2, 'raider': 2, 'legend': 1, 'chapter': 1, 'producers': 2, 'great': 1, 'voice': 1, 'working': 1, 'launch': 1, 'career': 1, 'industry': 3, 'recordings': 1, 'mantis': 1, 'sonykioon': 1, 'musicians': 2, 'games': 3, 'omar': 1, 'concentrates': 1, 'tomb': 2, 'samethe': 1, 'appropriately': 1, 'fantastic': 1, 'uks': 1, 'clara': 1, 'scene': 1, 'featured': 1, 'pink': 1, 'composer': 1, 'artists': 1, 'sawhney': 1, 'story': 1, '1996': 1, 'midland': 1, 'songs': 1, 'distinct': 1, 'top': 1, 'trademark': 3, 'due': 1, 'long': 1, 'heights': 1, 'returns': 1, 'music': 4, 'series': 1, 'forward': 1, 'soundmartin': 1, 'towns': 1, 'williams': 1, 'remixing': 4, 'shoulders': 1, 'north': 1, 'invite': 1, 'releases': 2, 'eastern': 1, 'labfunk': 1, 'company': 4, 'jordan': 1, 'demand': 1, 'albums': 1, 'hold': 1, 'nitin': 1, 'sound': 2, 'states': 1, '13': 1, 'john': 2, 'henri': 1, 'collaborations': 1, '1998': 1, 'work': 1, 'youth': 1, 'record': 3, 'computer': 1, 'owns': 1, 'webster': 1, 'rework': 1, 'animated': 1, 'heart': 1, 'underground': 1, 'angel': 1, 'rubbing': 1, 'deep': 1, 'helped': 1, 'player': 1, 'bias': 1, 'british': 1, 'fujio': 1, 'sought': 2, 'cites': 1, 'reworking': 1, 'hone': 1, 'renowned': 1, 'realm': 1, 'harsh': 1, 'remixer': 2, 'floor': 1, 'breaking': 1, 'ideas': 1, 'amazing': 1, 'spacemartins': 1, 'digital': 1, 'iveson': 3, 'nu': 1, 'channel': 1, 'mould': 1, 'requested': 2, 'jazz': 1, 'led': 1, 'inspirational': 1, 'stravinsky': 1, 'wellreceived': 1, 'soundtrack': 1, 'class': 1, 'hiphop': 1, 'flown': 1, 'arrived': 1, 'records': 1, 'moniker': 1, 'bob': 1, 'mancinis': 1, 'darkness': 1, 'prolific': 1, 'martins': 2, 'cover': 1, 'gamesnot': 1, 'frizzell': 1, 'time': 1, 'audio': 1, 'musical': 1, 'left': 1}, {'erol': 1, 'rymanher': 1, 'pilcher': 1, 'show': 1, 'german': 4, 'twoyear': 1, 'actress': 1, 'clinic': 1, 'zev': 1, 'fear': 1, 'children': 1, 'lessons': 2, 'write': 1, 'tv': 5, 'character': 1, 'rosa': 1, 'crime': 1, 'writers': 1, 'black': 1, 'differently': 1, '19951996while': 1, 'bellringer': 1, 'express': 1, 'properlyin': 1, 'olivia': 1, 'accepted': 1, 'rebecca': 1, 'advanced': 1, 'school': 1, 'heaven': 1, 'appearing': 1, '17': 1, 'eva': 3, 'episodes': 2, 'twentyyearold': 1, 'courses': 1, 'january': 1, 'zdf': 1, 'investigators': 1, 'greenlit': 1, 'deal': 1, 'series': 6, 'born': 1, 'fhmgermanys': 1, 'ard': 1, 'clown': 1, 'ultimately': 2, 'unavailable': 1, 'roth': 1, 'movie': 1, 'leah': 1, 'sanderin': 1, 'ice': 1, 'payday': 1, 'unable': 1, 'moderated': 1, 'seebergwhile': 1, 'habermann': 1, 'numerous': 1, 'schedule': 1, 'equivalent': 1, 'free': 1, 'ranked': 1, 'conflicts': 1, '100': 1, 'obtained': 1, 'received': 1, 'hiatus': 1, 'graduation': 1, 'drama': 1, 'angelsin': 1, 'commit': 1, 'love': 1, '1997': 1, 'appeared': 2, 'sexiest': 1, 'scene': 1, 'due': 1, 'sisters': 1, 'beach': 1, 'singing': 1, 'sander': 1, 'monkey': 1, 'lexx': 3, 'beer': 1, '2': 1, '2002in': 1, 'films': 1, 'commissioner': 1, 'fire': 1, 'season': 2, 'gap': 1, 'broadcast': 1, 'placement': 1, 'women': 1, 'television': 2, 'roles': 1, '16': 1, '1999': 1, 'xenia': 1, 'loves': 1, 'wild': 1, 'promises': 1, 'angel': 1, 'played': 3, 'alongside': 1, 'high': 1, 'cans': 1, 'scheduling': 1, 'film': 2, 'dancing': 1, 'studying': 1, 'orourke': 1, '1': 1, 'club': 1, '2001': 1, 'role': 5, 'forest': 1, 'comedy': 1, 'projects': 1, 'diehlin': 1, '2005': 2, 'diploma': 1, 'allowing': 1, 'included': 1, 'seasons': 2, '2008': 1, 'rosamunde': 1, 'pumuckl': 1, 'succeeded': 1, '1976': 1, '2003': 1, 'felicitas': 1, '2006': 1, 'time': 1, 'senior': 1, 'playing': 1}, {'dunstable': 1, 'shilton': 1, 'leyton': 2, 'playoffs': 1, 'barking': 1, '200001': 1, 'marvel': 1, 'september': 1, 'developed': 1, 'argyle': 7, 'recordbreaking': 1, 'ending': 1, 'steve': 2, 'manager': 3, 'jimmy': 1, 'birmingham': 2, 'october': 1, 'fine': 1, 'undisputed': 2, 'style': 2, '20': 2, '22': 1, 'personal': 1, 'highlights': 1, 'angilley': 1, 'winning': 1, 'late': 1, 'athletic': 1, 'charge': 1, 'coaching': 1, 'voted': 1, 'halftime': 1, '2014': 1, '2011': 1, 'worth': 1, '2013': 1, 'division': 2, 'preseason': 1, 'seeking': 1, 'matches': 1, 'similar': 1, '122': 1, 'scout': 1, 'foot': 1, 'continued': 1, 'net': 1, 'brisbane': 1, 'bobby': 1, 'debut': 1, 'joined': 1, 'christmas': 1, 'mccall': 1, 'royston': 1, '225000': 1, 'barnstorming': 1, 'team': 2, 'alltime': 1, 'scored': 2, 'twitter': 1, 'fixture': 1, 'back': 1, 'born': 1, 'clubs': 1, 'wigan': 1, 'year': 2, 'incidentally': 1, 'home': 3, 'peter': 1, 'hattrick': 1, 'orient': 3, 'gillingham': 1, 'total': 1, 'unitedon': 1, 'feat': 1, 'midfield': 3, 'attracted': 1, 'fans': 2, 'wembley': 1, 'spells': 1, 'appearances': 1, 'victory': 1, 'website': 1, 'combative': 1, 'intimate': 1, 'attention': 1, 'free': 2, 'boss': 2, 'day': 1, 'allaction': 1, 'licence': 1, 'captainhe': 1, 'promptly': 1, 'super': 1, 'wait': 2, 'gained': 1, 'boy': 1, 'orients': 1, 'career': 1, '32': 1, 'friendly': 1, 'place': 1, 'action': 1, 'castle': 8, 'road': 1, 'golden': 1, 'named': 3, 'cambridge': 1, 'retired': 1, 'campaign': 1, 'headed': 1, 'win': 1, 'county': 1, 'playoff': 1, 'denis': 1, 'quinn': 1, 'seasons': 2, 'table': 1, 'poll': 2, 'city': 2, '1984': 1, 'fee': 1, 'transfer': 2, 'top': 1, 'played': 4, 'due': 1, 'start': 1, 'expected': 1, 'amassing': 1, 'injuryin': 1, 'instructing': 1, 'dalglish': 1, 'firm': 1, 'liverpool': 1, 'relationship': 1, 'league': 2, 'duly': 1, 'season': 5, 'transferring': 1, 'park': 1, '199394': 1, 'game': 3, 'goals': 3, 'playercoach': 1, '13th': 1, '1993': 1, '1992': 1, 'target': 1, '17': 1, '16': 1, 'final': 3, 'stevie': 1, 'plymouth': 1, 'gould': 1, 'highlight': 1, 'stockport': 1, 'minutes': 1, 'notched': 1, 'castles': 1, 'pfa': 2, 'kenny': 1, 'eventually': 1, 'december': 2, 'alongside': 1, 'turned': 1, 'general': 1, 'newlook': 1, 'unitedplymouth': 1, 'rally': 1, 'partner': 1, 'negotiations': 1, 'confirmed': 1, '199798': 1, 'end': 1, 'peterborough': 2, 'town': 2, '1966': 1, 'boxing': 1, 'parks': 1, '322': 1, 'squad': 1, '199091': 1, 'assistant': 1, 'xi': 1, 'wimbledon': 1, 'injured': 1, 'bagging': 1, 'moved': 1, 'separate': 1, 'favourite': 1, 'advice': 1, 'football': 3, 'paid': 1, 'director': 1, 'marched': 1, '1995castle': 1, 'tier': 1, 'knee': 1, 'meaningful': 1, 'secondhalf': 1, 'vein': 1, 'relegation': 1, 'midfielder': 1, 'persistent': 1, 'astonishing': 1, '2001': 1, '2006': 1, 'greatest': 1, 'english': 1, 'senior': 1, '12': 1, 'uefa': 1, 'left': 2}, {'ikebana': 1, 'cameo': 1, 'show': 1, 'wiener': 1, 'including': 1, 'laments': 1, 'dietch': 1, 'la': 1, 'glamourhe': 1, 'iranianarmenian': 1, 'arrangementra': 1, '2014': 1, 'halloween': 1, 'arias': 1, '2010': 3, 'boulder': 1, 'combination': 1, 'song': 1, 'bands': 1, 'records': 1, 'musicarmen': 1, 'judge': 1, 'projects': 2, 'lincoln': 1, 'gershwin': 1, 'konzerthaus': 1, 'opera': 1, 'debut': 1, 'standards': 1, 'joes': 1, 'release': 1, 'californiain': 1, 'concerts': 1, 'vogue': 1, 'art': 1, 'concert': 1, 'classical': 2, 'mtv': 1, 'almond': 1, 'mozartsaal': 1, 'born': 1, 'taught': 1, 'logo': 1, 'folk': 2, 'album': 2, 'plays': 1, 'network': 1, 'recorded': 1, 'factory': 1, 'ra': 2, 'cnn': 1, 'solo': 1, 'iran': 1, 'bb': 1, 'pg13': 1, 'pub': 1, 'armenian': 2, 'post': 1, 'hbo': 1, 'resides': 1, 'british': 1, 'times': 1, 'american': 1, 'york': 2, 'raised': 2, 'madness': 1, 'appeared': 3, 'cd': 1, 'featured': 1, 'bats': 1, 'armen': 2, 'village': 1, 'sharon': 1, 'arts': 1, 'guest': 1, 'cbgbs': 1, 'marc': 1, 'museum': 2, 'vh1': 1, 'fuses': 1, 'master': 1, 'heritage': 1, 'mama': 1, 'music': 2, 'hollywood': 1, 'vienna': 1, 'melodic': 1, 'influence': 1, 'hotel': 1, 'stone': 1, 'released': 1, 'visual': 1, 'needles': 1, 'tehran': 1, 'representing': 1, 'king': 1, 'october': 1, 'appearance': 1, 'nations': 1, 'recording': 1, 'voice': 1, 'fork': 1, 'performer': 1, 'played': 2, 'modern': 2, 'armens': 1, 'performed': 1, 'voltaires': 1, 'everyday': 1, 'film': 1, 'instrumentation': 1, 'united': 1, 'descent': 1, 'bowl': 1, 'lounge': 1, 'theremin': 4, 'variet': 1, 'showcases': 1, 'party': 1, 'pianist': 1, 'play': 1, 'knitting': 1, 'track': 1, 'collaboration': 1, 'artist': 2, 'rolling': 1, 'singer': 1, 'center': 1, 'monsterhe': 1, 'cover': 1, 'musical': 1, 'aunt': 1, 'mother': 1, 'playing': 1, 'songs': 1}, {'godspell': 1, 'producer': 4, 'show': 1, 'charles': 1, 'eton': 1, 'held': 1, 'tours': 1, 'directs': 1, 'cameron': 1, 'principal': 1, 'downstairs': 1, 'freelance': 1, 'writer': 2, 'father': 1, 'young': 1, 'mackintosh': 1, 'repertory': 1, 'speech': 1, 'schoettle': 1, 'executive': 1, 'amy': 1, 'world': 1, 'katie': 1, 'school': 1, 'james': 1, 'brother': 2, 'shaughnessy': 4, 'gameshis': 1, 'cartoons': 1, 'including': 1, 'work': 1, 'restless': 1, 'scriptwriter': 1, 'series': 1, 'national': 1, 'directing': 1, 'college': 1, 'ultimately': 1, 'daytime': 1, 'anne': 2, 'barony': 1, 'basis': 1, 'bold': 1, 'sheffield': 1, 'nanny': 1, 'central': 1, 'months': 1, 'days': 1, 'david': 2, 'angeles': 1, 'presumptive': 1, 'britishborn': 1, 'vic': 1, 'maxwell': 1, 'acted': 1, 'touring': 1, 'wade': 1, 'shaughnessey': 1, 'upstairs': 1, 'voiceovers': 1, 'service': 1, 'los': 1, 'geoffrey': 1, 'live': 1, 'alfred': 1, 'films': 1, 'head': 1, 'educated': 1, 'started': 1, 'moved': 1, 'company': 1, 'heir': 1, 'lives': 1, 'producing': 1, 'television': 4, 'developing': 1, '18': 1, 'older': 1, 'london': 2, 'movies': 1, 'uk': 2, 'video': 1, 'beautiful': 1, 'turned': 1, 'spelled': 1, 'drama': 2, 'perform': 1, 'commercials': 1, 'actor': 3, 'josiehe': 1, 'daughters': 1, 'theatre': 3, 'director': 2, 'actors': 1, 'wife': 1, 'theatres': 1, 'uslater': 1}, {'serving': 1, 'suburban': 1, 'coastsea': 1, 'interim': 1, '24': 1, 'retirement': 1, 'candidate': 2, '1942': 1, 'folded': 1, 'stephen': 1, 'role': 1, 'tory': 1, 'eventually': 1, 'returned': 1, 'government': 3, 'bid': 1, 'credit': 2, 'criticized': 1, 'stockwell': 1, 'accepted': 1, 'continued': 1, 'day': 3, 'progressive': 1, 'january': 2, 'chuck': 1, 'red': 1, 'crossing': 1, 'served': 3, 'stronachs': 1, 'people': 1, 'house': 3, 'commons': 1, 'born': 1, 'election': 2, 'resigned': 4, 'whip': 1, 'reform': 2, 'federal': 1, 'douglas': 1, 'conservative': 3, 'approach': 1, 'leader': 5, 'caucus': 1, 'told': 1, '1986': 1, 'assembly': 1, 'leadership': 1, 'joe': 1, 'belinda': 1, 'conservatives': 2, 'active': 1, 'faced': 1, 'canadian': 2, 'country': 1, 'british': 4, 'david': 1, 'chosen': 1, 'place': 1, 'social': 2, 'asked': 1, 'harpers': 1, 'criticism': 1, 'named': 1, 'alliance': 2, 'opposition': 3, 'campaign': 1, 'sky': 1, 'speaker': 1, '1990s': 1, 'legislative': 1, '1983': 1, 'west': 1, 'pc': 1, 'liberals': 1, 'convention': 1, 'resulted': 1, 'john': 1, 'happy': 1, 'parliament': 3, 'triggered': 1, 'offer': 1, 'cabinet': 2, 'leaderreynolds': 1, 'reelectionreynolds': 1, 'minister': 4, 'riding': 3, '1991': 1, 'politician': 1, '1997': 2, 'elected': 2, '19': 1, 'reelected': 1, 'bargain': 1, 'emerson': 3, 'mp': 3, 'newspaper': 1, 'strongly': 1, 'liberal': 1, 'remained': 2, 'defeated': 1, '1980s': 1, 'coordinator': 1, 'claimed': 1, 'politics': 1, 'reynolds': 5, 'provincial': 2, 'end': 1, 'floor': 1, 'harper': 2, 'chief': 1, 'member': 1, 'vancouver': 2, 'policiesbeginning': 1, 'party': 4, 'clarks': 1, 'columbia': 4, 'minority': 1, '1970s': 1, 'leftleaning': 1, 'coming': 1, 'strahl': 1, 'emersons': 1, '1977': 1, '1974': 1, 'revolt': 1, '1972': 1, 'disagreeing': 1, 'switch': 1, '2001': 1, '2006': 2, 'firestorm': 1, '2005': 1, 'vancouversunshine': 1}, {'coach': 1, 'managed': 1, 'vfagrieg': 1, 'polled': 1, 'years': 1, 'whilst': 1, 'carltona': 1, 'fine': 1, 'onset': 1, 'votes': 1, '21': 1, '23': 2, 'kilda': 2, 'winning': 1, 'suffered': 1, 'footballer': 1, 'suburban': 1, 'hawthorn': 2, 'preseason': 1, 'rules': 1, 'compiled': 1, 'handballs': 1, 'listin': 1, 'association': 1, 'captaining': 1, 'debut': 1, 'team': 1, 'round': 1, 'dean': 1, 'ten': 1, 'griegs': 1, 'mishap': 1, 'born': 1, 'clubs': 1, 'shining': 1, 'creative': 1, 'progress': 1, 'leg': 2, 'greig': 1, 'sole': 1, '19s': 1, 'broken': 1, 'disposals': 1, 'trophy': 1, 'league': 3, '39': 1, '31': 1, 'changed': 1, 'noted': 1, 'games': 2, 'collingwood': 1, 'retain': 1, 'gary': 1, 'ailing': 1, 'midfielder': 1, '1985': 2, 'due': 1, 'handballin': 1, 'brice': 1, 'expected': 1, 'australian': 3, 'recruited': 2, 'fairest': 1, 'club': 3, 'season': 1, 'award': 1, 'grieg': 1, 'kicks': 1, '1991': 2, '1990': 2, 'october': 1, '16': 1, 'record': 1, 'victorian': 2, 'light': 1, 'didnt': 1, 'strongly': 1, 'played': 2, 'winless': 1, 'turned': 1, '1980s': 1, 'leaguegreig': 1, 'end': 1, 'built': 1, 'liston': 1, 'amputated': 1, '2001': 1, 'gangrene': 1, 'scoresby': 1, 'football': 7, 'infection': 1, 'camberwell': 2, '1968': 1, 'subsequently': 1, 'lower': 1, 'vfl': 2, 'onfield': 1, 'released': 1, 'performances': 1, 'age': 1, 'st': 2, 'trialled': 1, 'senior': 1, 'playing': 1}, ... ]"
      ]
     },
     "execution_count": 4,
     "metadata": {},
     "output_type": "execute_result"
    }
   ],
   "source": [
    "wiki_docs = gl.text_analytics.count_words(wiki['text'])\n",
    "wiki_docs = wiki_docs.dict_trim_by_keys(gl.text_analytics.stopwords(), exclude=True)\n",
    "wiki_docs"
   ]
  },
  {
   "cell_type": "markdown",
   "metadata": {},
   "source": [
    "## Model fitting and interpretation\n",
    "In the video lectures we saw that Gibbs sampling can be used to perform inference in the LDA model. In this assignment we will use a GraphLab Create method to learn the topic model for our Wikipedia data, and our main emphasis will be on interpreting the results. We'll begin by creating the topic model using create() from GraphLab Create's topic_model module.\n",
    "\n",
    "Note: This may take several minutes to run."
   ]
  },
  {
   "cell_type": "code",
   "execution_count": 5,
   "metadata": {
    "collapsed": false
   },
   "outputs": [
    {
     "data": {
      "text/html": [
       "<pre>Learning a topic model</pre>"
      ],
      "text/plain": [
       "Learning a topic model"
      ]
     },
     "metadata": {},
     "output_type": "display_data"
    },
    {
     "data": {
      "text/html": [
       "<pre>       Number of documents     59071</pre>"
      ],
      "text/plain": [
       "       Number of documents     59071"
      ]
     },
     "metadata": {},
     "output_type": "display_data"
    },
    {
     "data": {
      "text/html": [
       "<pre>           Vocabulary size    547462</pre>"
      ],
      "text/plain": [
       "           Vocabulary size    547462"
      ]
     },
     "metadata": {},
     "output_type": "display_data"
    },
    {
     "data": {
      "text/html": [
       "<pre>   Running collapsed Gibbs sampling</pre>"
      ],
      "text/plain": [
       "   Running collapsed Gibbs sampling"
      ]
     },
     "metadata": {},
     "output_type": "display_data"
    },
    {
     "data": {
      "text/html": [
       "<pre>+-----------+---------------+----------------+-----------------+</pre>"
      ],
      "text/plain": [
       "+-----------+---------------+----------------+-----------------+"
      ]
     },
     "metadata": {},
     "output_type": "display_data"
    },
    {
     "data": {
      "text/html": [
       "<pre>| Iteration | Elapsed Time  | Tokens/Second  | Est. Perplexity |</pre>"
      ],
      "text/plain": [
       "| Iteration | Elapsed Time  | Tokens/Second  | Est. Perplexity |"
      ]
     },
     "metadata": {},
     "output_type": "display_data"
    },
    {
     "data": {
      "text/html": [
       "<pre>+-----------+---------------+----------------+-----------------+</pre>"
      ],
      "text/plain": [
       "+-----------+---------------+----------------+-----------------+"
      ]
     },
     "metadata": {},
     "output_type": "display_data"
    },
    {
     "data": {
      "text/html": [
       "<pre>| 10        | 26.03s        | 3.41264e+06    | 0               |</pre>"
      ],
      "text/plain": [
       "| 10        | 26.03s        | 3.41264e+06    | 0               |"
      ]
     },
     "metadata": {},
     "output_type": "display_data"
    },
    {
     "data": {
      "text/html": [
       "<pre>| 20        | 48.85s        | 3.06352e+06    | 0               |</pre>"
      ],
      "text/plain": [
       "| 20        | 48.85s        | 3.06352e+06    | 0               |"
      ]
     },
     "metadata": {},
     "output_type": "display_data"
    },
    {
     "data": {
      "text/html": [
       "<pre>| 30        | 1m 13s        | 3.3046e+06     | 0               |</pre>"
      ],
      "text/plain": [
       "| 30        | 1m 13s        | 3.3046e+06     | 0               |"
      ]
     },
     "metadata": {},
     "output_type": "display_data"
    },
    {
     "data": {
      "text/html": [
       "<pre>| 40        | 1m 37s        | 3.22684e+06    | 0               |</pre>"
      ],
      "text/plain": [
       "| 40        | 1m 37s        | 3.22684e+06    | 0               |"
      ]
     },
     "metadata": {},
     "output_type": "display_data"
    },
    {
     "data": {
      "text/html": [
       "<pre>| 50        | 2m 1s         | 3.5354e+06     | 0               |</pre>"
      ],
      "text/plain": [
       "| 50        | 2m 1s         | 3.5354e+06     | 0               |"
      ]
     },
     "metadata": {},
     "output_type": "display_data"
    },
    {
     "data": {
      "text/html": [
       "<pre>| 60        | 2m 24s        | 3.4401e+06     | 0               |</pre>"
      ],
      "text/plain": [
       "| 60        | 2m 24s        | 3.4401e+06     | 0               |"
      ]
     },
     "metadata": {},
     "output_type": "display_data"
    },
    {
     "data": {
      "text/html": [
       "<pre>| 70        | 2m 49s        | 3.59551e+06    | 0               |</pre>"
      ],
      "text/plain": [
       "| 70        | 2m 49s        | 3.59551e+06    | 0               |"
      ]
     },
     "metadata": {},
     "output_type": "display_data"
    },
    {
     "data": {
      "text/html": [
       "<pre>| 80        | 3m 10s        | 3.69108e+06    | 0               |</pre>"
      ],
      "text/plain": [
       "| 80        | 3m 10s        | 3.69108e+06    | 0               |"
      ]
     },
     "metadata": {},
     "output_type": "display_data"
    },
    {
     "data": {
      "text/html": [
       "<pre>| 90        | 3m 32s        | 3.65962e+06    | 0               |</pre>"
      ],
      "text/plain": [
       "| 90        | 3m 32s        | 3.65962e+06    | 0               |"
      ]
     },
     "metadata": {},
     "output_type": "display_data"
    },
    {
     "data": {
      "text/html": [
       "<pre>| 100       | 3m 54s        | 3.61364e+06    | 0               |</pre>"
      ],
      "text/plain": [
       "| 100       | 3m 54s        | 3.61364e+06    | 0               |"
      ]
     },
     "metadata": {},
     "output_type": "display_data"
    },
    {
     "data": {
      "text/html": [
       "<pre>| 110       | 4m 16s        | 3.65214e+06    | 0               |</pre>"
      ],
      "text/plain": [
       "| 110       | 4m 16s        | 3.65214e+06    | 0               |"
      ]
     },
     "metadata": {},
     "output_type": "display_data"
    },
    {
     "data": {
      "text/html": [
       "<pre>| 120       | 4m 37s        | 3.68406e+06    | 0               |</pre>"
      ],
      "text/plain": [
       "| 120       | 4m 37s        | 3.68406e+06    | 0               |"
      ]
     },
     "metadata": {},
     "output_type": "display_data"
    },
    {
     "data": {
      "text/html": [
       "<pre>| 130       | 4m 59s        | 3.6821e+06     | 0               |</pre>"
      ],
      "text/plain": [
       "| 130       | 4m 59s        | 3.6821e+06     | 0               |"
      ]
     },
     "metadata": {},
     "output_type": "display_data"
    },
    {
     "data": {
      "text/html": [
       "<pre>| 140       | 5m 21s        | 3.63267e+06    | 0               |</pre>"
      ],
      "text/plain": [
       "| 140       | 5m 21s        | 3.63267e+06    | 0               |"
      ]
     },
     "metadata": {},
     "output_type": "display_data"
    },
    {
     "data": {
      "text/html": [
       "<pre>| 150       | 5m 42s        | 3.64492e+06    | 0               |</pre>"
      ],
      "text/plain": [
       "| 150       | 5m 42s        | 3.64492e+06    | 0               |"
      ]
     },
     "metadata": {},
     "output_type": "display_data"
    },
    {
     "data": {
      "text/html": [
       "<pre>| 160       | 6m 4s         | 3.65186e+06    | 0               |</pre>"
      ],
      "text/plain": [
       "| 160       | 6m 4s         | 3.65186e+06    | 0               |"
      ]
     },
     "metadata": {},
     "output_type": "display_data"
    },
    {
     "data": {
      "text/html": [
       "<pre>| 170       | 6m 26s        | 3.63628e+06    | 0               |</pre>"
      ],
      "text/plain": [
       "| 170       | 6m 26s        | 3.63628e+06    | 0               |"
      ]
     },
     "metadata": {},
     "output_type": "display_data"
    },
    {
     "data": {
      "text/html": [
       "<pre>| 180       | 6m 48s        | 3.63559e+06    | 0               |</pre>"
      ],
      "text/plain": [
       "| 180       | 6m 48s        | 3.63559e+06    | 0               |"
      ]
     },
     "metadata": {},
     "output_type": "display_data"
    },
    {
     "data": {
      "text/html": [
       "<pre>| 190       | 7m 9s         | 3.66106e+06    | 0               |</pre>"
      ],
      "text/plain": [
       "| 190       | 7m 9s         | 3.66106e+06    | 0               |"
      ]
     },
     "metadata": {},
     "output_type": "display_data"
    },
    {
     "data": {
      "text/html": [
       "<pre>| 200       | 7m 31s        | 3.62997e+06    | 0               |</pre>"
      ],
      "text/plain": [
       "| 200       | 7m 31s        | 3.62997e+06    | 0               |"
      ]
     },
     "metadata": {},
     "output_type": "display_data"
    },
    {
     "data": {
      "text/html": [
       "<pre>+-----------+---------------+----------------+-----------------+</pre>"
      ],
      "text/plain": [
       "+-----------+---------------+----------------+-----------------+"
      ]
     },
     "metadata": {},
     "output_type": "display_data"
    }
   ],
   "source": [
    "topic_model = gl.topic_model.create(wiki_docs, num_topics=10, num_iterations=200)"
   ]
  },
  {
   "cell_type": "markdown",
   "metadata": {},
   "source": [
    "GraphLab provides a useful summary of the model we have fitted, including the hyperparameter settings for alpha, gamma (note that GraphLab Create calls this parameter beta), and K (the number of topics); the structure of the output data; and some useful methods for understanding the results."
   ]
  },
  {
   "cell_type": "code",
   "execution_count": 6,
   "metadata": {
    "collapsed": false
   },
   "outputs": [
    {
     "data": {
      "text/plain": [
       "Class                          : TopicModel\n",
       "\n",
       "Schema\n",
       "------\n",
       "Vocabulary Size                : 547462\n",
       "\n",
       "Settings\n",
       "--------\n",
       "Number of Topics               : 10\n",
       "alpha                          : 5.0\n",
       "beta                           : 0.1\n",
       "Iterations                     : 200\n",
       "Training time                  : 452.5669\n",
       "Verbose                        : False\n",
       "\n",
       "Accessible fields             : \n",
       "m['topics']                   : An SFrame containing the topics.\n",
       "m['vocabulary']               : An SArray containing the words in the vocabulary.\n",
       "Useful methods                : \n",
       "m.get_topics()                : Get the most probable words per topic.\n",
       "m.predict(new_docs)           : Make predictions for new documents."
      ]
     },
     "execution_count": 6,
     "metadata": {},
     "output_type": "execute_result"
    }
   ],
   "source": [
    "topic_model"
   ]
  },
  {
   "cell_type": "markdown",
   "metadata": {},
   "source": [
    "It is certainly useful to have pre-implemented methods available for LDA, but as with our previous methods for clustering and retrieval, implementing and fitting the model gets us only halfway towards our objective. We now need to analyze the fitted model to understand what it has done with our data and whether it will be useful as a document classification system. This can be a challenging task in itself, particularly when the model that we use is complex. We will begin by outlining a sequence of objectives that will help us understand our model in detail. In particular, we will\n",
    "\n",
    "* get the top words in each topic and use these to identify topic themes\n",
    "* predict topic distributions for some example documents\n",
    "* compare the quality of LDA \"nearest neighbors\" to the NN output from the first assignment\n",
    "* understand the role of model hyperparameters alpha and gamma"
   ]
  },
  {
   "cell_type": "markdown",
   "metadata": {},
   "source": [
    "## Load a fitted topic model\n",
    "The method used to fit the LDA model is a _randomized algorithm_, which means that it involves steps that are random; in this case, the randomness comes from Gibbs sampling, as discussed in the LDA video lectures. Because of these random steps, the algorithm will be expected to yield slighty different output for different runs on the same data - note that this is different from previously seen algorithms such as k-means or EM, which will always produce the same results given the same input and initialization.\n",
    "\n",
    "It is important to understand that variation in the results is a fundamental feature of randomized methods. However, in the context of this assignment this variation makes it difficult to evaluate the correctness of your analysis, so we will load and analyze a pre-trained model. \n",
    "\n",
    "We recommend that you spend some time exploring your own fitted topic model and compare our analysis of the pre-trained model to the same analysis applied to the model you trained above."
   ]
  },
  {
   "cell_type": "code",
   "execution_count": 8,
   "metadata": {
    "collapsed": false,
    "scrolled": true
   },
   "outputs": [],
   "source": [
    "topic_model = gl.load_model('lda_assignment_topic_model')"
   ]
  },
  {
   "cell_type": "markdown",
   "metadata": {},
   "source": [
    "# Identifying topic themes by top words\n",
    "\n",
    "We'll start by trying to identify the topics learned by our model with some major themes. As a preliminary check on the results of applying this method, it is reasonable to hope that the model has been able to learn topics that correspond to recognizable categories. In order to do this, we must first recall what exactly a 'topic' is in the context of LDA. \n",
    "\n",
    "In the video lectures on LDA we learned that a topic is a probability distribution over words in the vocabulary; that is, each topic assigns a particular probability to every one of the unique words that appears in our data. Different topics will assign different probabilities to the same word: for instance, a topic that ends up describing science and technology articles might place more probability on the word 'university' than a topic that describes sports or politics. Looking at the highest probability words in each topic will thus give us a sense of its major themes. Ideally we would find that each topic is identifiable with some clear theme _and_ that all the topics are relatively distinct.\n",
    "\n",
    "We can use the GraphLab Create function get_topics() to view the top words (along with their associated probabilities) from each topic.\n",
    "\n",
    "__Quiz Question:__ Identify the top 3 most probable words for the first topic. "
   ]
  },
  {
   "cell_type": "markdown",
   "metadata": {},
   "source": [
    "__ Quiz Question:__ What is the sum of the probabilities assigned to the top 50 words in the 3rd topic?"
   ]
  },
  {
   "cell_type": "markdown",
   "metadata": {},
   "source": [
    "Let's look at the top 10 words for each topic to see if we can identify any themes:"
   ]
  },
  {
   "cell_type": "code",
   "execution_count": 11,
   "metadata": {
    "collapsed": false
   },
   "outputs": [
    {
     "data": {
      "text/plain": [
       "{'words': ['university', 'research', 'professor']}"
      ]
     },
     "execution_count": 11,
     "metadata": {},
     "output_type": "execute_result"
    }
   ],
   "source": [
    "topic_model.get_topics(output_type='topic_words',num_words=3)[0]"
   ]
  },
  {
   "cell_type": "code",
   "execution_count": 98,
   "metadata": {
    "collapsed": false
   },
   "outputs": [
    {
     "name": "stdout",
     "output_type": "stream",
     "text": [
      "0.210343660789\n"
     ]
    }
   ],
   "source": [
    "x = topic_model.get_topics(num_words=50)\n",
    "print sum(x[x['topic']==2]['score'])"
   ]
  },
  {
   "cell_type": "code",
   "execution_count": 9,
   "metadata": {
    "collapsed": false
   },
   "outputs": [
    {
     "data": {
      "text/plain": [
       "[['university',\n",
       "  'research',\n",
       "  'professor',\n",
       "  'international',\n",
       "  'institute',\n",
       "  'science',\n",
       "  'society',\n",
       "  'studies',\n",
       "  'director',\n",
       "  'national'],\n",
       " ['played',\n",
       "  'season',\n",
       "  'league',\n",
       "  'team',\n",
       "  'career',\n",
       "  'football',\n",
       "  'games',\n",
       "  'player',\n",
       "  'coach',\n",
       "  'game'],\n",
       " ['film',\n",
       "  'music',\n",
       "  'album',\n",
       "  'released',\n",
       "  'band',\n",
       "  'television',\n",
       "  'series',\n",
       "  'show',\n",
       "  'award',\n",
       "  'appeared'],\n",
       " ['university',\n",
       "  'school',\n",
       "  'served',\n",
       "  'college',\n",
       "  'state',\n",
       "  'american',\n",
       "  'states',\n",
       "  'united',\n",
       "  'born',\n",
       "  'law'],\n",
       " ['member',\n",
       "  'party',\n",
       "  'election',\n",
       "  'minister',\n",
       "  'government',\n",
       "  'elected',\n",
       "  'served',\n",
       "  'president',\n",
       "  'general',\n",
       "  'committee'],\n",
       " ['work',\n",
       "  'art',\n",
       "  'book',\n",
       "  'published',\n",
       "  'york',\n",
       "  'magazine',\n",
       "  'radio',\n",
       "  'books',\n",
       "  'award',\n",
       "  'arts'],\n",
       " ['company',\n",
       "  'business',\n",
       "  'years',\n",
       "  'group',\n",
       "  'time',\n",
       "  'family',\n",
       "  'people',\n",
       "  'india',\n",
       "  'million',\n",
       "  'indian'],\n",
       " ['world',\n",
       "  'won',\n",
       "  'born',\n",
       "  'time',\n",
       "  'year',\n",
       "  'team',\n",
       "  'championship',\n",
       "  'tour',\n",
       "  'championships',\n",
       "  'title'],\n",
       " ['born',\n",
       "  'british',\n",
       "  'london',\n",
       "  'australian',\n",
       "  'south',\n",
       "  'joined',\n",
       "  'years',\n",
       "  'made',\n",
       "  'england',\n",
       "  'australia'],\n",
       " ['music',\n",
       "  'de',\n",
       "  'born',\n",
       "  'international',\n",
       "  'la',\n",
       "  'orchestra',\n",
       "  'opera',\n",
       "  'studied',\n",
       "  'french',\n",
       "  'festival']]"
      ]
     },
     "execution_count": 9,
     "metadata": {},
     "output_type": "execute_result"
    }
   ],
   "source": [
    "[x['words'] for x in topic_model.get_topics(output_type='topic_words', num_words=10)]"
   ]
  },
  {
   "cell_type": "markdown",
   "metadata": {},
   "source": [
    "We propose the following themes for each topic:\n",
    "\n",
    "- topic 0: Science and research\n",
    "- topic 2: Team sports\n",
    "- topic 3: Music, TV, and film\n",
    "- topic 4: American college and politics\n",
    "- topic 5: General politics\n",
    "- topic 6: Art and publishing\n",
    "- topic 7: Business\n",
    "- topic 8: International athletics\n",
    "- topic 9: Great Britain and Australia\n",
    "- topic 10: International music\n",
    "\n",
    "We'll save these themes for later:"
   ]
  },
  {
   "cell_type": "code",
   "execution_count": 37,
   "metadata": {
    "collapsed": true
   },
   "outputs": [],
   "source": [
    "themes = ['science and research','team sports','music, TV, and film','American college and politics','general politics', \\\n",
    "         'art and publishing','Business','international athletics','Great Britain and Australia','international music']"
   ]
  },
  {
   "cell_type": "markdown",
   "metadata": {},
   "source": [
    "### Measuring the importance of top words\n",
    "\n",
    "We can learn more about topics by exploring how they place probability mass (which we can think of as a weight) on each of their top words.\n",
    "\n",
    "We'll do this with two visualizations of the weights for the top words in each topic:\n",
    " - the weights of the top 100 words, sorted by the size\n",
    " - the total weight of the top 10 words\n"
   ]
  },
  {
   "cell_type": "markdown",
   "metadata": {},
   "source": [
    "Here's a plot for the top 100 words by weight in each topic:"
   ]
  },
  {
   "cell_type": "code",
   "execution_count": 38,
   "metadata": {
    "collapsed": false
   },
   "outputs": [
    {
     "data": {
      "text/plain": [
       "<matplotlib.text.Text at 0x7f299c271850>"
      ]
     },
     "execution_count": 38,
     "metadata": {},
     "output_type": "execute_result"
    },
    {
     "data": {
      "image/png": "[encoded data removed]",
      "text/plain": [
       "<matplotlib.figure.Figure at 0x7f29c401a2d0>"
      ]
     },
     "metadata": {},
     "output_type": "display_data"
    }
   ],
   "source": [
    "for i in range(10):\n",
    "    plt.plot(range(100), topic_model.get_topics(topic_ids=[i], num_words=100)['score'])\n",
    "plt.xlabel('Word rank')\n",
    "plt.ylabel('Probability')\n",
    "plt.title('Probabilities of Top 100 Words in each Topic')"
   ]
  },
  {
   "cell_type": "markdown",
   "metadata": {},
   "source": [
    "In the above plot, each line corresponds to one of our ten topics. Notice how for each topic, the weights drop off sharply as we move down the ranked list of most important words. This shows that the top 10-20 words in each topic are assigned a much greater weight than the remaining words - and remember from the summary of our topic model that our vocabulary has 547462 words in total!\n",
    "\n",
    "\n",
    "Next we plot the total weight assigned by each topic to its top 10 words: "
   ]
  },
  {
   "cell_type": "code",
   "execution_count": 39,
   "metadata": {
    "collapsed": false
   },
   "outputs": [
    {
     "data": {
      "image/png": "[encoded data removed]",
      "text/plain": [
       "<matplotlib.figure.Figure at 0x7f299c1ad0d0>"
      ]
     },
     "metadata": {},
     "output_type": "display_data"
    }
   ],
   "source": [
    "top_probs = [sum(topic_model.get_topics(topic_ids=[i], num_words=10)['score']) for i in range(10)]\n",
    "\n",
    "ind = np.arange(10)\n",
    "width = 0.5\n",
    "\n",
    "fig, ax = plt.subplots()\n",
    "\n",
    "ax.bar(ind-(width/2),top_probs,width)\n",
    "ax.set_xticks(ind)\n",
    "\n",
    "plt.xlabel('Topic')\n",
    "plt.ylabel('Probability')\n",
    "plt.title('Total Probability of Top 10 Words in each Topic')\n",
    "plt.xlim(-0.5,9.5)\n",
    "plt.ylim(0,0.15)\n",
    "plt.show()"
   ]
  },
  {
   "cell_type": "markdown",
   "metadata": {},
   "source": [
    "Here we see that, for our topic model, the top 10 words only account for a small fraction (in this case, between 5% and 13%) of their topic's total probability mass. So while we can use the top words to identify broad themes for each topic, we should keep in mind that in reality these topics are more complex than a simple 10-word summary.\n",
    "\n",
    "Finally, we observe that some 'junk' words appear highly rated in some topics despite our efforts to remove unhelpful words before fitting the model; for example, the word 'born' appears as a top 10 word in three different topics, but it doesn't help us describe these topics at all."
   ]
  },
  {
   "cell_type": "markdown",
   "metadata": {},
   "source": [
    "# Topic distributions for some example documents\n",
    "\n",
    "As we noted in the introduction to this assignment, LDA allows for mixed membership, which means that each document can partially belong to several different topics. For each document, topic membership is expressed as a vector of weights that sum to one; the magnitude of each weight indicates the degree to which the document represents that particular topic.\n",
    "\n",
    "We'll explore this in our fitted model by looking at the topic distributions for a few example Wikipedia articles from our data set. We should find that these articles have the highest weights on the topics whose themes are most relevant to the subject of the article - for example, we'd expect an article on a politician to place relatively high weight on topics related to government, while an article about an athlete should place higher weight on topics related to sports or competition."
   ]
  },
  {
   "cell_type": "markdown",
   "metadata": {},
   "source": [
    "Topic distributions for documents can be obtained using GraphLab Create's predict() function. GraphLab Create uses a collapsed Gibbs sampler similar to the one described in the video lectures, where only the word assignments variables are sampled.  To get a document-specific topic proportion vector post-facto, predict() draws this vector from the conditional distribution given the sampled word assignments in the document.  Notice that, since these are draws from a _distribution_ over topics that the model has learned, we will get slightly different predictions each time we call this function on a document - we can see this below, where we predict the topic distribution for the article on Barack Obama:"
   ]
  },
  {
   "cell_type": "code",
   "execution_count": 40,
   "metadata": {
    "collapsed": false
   },
   "outputs": [
    {
     "name": "stdout",
     "output_type": "stream",
     "text": [
      "+--------------------------+---------------------------+\n",
      "| predictions (first draw) | predictions (second draw) |\n",
      "+--------------------------+---------------------------+\n",
      "|     0.0349462365591      |      0.0456989247312      |\n",
      "|     0.0645161290323      |      0.0376344086022      |\n",
      "|     0.0215053763441      |      0.0161290322581      |\n",
      "|      0.123655913978      |       0.177419354839      |\n",
      "|      0.612903225806      |       0.594086021505      |\n",
      "|     0.0241935483871      |      0.0161290322581      |\n",
      "|     0.0376344086022      |      0.0376344086022      |\n",
      "|     0.0188172043011      |      0.0268817204301      |\n",
      "|     0.0322580645161      |      0.0215053763441      |\n",
      "|     0.0295698924731      |      0.0268817204301      |\n",
      "+--------------------------+---------------------------+\n",
      "+-------------------------------+\n",
      "|             topics            |\n",
      "+-------------------------------+\n",
      "|      science and research     |\n",
      "|          team sports          |\n",
      "|      music, TV, and film      |\n",
      "| American college and politics |\n",
      "|        general politics       |\n",
      "|       art and publishing      |\n",
      "|            Business           |\n",
      "|    international athletics    |\n",
      "|  Great Britain and Australia  |\n",
      "|      international music      |\n",
      "+-------------------------------+\n",
      "[10 rows x 3 columns]\n",
      "\n"
     ]
    }
   ],
   "source": [
    "obama = gl.SArray([wiki_docs[int(np.where(wiki['name']=='Barack Obama')[0])]])\n",
    "pred1 = topic_model.predict(obama, output_type='probability')\n",
    "pred2 = topic_model.predict(obama, output_type='probability')\n",
    "print(gl.SFrame({'topics':themes, 'predictions (first draw)':pred1[0], 'predictions (second draw)':pred2[0]}))"
   ]
  },
  {
   "cell_type": "markdown",
   "metadata": {},
   "source": [
    "To get a more robust estimate of the topics for each document, we can average a large number of predictions for the same document:"
   ]
  },
  {
   "cell_type": "code",
   "execution_count": 41,
   "metadata": {
    "collapsed": false
   },
   "outputs": [],
   "source": [
    "def average_predictions(model, test_document, num_trials=100):\n",
    "    avg_preds = np.zeros((model.num_topics))\n",
    "    for i in range(num_trials):\n",
    "        avg_preds += model.predict(test_document, output_type='probability')[0]\n",
    "    avg_preds = avg_preds/num_trials\n",
    "    result = gl.SFrame({'topics':themes, 'average predictions':avg_preds})\n",
    "    result = result.sort('average predictions', ascending=False)\n",
    "    return result"
   ]
  },
  {
   "cell_type": "code",
   "execution_count": 42,
   "metadata": {
    "collapsed": false
   },
   "outputs": [
    {
     "name": "stdout",
     "output_type": "stream",
     "text": [
      "+---------------------+-------------------------------+\n",
      "| average predictions |             topics            |\n",
      "+---------------------+-------------------------------+\n",
      "|    0.594327956989   |        general politics       |\n",
      "|    0.137419354839   | American college and politics |\n",
      "|   0.0524462365591   |            Business           |\n",
      "|   0.0494623655914   |          team sports          |\n",
      "|   0.0400806451613   |      science and research     |\n",
      "|   0.0343279569892   |    international athletics    |\n",
      "|   0.0258602150538   |  Great Britain and Australia  |\n",
      "|   0.0237634408602   |       art and publishing      |\n",
      "|   0.0228494623656   |      international music      |\n",
      "|   0.0194623655914   |      music, TV, and film      |\n",
      "+---------------------+-------------------------------+\n",
      "[10 rows x 2 columns]\n",
      "\n"
     ]
    }
   ],
   "source": [
    "print average_predictions(topic_model, obama, 100)"
   ]
  },
  {
   "cell_type": "markdown",
   "metadata": {},
   "source": [
    "__Quiz Question:__ What is the topic most closely associated with the article about former US President George W. Bush? Use the average results from 100 topic predictions."
   ]
  },
  {
   "cell_type": "code",
   "execution_count": 52,
   "metadata": {
    "collapsed": false
   },
   "outputs": [
    {
     "name": "stdout",
     "output_type": "stream",
     "text": [
      "+---------------------+-------------------------------+\n",
      "| average predictions |             topics            |\n",
      "+---------------------+-------------------------------+\n",
      "|    0.431052631579   |        general politics       |\n",
      "|    0.189356725146   | American college and politics |\n",
      "|    0.101052631579   |            Business           |\n",
      "|   0.0584795321637   |      science and research     |\n",
      "|   0.0495321637427   |       art and publishing      |\n",
      "|   0.0457894736842   |          team sports          |\n",
      "|   0.0372222222222   |    international athletics    |\n",
      "|   0.0372222222222   |  Great Britain and Australia  |\n",
      "|   0.0295029239766   |      music, TV, and film      |\n",
      "|   0.0207894736842   |      international music      |\n",
      "+---------------------+-------------------------------+\n",
      "[10 rows x 2 columns]\n",
      "\n"
     ]
    }
   ],
   "source": [
    "print average_predictions(topic_model, gl.SArray([wiki_docs[int(np.where(wiki['name']=='George W. Bush')[0])]]), 100)"
   ]
  },
  {
   "cell_type": "markdown",
   "metadata": {},
   "source": [
    "__Quiz Question:__ What are the top 3 topics corresponding to the article about English football (soccer) player Steven Gerrard? Use the average results from 100 topic predictions."
   ]
  },
  {
   "cell_type": "code",
   "execution_count": 53,
   "metadata": {
    "collapsed": false
   },
   "outputs": [
    {
     "name": "stdout",
     "output_type": "stream",
     "text": [
      "+---------------------+-------------------------------+\n",
      "| average predictions |             topics            |\n",
      "+---------------------+-------------------------------+\n",
      "|        0.491        |          team sports          |\n",
      "|       0.16908       |  Great Britain and Australia  |\n",
      "|       0.13168       |    international athletics    |\n",
      "|       0.03604       |      international music      |\n",
      "|       0.03276       |        general politics       |\n",
      "|       0.03232       |      music, TV, and film      |\n",
      "|       0.02968       |            Business           |\n",
      "|       0.02736       |       art and publishing      |\n",
      "|       0.02564       | American college and politics |\n",
      "|       0.02444       |      science and research     |\n",
      "+---------------------+-------------------------------+\n",
      "[10 rows x 2 columns]\n",
      "\n"
     ]
    }
   ],
   "source": [
    "print average_predictions(topic_model, gl.SArray([wiki_docs[int(np.where(wiki['name']=='Steven Gerrard')[0])]]), 100)"
   ]
  },
  {
   "cell_type": "markdown",
   "metadata": {},
   "source": [
    "# Comparing LDA to nearest neighbors for document retrieval\n",
    "\n",
    "So far we have found that our topic model has learned some coherent topics, we have explored these topics as probability distributions over a vocabulary, and we have seen how individual documents in our Wikipedia data set are assigned to these topics in a way that corresponds with our expectations. \n",
    "\n",
    "In this section, we will use the predicted topic distribution as a representation of each document, similar to how we have previously represented documents by word count or TF-IDF. This gives us a way of computing distances between documents, so that we can run a nearest neighbors search for a given document based on its membership in the topics that we learned from LDA. We can contrast the results with those obtained by running nearest neighbors under the usual TF-IDF representation, an approach that we explored in a previous assignment. \n",
    "\n",
    "We'll start by creating the LDA topic distribution representation for each document:"
   ]
  },
  {
   "cell_type": "code",
   "execution_count": 43,
   "metadata": {
    "collapsed": false
   },
   "outputs": [],
   "source": [
    "wiki['lda'] = topic_model.predict(wiki_docs, output_type='probability')"
   ]
  },
  {
   "cell_type": "markdown",
   "metadata": {},
   "source": [
    "Next we add the TF-IDF document representations:"
   ]
  },
  {
   "cell_type": "code",
   "execution_count": 44,
   "metadata": {
    "collapsed": false
   },
   "outputs": [],
   "source": [
    "wiki['word_count'] = gl.text_analytics.count_words(wiki['text'])\n",
    "wiki['tf_idf'] = gl.text_analytics.tf_idf(wiki['word_count'])"
   ]
  },
  {
   "cell_type": "markdown",
   "metadata": {},
   "source": [
    "For each of our two different document representations, we can use GraphLab Create to compute a brute-force nearest neighbors model:"
   ]
  },
  {
   "cell_type": "code",
   "execution_count": 45,
   "metadata": {
    "collapsed": false
   },
   "outputs": [
    {
     "data": {
      "text/html": [
       "<pre>Starting brute force nearest neighbors model training.</pre>"
      ],
      "text/plain": [
       "Starting brute force nearest neighbors model training."
      ]
     },
     "metadata": {},
     "output_type": "display_data"
    },
    {
     "data": {
      "text/html": [
       "<pre>Starting brute force nearest neighbors model training.</pre>"
      ],
      "text/plain": [
       "Starting brute force nearest neighbors model training."
      ]
     },
     "metadata": {},
     "output_type": "display_data"
    }
   ],
   "source": [
    "model_tf_idf = gl.nearest_neighbors.create(wiki, label='name', features=['tf_idf'],\n",
    "                                           method='brute_force', distance='cosine')\n",
    "model_lda_rep = gl.nearest_neighbors.create(wiki, label='name', features=['lda'],\n",
    "                                            method='brute_force', distance='cosine')"
   ]
  },
  {
   "cell_type": "markdown",
   "metadata": {},
   "source": [
    "Let's compare these nearest neighbor models by finding the nearest neighbors under each representation on an example document. For this example we'll use Paul Krugman, an American economist:"
   ]
  },
  {
   "cell_type": "code",
   "execution_count": 46,
   "metadata": {
    "collapsed": false
   },
   "outputs": [
    {
     "data": {
      "text/html": [
       "<pre>Starting pairwise querying.</pre>"
      ],
      "text/plain": [
       "Starting pairwise querying."
      ]
     },
     "metadata": {},
     "output_type": "display_data"
    },
    {
     "data": {
      "text/html": [
       "<pre>+--------------+---------+-------------+--------------+</pre>"
      ],
      "text/plain": [
       "+--------------+---------+-------------+--------------+"
      ]
     },
     "metadata": {},
     "output_type": "display_data"
    },
    {
     "data": {
      "text/html": [
       "<pre>| Query points | # Pairs | % Complete. | Elapsed Time |</pre>"
      ],
      "text/plain": [
       "| Query points | # Pairs | % Complete. | Elapsed Time |"
      ]
     },
     "metadata": {},
     "output_type": "display_data"
    },
    {
     "data": {
      "text/html": [
       "<pre>+--------------+---------+-------------+--------------+</pre>"
      ],
      "text/plain": [
       "+--------------+---------+-------------+--------------+"
      ]
     },
     "metadata": {},
     "output_type": "display_data"
    },
    {
     "data": {
      "text/html": [
       "<pre>| 0            | 1       | 0.00169288  | 24.584ms     |</pre>"
      ],
      "text/plain": [
       "| 0            | 1       | 0.00169288  | 24.584ms     |"
      ]
     },
     "metadata": {},
     "output_type": "display_data"
    },
    {
     "data": {
      "text/html": [
       "<pre>| Done         |         | 100         | 575.164ms    |</pre>"
      ],
      "text/plain": [
       "| Done         |         | 100         | 575.164ms    |"
      ]
     },
     "metadata": {},
     "output_type": "display_data"
    },
    {
     "data": {
      "text/html": [
       "<pre>+--------------+---------+-------------+--------------+</pre>"
      ],
      "text/plain": [
       "+--------------+---------+-------------+--------------+"
      ]
     },
     "metadata": {},
     "output_type": "display_data"
    },
    {
     "data": {
      "text/html": [
       "<div style=\"max-height:1000px;max-width:1500px;overflow:auto;\"><table frame=\"box\" rules=\"cols\">\n",
       "    <tr>\n",
       "        <th style=\"padding-left: 1em; padding-right: 1em; text-align: center\">query_label</th>\n",
       "        <th style=\"padding-left: 1em; padding-right: 1em; text-align: center\">reference_label</th>\n",
       "        <th style=\"padding-left: 1em; padding-right: 1em; text-align: center\">distance</th>\n",
       "        <th style=\"padding-left: 1em; padding-right: 1em; text-align: center\">rank</th>\n",
       "    </tr>\n",
       "    <tr>\n",
       "        <td style=\"padding-left: 1em; padding-right: 1em; text-align: center; vertical-align: top\">Paul Krugman</td>\n",
       "        <td style=\"padding-left: 1em; padding-right: 1em; text-align: center; vertical-align: top\">Paul Krugman</td>\n",
       "        <td style=\"padding-left: 1em; padding-right: 1em; text-align: center; vertical-align: top\">0.0</td>\n",
       "        <td style=\"padding-left: 1em; padding-right: 1em; text-align: center; vertical-align: top\">1</td>\n",
       "    </tr>\n",
       "    <tr>\n",
       "        <td style=\"padding-left: 1em; padding-right: 1em; text-align: center; vertical-align: top\">Paul Krugman</td>\n",
       "        <td style=\"padding-left: 1em; padding-right: 1em; text-align: center; vertical-align: top\">Elise Brezis</td>\n",
       "        <td style=\"padding-left: 1em; padding-right: 1em; text-align: center; vertical-align: top\">0.744498017262</td>\n",
       "        <td style=\"padding-left: 1em; padding-right: 1em; text-align: center; vertical-align: top\">2</td>\n",
       "    </tr>\n",
       "    <tr>\n",
       "        <td style=\"padding-left: 1em; padding-right: 1em; text-align: center; vertical-align: top\">Paul Krugman</td>\n",
       "        <td style=\"padding-left: 1em; padding-right: 1em; text-align: center; vertical-align: top\">Maitreesh Ghatak</td>\n",
       "        <td style=\"padding-left: 1em; padding-right: 1em; text-align: center; vertical-align: top\">0.81564984831</td>\n",
       "        <td style=\"padding-left: 1em; padding-right: 1em; text-align: center; vertical-align: top\">3</td>\n",
       "    </tr>\n",
       "    <tr>\n",
       "        <td style=\"padding-left: 1em; padding-right: 1em; text-align: center; vertical-align: top\">Paul Krugman</td>\n",
       "        <td style=\"padding-left: 1em; padding-right: 1em; text-align: center; vertical-align: top\">Kai A. Konrad</td>\n",
       "        <td style=\"padding-left: 1em; padding-right: 1em; text-align: center; vertical-align: top\">0.823700564406</td>\n",
       "        <td style=\"padding-left: 1em; padding-right: 1em; text-align: center; vertical-align: top\">4</td>\n",
       "    </tr>\n",
       "    <tr>\n",
       "        <td style=\"padding-left: 1em; padding-right: 1em; text-align: center; vertical-align: top\">Paul Krugman</td>\n",
       "        <td style=\"padding-left: 1em; padding-right: 1em; text-align: center; vertical-align: top\">David Colander</td>\n",
       "        <td style=\"padding-left: 1em; padding-right: 1em; text-align: center; vertical-align: top\">0.834625927759</td>\n",
       "        <td style=\"padding-left: 1em; padding-right: 1em; text-align: center; vertical-align: top\">5</td>\n",
       "    </tr>\n",
       "    <tr>\n",
       "        <td style=\"padding-left: 1em; padding-right: 1em; text-align: center; vertical-align: top\">Paul Krugman</td>\n",
       "        <td style=\"padding-left: 1em; padding-right: 1em; text-align: center; vertical-align: top\">Richard Blundell</td>\n",
       "        <td style=\"padding-left: 1em; padding-right: 1em; text-align: center; vertical-align: top\">0.837934267874</td>\n",
       "        <td style=\"padding-left: 1em; padding-right: 1em; text-align: center; vertical-align: top\">6</td>\n",
       "    </tr>\n",
       "    <tr>\n",
       "        <td style=\"padding-left: 1em; padding-right: 1em; text-align: center; vertical-align: top\">Paul Krugman</td>\n",
       "        <td style=\"padding-left: 1em; padding-right: 1em; text-align: center; vertical-align: top\">Gordon Rausser</td>\n",
       "        <td style=\"padding-left: 1em; padding-right: 1em; text-align: center; vertical-align: top\">0.83941534706</td>\n",
       "        <td style=\"padding-left: 1em; padding-right: 1em; text-align: center; vertical-align: top\">7</td>\n",
       "    </tr>\n",
       "    <tr>\n",
       "        <td style=\"padding-left: 1em; padding-right: 1em; text-align: center; vertical-align: top\">Paul Krugman</td>\n",
       "        <td style=\"padding-left: 1em; padding-right: 1em; text-align: center; vertical-align: top\">Edward J. Nell</td>\n",
       "        <td style=\"padding-left: 1em; padding-right: 1em; text-align: center; vertical-align: top\">0.842178500015</td>\n",
       "        <td style=\"padding-left: 1em; padding-right: 1em; text-align: center; vertical-align: top\">8</td>\n",
       "    </tr>\n",
       "    <tr>\n",
       "        <td style=\"padding-left: 1em; padding-right: 1em; text-align: center; vertical-align: top\">Paul Krugman</td>\n",
       "        <td style=\"padding-left: 1em; padding-right: 1em; text-align: center; vertical-align: top\">Robin Boadway</td>\n",
       "        <td style=\"padding-left: 1em; padding-right: 1em; text-align: center; vertical-align: top\">0.842374260596</td>\n",
       "        <td style=\"padding-left: 1em; padding-right: 1em; text-align: center; vertical-align: top\">9</td>\n",
       "    </tr>\n",
       "    <tr>\n",
       "        <td style=\"padding-left: 1em; padding-right: 1em; text-align: center; vertical-align: top\">Paul Krugman</td>\n",
       "        <td style=\"padding-left: 1em; padding-right: 1em; text-align: center; vertical-align: top\">Tim Besley</td>\n",
       "        <td style=\"padding-left: 1em; padding-right: 1em; text-align: center; vertical-align: top\">0.843088109253</td>\n",
       "        <td style=\"padding-left: 1em; padding-right: 1em; text-align: center; vertical-align: top\">10</td>\n",
       "    </tr>\n",
       "</table>\n",
       "[10 rows x 4 columns]<br/>\n",
       "</div>"
      ],
      "text/plain": [
       "Columns:\n",
       "\tquery_label\tstr\n",
       "\treference_label\tstr\n",
       "\tdistance\tfloat\n",
       "\trank\tint\n",
       "\n",
       "Rows: 10\n",
       "\n",
       "Data:\n",
       "+--------------+------------------+----------------+------+\n",
       "| query_label  | reference_label  |    distance    | rank |\n",
       "+--------------+------------------+----------------+------+\n",
       "| Paul Krugman |   Paul Krugman   |      0.0       |  1   |\n",
       "| Paul Krugman |   Elise Brezis   | 0.744498017262 |  2   |\n",
       "| Paul Krugman | Maitreesh Ghatak | 0.81564984831  |  3   |\n",
       "| Paul Krugman |  Kai A. Konrad   | 0.823700564406 |  4   |\n",
       "| Paul Krugman |  David Colander  | 0.834625927759 |  5   |\n",
       "| Paul Krugman | Richard Blundell | 0.837934267874 |  6   |\n",
       "| Paul Krugman |  Gordon Rausser  | 0.83941534706  |  7   |\n",
       "| Paul Krugman |  Edward J. Nell  | 0.842178500015 |  8   |\n",
       "| Paul Krugman |  Robin Boadway   | 0.842374260596 |  9   |\n",
       "| Paul Krugman |    Tim Besley    | 0.843088109253 |  10  |\n",
       "+--------------+------------------+----------------+------+\n",
       "[10 rows x 4 columns]"
      ]
     },
     "execution_count": 46,
     "metadata": {},
     "output_type": "execute_result"
    }
   ],
   "source": [
    "model_tf_idf.query(wiki[wiki['name'] == 'Paul Krugman'], label='name', k=10)"
   ]
  },
  {
   "cell_type": "code",
   "execution_count": 47,
   "metadata": {
    "collapsed": false
   },
   "outputs": [
    {
     "data": {
      "text/html": [
       "<pre>Starting pairwise querying.</pre>"
      ],
      "text/plain": [
       "Starting pairwise querying."
      ]
     },
     "metadata": {},
     "output_type": "display_data"
    },
    {
     "data": {
      "text/html": [
       "<pre>+--------------+---------+-------------+--------------+</pre>"
      ],
      "text/plain": [
       "+--------------+---------+-------------+--------------+"
      ]
     },
     "metadata": {},
     "output_type": "display_data"
    },
    {
     "data": {
      "text/html": [
       "<pre>| Query points | # Pairs | % Complete. | Elapsed Time |</pre>"
      ],
      "text/plain": [
       "| Query points | # Pairs | % Complete. | Elapsed Time |"
      ]
     },
     "metadata": {},
     "output_type": "display_data"
    },
    {
     "data": {
      "text/html": [
       "<pre>+--------------+---------+-------------+--------------+</pre>"
      ],
      "text/plain": [
       "+--------------+---------+-------------+--------------+"
      ]
     },
     "metadata": {},
     "output_type": "display_data"
    },
    {
     "data": {
      "text/html": [
       "<pre>| 0            | 1       | 0.00169288  | 10.026ms     |</pre>"
      ],
      "text/plain": [
       "| 0            | 1       | 0.00169288  | 10.026ms     |"
      ]
     },
     "metadata": {},
     "output_type": "display_data"
    },
    {
     "data": {
      "text/html": [
       "<pre>| Done         |         | 100         | 57.894ms     |</pre>"
      ],
      "text/plain": [
       "| Done         |         | 100         | 57.894ms     |"
      ]
     },
     "metadata": {},
     "output_type": "display_data"
    },
    {
     "data": {
      "text/html": [
       "<pre>+--------------+---------+-------------+--------------+</pre>"
      ],
      "text/plain": [
       "+--------------+---------+-------------+--------------+"
      ]
     },
     "metadata": {},
     "output_type": "display_data"
    },
    {
     "data": {
      "text/html": [
       "<div style=\"max-height:1000px;max-width:1500px;overflow:auto;\"><table frame=\"box\" rules=\"cols\">\n",
       "    <tr>\n",
       "        <th style=\"padding-left: 1em; padding-right: 1em; text-align: center\">query_label</th>\n",
       "        <th style=\"padding-left: 1em; padding-right: 1em; text-align: center\">reference_label</th>\n",
       "        <th style=\"padding-left: 1em; padding-right: 1em; text-align: center\">distance</th>\n",
       "        <th style=\"padding-left: 1em; padding-right: 1em; text-align: center\">rank</th>\n",
       "    </tr>\n",
       "    <tr>\n",
       "        <td style=\"padding-left: 1em; padding-right: 1em; text-align: center; vertical-align: top\">Paul Krugman</td>\n",
       "        <td style=\"padding-left: 1em; padding-right: 1em; text-align: center; vertical-align: top\">Paul Krugman</td>\n",
       "        <td style=\"padding-left: 1em; padding-right: 1em; text-align: center; vertical-align: top\">0.0</td>\n",
       "        <td style=\"padding-left: 1em; padding-right: 1em; text-align: center; vertical-align: top\">1</td>\n",
       "    </tr>\n",
       "    <tr>\n",
       "        <td style=\"padding-left: 1em; padding-right: 1em; text-align: center; vertical-align: top\">Paul Krugman</td>\n",
       "        <td style=\"padding-left: 1em; padding-right: 1em; text-align: center; vertical-align: top\">Hoda Elsadda</td>\n",
       "        <td style=\"padding-left: 1em; padding-right: 1em; text-align: center; vertical-align: top\">0.0044628314929</td>\n",
       "        <td style=\"padding-left: 1em; padding-right: 1em; text-align: center; vertical-align: top\">2</td>\n",
       "    </tr>\n",
       "    <tr>\n",
       "        <td style=\"padding-left: 1em; padding-right: 1em; text-align: center; vertical-align: top\">Paul Krugman</td>\n",
       "        <td style=\"padding-left: 1em; padding-right: 1em; text-align: center; vertical-align: top\">Cleo Paskal</td>\n",
       "        <td style=\"padding-left: 1em; padding-right: 1em; text-align: center; vertical-align: top\">0.00667614308292</td>\n",
       "        <td style=\"padding-left: 1em; padding-right: 1em; text-align: center; vertical-align: top\">3</td>\n",
       "    </tr>\n",
       "    <tr>\n",
       "        <td style=\"padding-left: 1em; padding-right: 1em; text-align: center; vertical-align: top\">Paul Krugman</td>\n",
       "        <td style=\"padding-left: 1em; padding-right: 1em; text-align: center; vertical-align: top\">Nathan Widder</td>\n",
       "        <td style=\"padding-left: 1em; padding-right: 1em; text-align: center; vertical-align: top\">0.00869162496941</td>\n",
       "        <td style=\"padding-left: 1em; padding-right: 1em; text-align: center; vertical-align: top\">4</td>\n",
       "    </tr>\n",
       "    <tr>\n",
       "        <td style=\"padding-left: 1em; padding-right: 1em; text-align: center; vertical-align: top\">Paul Krugman</td>\n",
       "        <td style=\"padding-left: 1em; padding-right: 1em; text-align: center; vertical-align: top\">Krenar Gashi</td>\n",
       "        <td style=\"padding-left: 1em; padding-right: 1em; text-align: center; vertical-align: top\">0.0089857775206</td>\n",
       "        <td style=\"padding-left: 1em; padding-right: 1em; text-align: center; vertical-align: top\">5</td>\n",
       "    </tr>\n",
       "    <tr>\n",
       "        <td style=\"padding-left: 1em; padding-right: 1em; text-align: center; vertical-align: top\">Paul Krugman</td>\n",
       "        <td style=\"padding-left: 1em; padding-right: 1em; text-align: center; vertical-align: top\">Abdul-Nabi Isstaif</td>\n",
       "        <td style=\"padding-left: 1em; padding-right: 1em; text-align: center; vertical-align: top\">0.00909442496325</td>\n",
       "        <td style=\"padding-left: 1em; padding-right: 1em; text-align: center; vertical-align: top\">6</td>\n",
       "    </tr>\n",
       "    <tr>\n",
       "        <td style=\"padding-left: 1em; padding-right: 1em; text-align: center; vertical-align: top\">Paul Krugman</td>\n",
       "        <td style=\"padding-left: 1em; padding-right: 1em; text-align: center; vertical-align: top\">Hartry Field</td>\n",
       "        <td style=\"padding-left: 1em; padding-right: 1em; text-align: center; vertical-align: top\">0.00939353808136</td>\n",
       "        <td style=\"padding-left: 1em; padding-right: 1em; text-align: center; vertical-align: top\">7</td>\n",
       "    </tr>\n",
       "    <tr>\n",
       "        <td style=\"padding-left: 1em; padding-right: 1em; text-align: center; vertical-align: top\">Paul Krugman</td>\n",
       "        <td style=\"padding-left: 1em; padding-right: 1em; text-align: center; vertical-align: top\">Lene Auestad</td>\n",
       "        <td style=\"padding-left: 1em; padding-right: 1em; text-align: center; vertical-align: top\">0.00957217701416</td>\n",
       "        <td style=\"padding-left: 1em; padding-right: 1em; text-align: center; vertical-align: top\">8</td>\n",
       "    </tr>\n",
       "    <tr>\n",
       "        <td style=\"padding-left: 1em; padding-right: 1em; text-align: center; vertical-align: top\">Paul Krugman</td>\n",
       "        <td style=\"padding-left: 1em; padding-right: 1em; text-align: center; vertical-align: top\">Michael Scarce</td>\n",
       "        <td style=\"padding-left: 1em; padding-right: 1em; text-align: center; vertical-align: top\">0.0106135247808</td>\n",
       "        <td style=\"padding-left: 1em; padding-right: 1em; text-align: center; vertical-align: top\">9</td>\n",
       "    </tr>\n",
       "    <tr>\n",
       "        <td style=\"padding-left: 1em; padding-right: 1em; text-align: center; vertical-align: top\">Paul Krugman</td>\n",
       "        <td style=\"padding-left: 1em; padding-right: 1em; text-align: center; vertical-align: top\">Paul Nation</td>\n",
       "        <td style=\"padding-left: 1em; padding-right: 1em; text-align: center; vertical-align: top\">0.0110711954525</td>\n",
       "        <td style=\"padding-left: 1em; padding-right: 1em; text-align: center; vertical-align: top\">10</td>\n",
       "    </tr>\n",
       "</table>\n",
       "[10 rows x 4 columns]<br/>\n",
       "</div>"
      ],
      "text/plain": [
       "Columns:\n",
       "\tquery_label\tstr\n",
       "\treference_label\tstr\n",
       "\tdistance\tfloat\n",
       "\trank\tint\n",
       "\n",
       "Rows: 10\n",
       "\n",
       "Data:\n",
       "+--------------+--------------------+------------------+------+\n",
       "| query_label  |  reference_label   |     distance     | rank |\n",
       "+--------------+--------------------+------------------+------+\n",
       "| Paul Krugman |    Paul Krugman    |       0.0        |  1   |\n",
       "| Paul Krugman |    Hoda Elsadda    | 0.0044628314929  |  2   |\n",
       "| Paul Krugman |    Cleo Paskal     | 0.00667614308292 |  3   |\n",
       "| Paul Krugman |   Nathan Widder    | 0.00869162496941 |  4   |\n",
       "| Paul Krugman |    Krenar Gashi    | 0.0089857775206  |  5   |\n",
       "| Paul Krugman | Abdul-Nabi Isstaif | 0.00909442496325 |  6   |\n",
       "| Paul Krugman |    Hartry Field    | 0.00939353808136 |  7   |\n",
       "| Paul Krugman |    Lene Auestad    | 0.00957217701416 |  8   |\n",
       "| Paul Krugman |   Michael Scarce   | 0.0106135247808  |  9   |\n",
       "| Paul Krugman |    Paul Nation     | 0.0110711954525  |  10  |\n",
       "+--------------+--------------------+------------------+------+\n",
       "[10 rows x 4 columns]"
      ]
     },
     "execution_count": 47,
     "metadata": {},
     "output_type": "execute_result"
    }
   ],
   "source": [
    "model_lda_rep.query(wiki[wiki['name'] == 'Paul Krugman'], label='name', k=10)"
   ]
  },
  {
   "cell_type": "markdown",
   "metadata": {},
   "source": [
    "Notice that that there is no overlap between the two sets of top 10 nearest neighbors. This doesn't necessarily mean that one representation is better or worse than the other, but rather that they are picking out different features of the documents. \n",
    "\n",
    "With TF-IDF, documents are distinguished by the frequency of uncommon words. Since similarity is defined based on the specific words used in the document, documents that are \"close\" under TF-IDF tend to be similar in terms of specific details. This is what we see in the example: the top 10 nearest neighbors are all economists from the US, UK, or Canada. \n",
    "\n",
    "Our LDA representation, on the other hand, defines similarity between documents in terms of their topic distributions. This means that documents can be \"close\" if they share similar themes, even though they may not share many of the same keywords. For the article on Paul Krugman, we expect the most important topics to be 'American college and politics' and 'science and research'. As a result, we see that the top 10 nearest neighbors are academics from a wide variety of fields, including literature, anthropology, and religious studies.\n",
    "\n",
    "\n",
    "__Quiz Question:__ Using the TF-IDF representation, compute the 5000 nearest neighbors for American baseball player Alex Rodriguez. For what value of k is Mariano Rivera the k-th nearest neighbor to Alex Rodriguez? (Hint: Once you have a list of the nearest neighbors, you can use `mylist.index(value)` to find the index of the first instance of `value` in `mylist`.)\n",
    "\n",
    "__Quiz Question:__ Using the LDA representation, compute the 5000 nearest neighbors for American baseball player Alex Rodriguez. For what value of k is Mariano Rivera the k-th nearest neighbor to Alex Rodriguez? (Hint: Once you have a list of the nearest neighbors, you can use `mylist.index(value)` to find the index of the first instance of `value` in `mylist`.)"
   ]
  },
  {
   "cell_type": "code",
   "execution_count": 56,
   "metadata": {
    "collapsed": false
   },
   "outputs": [
    {
     "data": {
      "text/html": [
       "<pre>Starting pairwise querying.</pre>"
      ],
      "text/plain": [
       "Starting pairwise querying."
      ]
     },
     "metadata": {},
     "output_type": "display_data"
    },
    {
     "data": {
      "text/html": [
       "<pre>+--------------+---------+-------------+--------------+</pre>"
      ],
      "text/plain": [
       "+--------------+---------+-------------+--------------+"
      ]
     },
     "metadata": {},
     "output_type": "display_data"
    },
    {
     "data": {
      "text/html": [
       "<pre>| Query points | # Pairs | % Complete. | Elapsed Time |</pre>"
      ],
      "text/plain": [
       "| Query points | # Pairs | % Complete. | Elapsed Time |"
      ]
     },
     "metadata": {},
     "output_type": "display_data"
    },
    {
     "data": {
      "text/html": [
       "<pre>+--------------+---------+-------------+--------------+</pre>"
      ],
      "text/plain": [
       "+--------------+---------+-------------+--------------+"
      ]
     },
     "metadata": {},
     "output_type": "display_data"
    },
    {
     "data": {
      "text/html": [
       "<pre>| 0            | 1       | 0.00169288  | 14.212ms     |</pre>"
      ],
      "text/plain": [
       "| 0            | 1       | 0.00169288  | 14.212ms     |"
      ]
     },
     "metadata": {},
     "output_type": "display_data"
    },
    {
     "data": {
      "text/html": [
       "<pre>| Done         |         | 100         | 446.089ms    |</pre>"
      ],
      "text/plain": [
       "| Done         |         | 100         | 446.089ms    |"
      ]
     },
     "metadata": {},
     "output_type": "display_data"
    },
    {
     "data": {
      "text/html": [
       "<pre>+--------------+---------+-------------+--------------+</pre>"
      ],
      "text/plain": [
       "+--------------+---------+-------------+--------------+"
      ]
     },
     "metadata": {},
     "output_type": "display_data"
    },
    {
     "data": {
      "text/html": [
       "<pre>Starting pairwise querying.</pre>"
      ],
      "text/plain": [
       "Starting pairwise querying."
      ]
     },
     "metadata": {},
     "output_type": "display_data"
    },
    {
     "data": {
      "text/html": [
       "<pre>+--------------+---------+-------------+--------------+</pre>"
      ],
      "text/plain": [
       "+--------------+---------+-------------+--------------+"
      ]
     },
     "metadata": {},
     "output_type": "display_data"
    },
    {
     "data": {
      "text/html": [
       "<pre>| Query points | # Pairs | % Complete. | Elapsed Time |</pre>"
      ],
      "text/plain": [
       "| Query points | # Pairs | % Complete. | Elapsed Time |"
      ]
     },
     "metadata": {},
     "output_type": "display_data"
    },
    {
     "data": {
      "text/html": [
       "<pre>+--------------+---------+-------------+--------------+</pre>"
      ],
      "text/plain": [
       "+--------------+---------+-------------+--------------+"
      ]
     },
     "metadata": {},
     "output_type": "display_data"
    },
    {
     "data": {
      "text/html": [
       "<pre>| 0            | 1       | 0.00169288  | 6.218ms      |</pre>"
      ],
      "text/plain": [
       "| 0            | 1       | 0.00169288  | 6.218ms      |"
      ]
     },
     "metadata": {},
     "output_type": "display_data"
    },
    {
     "data": {
      "text/html": [
       "<pre>| Done         |         | 100         | 66.915ms     |</pre>"
      ],
      "text/plain": [
       "| Done         |         | 100         | 66.915ms     |"
      ]
     },
     "metadata": {},
     "output_type": "display_data"
    },
    {
     "data": {
      "text/html": [
       "<pre>+--------------+---------+-------------+--------------+</pre>"
      ],
      "text/plain": [
       "+--------------+---------+-------------+--------------+"
      ]
     },
     "metadata": {},
     "output_type": "display_data"
    }
   ],
   "source": [
    "m_tf_idf = model_tf_idf.query(wiki[wiki['name'] == 'Alex Rodriguez'], label='name', k=5000)\n",
    "m_lds = model_lda_rep.query(wiki[wiki['name'] == 'Alex Rodriguez'], label='name', k=5000)"
   ]
  },
  {
   "cell_type": "code",
   "execution_count": 61,
   "metadata": {
    "collapsed": false
   },
   "outputs": [
    {
     "name": "stdout",
     "output_type": "stream",
     "text": [
      "+----------------+-----------------+----------------+------+\n",
      "|  query_label   | reference_label |    distance    | rank |\n",
      "+----------------+-----------------+----------------+------+\n",
      "| Alex Rodriguez |  Mariano Rivera | 0.835848608513 |  53  |\n",
      "+----------------+-----------------+----------------+------+\n",
      "[? rows x 4 columns]\n",
      "Note: Only the head of the SFrame is printed. This SFrame is lazily evaluated.\n",
      "You can use sf.materialize() to force materialization.\n",
      "+----------------+-----------------+-----------------+------+\n",
      "|  query_label   | reference_label |     distance    | rank |\n",
      "+----------------+-----------------+-----------------+------+\n",
      "| Alex Rodriguez |  Mariano Rivera | 0.0182194052708 | 716  |\n",
      "+----------------+-----------------+-----------------+------+\n",
      "[? rows x 4 columns]\n",
      "Note: Only the head of the SFrame is printed. This SFrame is lazily evaluated.\n",
      "You can use sf.materialize() to force materialization.\n"
     ]
    }
   ],
   "source": [
    "print m_tf_idf[m_tf_idf['reference_label']=='Mariano Rivera']\n",
    "print m_lds[m_lds['reference_label']=='Mariano Rivera']"
   ]
  },
  {
   "cell_type": "markdown",
   "metadata": {},
   "source": [
    "# Understanding the role of LDA model hyperparameters\n",
    "\n",
    "Finally, we'll take a look at the effect of the LDA model hyperparameters alpha and gamma on the characteristics of our fitted model. Recall that alpha is a parameter of the prior distribution over topic weights in each document, while gamma is a parameter of the prior distribution over word weights in each topic. \n",
    "\n",
    "In the video lectures, we saw that alpha and gamma can be thought of as smoothing parameters when we compute how much each document \"likes\" a topic (in the case of alpha) or how much each topic \"likes\" a word (in the case of gamma). In both cases, these parameters serve to reduce the differences across topics or words in terms of these calculated preferences; alpha makes the document preferences \"smoother\" over topics, and gamma makes the topic preferences \"smoother\" over words.\n",
    "\n",
    "Our goal in this section will be to understand how changing these parameter values affects the characteristics of the resulting topic model.\n",
    "\n",
    "__Quiz Question:__ What was the value of alpha used to fit our original topic model? "
   ]
  },
  {
   "cell_type": "code",
   "execution_count": 62,
   "metadata": {
    "collapsed": false
   },
   "outputs": [
    {
     "data": {
      "text/plain": [
       "Class                          : TopicModel\n",
       "\n",
       "Schema\n",
       "------\n",
       "Vocabulary Size                : 547462\n",
       "\n",
       "Settings\n",
       "--------\n",
       "Number of Topics               : 10\n",
       "alpha                          : 5.0\n",
       "beta                           : 0.1\n",
       "Iterations                     : 200\n",
       "Training time                  : 363.9111\n",
       "Verbose                        : False\n",
       "\n",
       "Accessible fields             : \n",
       "m['topics']                   : An SFrame containing the topics.\n",
       "m['vocabulary']               : An SArray containing the words in the vocabulary.\n",
       "Useful methods                : \n",
       "m.get_topics()                : Get the most probable words per topic.\n",
       "m.predict(new_docs)           : Make predictions for new documents."
      ]
     },
     "execution_count": 62,
     "metadata": {},
     "output_type": "execute_result"
    }
   ],
   "source": [
    "topic_model"
   ]
  },
  {
   "cell_type": "markdown",
   "metadata": {},
   "source": [
    "__Quiz Question:__ What was the value of gamma used to fit our original topic model? Remember that GraphLab Create uses \"beta\" instead of \"gamma\" to refer to the hyperparameter that influences topic distributions over words."
   ]
  },
  {
   "cell_type": "markdown",
   "metadata": {},
   "source": [
    "We'll start by loading some topic models that have been trained using different settings of alpha and gamma. Specifically, we will start by comparing the following two models to our original topic model:\n",
    " - tpm_low_alpha, a model trained with alpha = 1 and default gamma\n",
    " - tpm_high_alpha, a model trained with alpha = 50 and default gamma"
   ]
  },
  {
   "cell_type": "code",
   "execution_count": 80,
   "metadata": {
    "collapsed": true
   },
   "outputs": [],
   "source": [
    "tpm_low_alpha = gl.load_model('lda_low_alpha')\n",
    "tpm_high_alpha = gl.load_model('lda_high_alpha')"
   ]
  },
  {
   "cell_type": "markdown",
   "metadata": {},
   "source": [
    "### Changing the hyperparameter alpha\n",
    "\n",
    "Since alpha is responsible for smoothing document preferences over topics, the impact of changing its value should be visible when we plot the distribution of topic weights for the same document under models fit with different alpha values. In the code below, we plot the (sorted) topic weights for the Wikipedia article on Barack Obama under models fit with high, original, and low settings of alpha."
   ]
  },
  {
   "cell_type": "code",
   "execution_count": 49,
   "metadata": {
    "collapsed": false
   },
   "outputs": [
    {
     "name": "stderr",
     "output_type": "stream",
     "text": [
      "/home/praveen/anaconda/lib/python2.7/site-packages/matplotlib/axes/_axes.py:475: UserWarning: No labelled objects found. Use label='...' kwarg on individual plots.\n",
      "  warnings.warn(\"No labelled objects found. \"\n"
     ]
    },
    {
     "data": {
      "image/png": "[encoded data removed]",
      "text/plain": [
       "<matplotlib.figure.Figure at 0x7f2975500250>"
      ]
     },
     "metadata": {},
     "output_type": "display_data"
    }
   ],
   "source": [
    "a = np.sort(tpm_low_alpha.predict(obama,output_type='probability')[0])[::-1]\n",
    "b = np.sort(topic_model.predict(obama,output_type='probability')[0])[::-1]\n",
    "c = np.sort(tpm_high_alpha.predict(obama,output_type='probability')[0])[::-1]\n",
    "ind = np.arange(len(a))\n",
    "width = 0.3\n",
    "\n",
    "def param_bar_plot(a,b,c,ind,width,ylim,param,xlab,ylab):\n",
    "    fig = plt.figure()\n",
    "    ax = fig.add_subplot(111)\n",
    "\n",
    "    b1 = ax.bar(ind, a, width, color='lightskyblue')\n",
    "    b2 = ax.bar(ind+width, b, width, color='lightcoral')\n",
    "    b3 = ax.bar(ind+(2*width), c, width, color='gold')\n",
    "\n",
    "    ax.set_xticks(ind+width)\n",
    "    ax.set_xticklabels(range(10))\n",
    "    ax.set_ylabel(ylab)\n",
    "    ax.set_xlabel(xlab)\n",
    "    ax.set_ylim(0,ylim)\n",
    "    ax.legend(handles = [b1,b2,b3],labels=['low '+param,'original model','high '+param])\n",
    "\n",
    "    plt.tight_layout()\n",
    "    \n",
    "param_bar_plot(a,b,c,ind,width,ylim=1.0,param='alpha',\n",
    "               xlab='Topics (sorted by weight of top 100 words)',ylab='Topic Probability for Obama Article')"
   ]
  },
  {
   "cell_type": "markdown",
   "metadata": {},
   "source": [
    "Here we can clearly see the smoothing enforced by the alpha parameter - notice that when alpha is low most of the weight in the topic distribution for this article goes to a single topic, but when alpha is high the weight is much more evenly distributed across the topics.\n",
    "\n",
    "__Quiz Question:__ How many topics are assigned a weight greater than 0.3 or less than 0.05 for the article on Paul Krugman in the **low alpha** model?  Use the average results from 100 topic predictions."
   ]
  },
  {
   "cell_type": "code",
   "execution_count": 81,
   "metadata": {
    "collapsed": false
   },
   "outputs": [
    {
     "data": {
      "text/plain": [
       "8"
      ]
     },
     "execution_count": 81,
     "metadata": {},
     "output_type": "execute_result"
    }
   ],
   "source": [
    "x = average_predictions(tpm_low_alpha, gl.SArray([wiki_docs[int(np.where(wiki['name']=='Paul Krugman')[0])]]), 100)\n",
    "sum((x['average predictions']>0.3) | (x['average predictions']<0.05))"
   ]
  },
  {
   "cell_type": "markdown",
   "metadata": {},
   "source": [
    "__Quiz Question:__ How many topics are assigned a weight greater than 0.3 or less than 0.05 for the article on Paul Krugman in the **high alpha** model? Use the average results from 100 topic predictions."
   ]
  },
  {
   "cell_type": "code",
   "execution_count": 82,
   "metadata": {
    "collapsed": false
   },
   "outputs": [
    {
     "data": {
      "text/plain": [
       "2"
      ]
     },
     "execution_count": 82,
     "metadata": {},
     "output_type": "execute_result"
    }
   ],
   "source": [
    "x = average_predictions(tpm_high_alpha, gl.SArray([wiki_docs[int(np.where(wiki['name']=='Paul Krugman')[0])]]), 100)\n",
    "sum((x['average predictions']>0.3) | (x['average predictions']<0.05))"
   ]
  },
  {
   "cell_type": "markdown",
   "metadata": {},
   "source": [
    "### Changing the hyperparameter gamma\n",
    "\n",
    "Just as we were able to see the effect of alpha by plotting topic weights for a document, we expect to be able to visualize the impact of changing gamma by plotting word weights for each topic. In this case, however, there are far too many words in our vocabulary to do this effectively. Instead, we'll plot the total weight of the top 100 words and bottom 1000 words for each topic. Below, we plot the (sorted) total weights of the top 100 words and bottom 1000 from each topic in the high, original, and low gamma models."
   ]
  },
  {
   "cell_type": "markdown",
   "metadata": {},
   "source": [
    "Now we will consider the following two models:\n",
    " - tpm_low_gamma, a model trained with gamma = 0.02 and default alpha\n",
    " - tpm_high_gamma, a model trained with gamma = 0.5 and default alpha"
   ]
  },
  {
   "cell_type": "code",
   "execution_count": 50,
   "metadata": {
    "collapsed": true
   },
   "outputs": [],
   "source": [
    "del tpm_low_alpha\n",
    "del tpm_high_alpha\n",
    "tpm_low_gamma = gl.load_model('lda_low_gamma')\n",
    "tpm_high_gamma = gl.load_model('lda_high_gamma')"
   ]
  },
  {
   "cell_type": "code",
   "execution_count": 51,
   "metadata": {
    "collapsed": false
   },
   "outputs": [
    {
     "data": {
      "image/png": "[encoded data removed]",
      "text/plain": [
       "<matplotlib.figure.Figure at 0x7f299c094e10>"
      ]
     },
     "metadata": {},
     "output_type": "display_data"
    },
    {
     "data": {
      "image/png": "[encoded data removed]",
      "text/plain": [
       "<matplotlib.figure.Figure at 0x7f299c344690>"
      ]
     },
     "metadata": {},
     "output_type": "display_data"
    }
   ],
   "source": [
    "a_top = np.sort([sum(tpm_low_gamma.get_topics(topic_ids=[i], num_words=100)['score']) for i in range(10)])[::-1]\n",
    "b_top = np.sort([sum(topic_model.get_topics(topic_ids=[i], num_words=100)['score']) for i in range(10)])[::-1]\n",
    "c_top = np.sort([sum(tpm_high_gamma.get_topics(topic_ids=[i], num_words=100)['score']) for i in range(10)])[::-1]\n",
    "\n",
    "a_bot = np.sort([sum(tpm_low_gamma.get_topics(topic_ids=[i], num_words=547462)[-1000:]['score']) for i in range(10)])[::-1]\n",
    "b_bot = np.sort([sum(topic_model.get_topics(topic_ids=[i], num_words=547462)[-1000:]['score']) for i in range(10)])[::-1]\n",
    "c_bot = np.sort([sum(tpm_high_gamma.get_topics(topic_ids=[i], num_words=547462)[-1000:]['score']) for i in range(10)])[::-1]\n",
    "\n",
    "ind = np.arange(len(a))\n",
    "width = 0.3\n",
    "    \n",
    "param_bar_plot(a_top, b_top, c_top, ind, width, ylim=0.6, param='gamma',\n",
    "               xlab='Topics (sorted by weight of top 100 words)', \n",
    "               ylab='Total Probability of Top 100 Words')\n",
    "\n",
    "param_bar_plot(a_bot, b_bot, c_bot, ind, width, ylim=0.0002, param='gamma',\n",
    "               xlab='Topics (sorted by weight of bottom 1000 words)',\n",
    "               ylab='Total Probability of Bottom 1000 Words')"
   ]
  },
  {
   "cell_type": "markdown",
   "metadata": {
    "collapsed": true
   },
   "source": [
    "From these two plots we can see that the low gamma model results in higher weight placed on the top words and lower weight placed on the bottom words for each topic, while the high gamma model places relatively less weight on the top words and more weight on the bottom words. Thus increasing gamma results in topics that have a smoother distribution of weight across all the words in the vocabulary."
   ]
  },
  {
   "cell_type": "markdown",
   "metadata": {},
   "source": [
    "__Quiz Question:__ For each topic of the **low gamma model**, compute the number of words required to make a list with total probability 0.5. What is the average number of words required across all topics? (HINT: use the get_topics() function from GraphLab Create with the _cdf_\\__cutoff_ argument)."
   ]
  },
  {
   "cell_type": "code",
   "execution_count": 100,
   "metadata": {
    "collapsed": false
   },
   "outputs": [
    {
     "name": "stdout",
     "output_type": "stream",
     "text": [
      "252\n"
     ]
    }
   ],
   "source": [
    "avg = 0\n",
    "for i in xrange(10):\n",
    "    avg += len(tpm_low_gamma.get_topics(topic_ids=[i], num_words=547462, cdf_cutoff=0.5))\n",
    "print avg/10"
   ]
  },
  {
   "cell_type": "markdown",
   "metadata": {},
   "source": [
    "__Quiz Question:__ For each topic of the **high gamma model**, compute the number of words required to make a list with total probability 0.5. What is the average number of words required across all topics? (HINT: use the get_topics() function from GraphLab Create with the _cdf_\\__cutoff_ argument)."
   ]
  },
  {
   "cell_type": "code",
   "execution_count": 97,
   "metadata": {
    "collapsed": false
   },
   "outputs": [
    {
     "name": "stdout",
     "output_type": "stream",
     "text": [
      "576\n"
     ]
    }
   ],
   "source": [
    "avg = 0\n",
    "for i in xrange(10):\n",
    "    avg += len(tpm_high_gamma.get_topics(topic_ids=[i], num_words=547462, cdf_cutoff=0.5))\n",
    "print avg/10"
   ]
  },
  {
   "cell_type": "raw",
   "metadata": {},
   "source": [
    "We have now seen how the hyperparameters alpha and gamma influence the characteristics of our LDA topic model, but we haven't said anything about what settings of alpha or gamma are best. We know that these parameters are responsible for controlling the smoothness of the topic distributions for documents and word distributions for topics, but there's no simple conversion between smoothness of these distributions and quality of the topic model. In reality, there is no universally \"best\" choice for these parameters. Instead, finding a good topic model requires that we be able to both explore the output (as we did by looking at the topics and checking some topic predictions for documents) and understand the impact of hyperparameter settings (as we have in this section)."
   ]
  },
  {
   "cell_type": "code",
   "execution_count": null,
   "metadata": {
    "collapsed": true
   },
   "outputs": [],
   "source": []
  }
 ],
 "metadata": {
  "kernelspec": {
   "display_name": "Python 2",
   "language": "python",
   "name": "python2"
  },
  "language_info": {
   "codemirror_mode": {
    "name": "ipython",
    "version": 2
   },
   "file_extension": ".py",
   "mimetype": "text/x-python",
   "name": "python",
   "nbconvert_exporter": "python",
   "pygments_lexer": "ipython2",
   "version": "2.7.12"
  }
 },
 "nbformat": 4,
 "nbformat_minor": 0
}
